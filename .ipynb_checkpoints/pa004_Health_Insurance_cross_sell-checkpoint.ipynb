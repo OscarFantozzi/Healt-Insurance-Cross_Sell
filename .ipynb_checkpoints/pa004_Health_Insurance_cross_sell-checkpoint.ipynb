{
 "cells": [
  {
   "cell_type": "markdown",
   "id": "d8579add",
   "metadata": {},
   "source": [
    "# 0.0 Imports"
   ]
  },
  {
   "cell_type": "code",
   "execution_count": 140,
   "id": "67d4f6e2",
   "metadata": {
    "ExecuteTime": {
     "end_time": "2024-02-17T11:05:38.801772Z",
     "start_time": "2024-02-17T11:05:38.761203Z"
    }
   },
   "outputs": [
    {
     "ename": "ModuleNotFoundError",
     "evalue": "No module named 'requests'",
     "output_type": "error",
     "traceback": [
      "\u001b[1;31m---------------------------------------------------------------------------\u001b[0m",
      "\u001b[1;31mModuleNotFoundError\u001b[0m                       Traceback (most recent call last)",
      "Cell \u001b[1;32mIn[140], line 7\u001b[0m\n\u001b[0;32m      5\u001b[0m \u001b[38;5;28;01mimport\u001b[39;00m \u001b[38;5;21;01mpickle\u001b[39;00m\n\u001b[0;32m      6\u001b[0m \u001b[38;5;28;01mimport\u001b[39;00m \u001b[38;5;21;01mos\u001b[39;00m\n\u001b[1;32m----> 7\u001b[0m \u001b[38;5;28;01mimport\u001b[39;00m \u001b[38;5;21;01mrequests\u001b[39;00m\n\u001b[0;32m      9\u001b[0m \u001b[38;5;28;01mfrom\u001b[39;00m \u001b[38;5;21;01msklearn\u001b[39;00m\u001b[38;5;21;01m.\u001b[39;00m\u001b[38;5;21;01mmetrics\u001b[39;00m \u001b[38;5;28;01mimport\u001b[39;00m roc_curve\n\u001b[0;32m     10\u001b[0m \u001b[38;5;28;01mfrom\u001b[39;00m \u001b[38;5;21;01msklearn\u001b[39;00m\u001b[38;5;21;01m.\u001b[39;00m\u001b[38;5;21;01mmetrics\u001b[39;00m \u001b[38;5;28;01mimport\u001b[39;00m confusion_matrix\n",
      "\u001b[1;31mModuleNotFoundError\u001b[0m: No module named 'requests'"
     ]
    }
   ],
   "source": [
    "import pandas     as pd\n",
    "import numpy      as np\n",
    "import seaborn    as sns\n",
    "import scikitplot as skplt\n",
    "import pickle\n",
    "import os\n",
    "\n",
    "from sklearn.metrics import roc_curve\n",
    "from sklearn.metrics import confusion_matrix\n",
    "from matplotlib      import pyplot          as plt\n",
    "from sklearn         import preprocessing   as pp\n",
    "from sklearn         import model_selection as ms\n",
    "from sklearn         import ensemble        as en\n",
    "from sklearn         import neighbors       as nh\n",
    "from sklearn         import linear_model    as lm\n"
   ]
  },
  {
   "cell_type": "markdown",
   "id": "1aa34516",
   "metadata": {},
   "source": [
    "# 0.1 Loading Dataset"
   ]
  },
  {
   "cell_type": "code",
   "execution_count": 50,
   "id": "017513f8",
   "metadata": {
    "ExecuteTime": {
     "end_time": "2024-02-17T10:24:22.480924Z",
     "start_time": "2024-02-17T10:24:22.037513Z"
    }
   },
   "outputs": [
    {
     "data": {
      "text/html": [
       "<div>\n",
       "<style scoped>\n",
       "    .dataframe tbody tr th:only-of-type {\n",
       "        vertical-align: middle;\n",
       "    }\n",
       "\n",
       "    .dataframe tbody tr th {\n",
       "        vertical-align: top;\n",
       "    }\n",
       "\n",
       "    .dataframe thead th {\n",
       "        text-align: right;\n",
       "    }\n",
       "</style>\n",
       "<table border=\"1\" class=\"dataframe\">\n",
       "  <thead>\n",
       "    <tr style=\"text-align: right;\">\n",
       "      <th></th>\n",
       "      <th>id</th>\n",
       "      <th>gender</th>\n",
       "      <th>age</th>\n",
       "      <th>region_code</th>\n",
       "      <th>policy_sales_channel</th>\n",
       "      <th>previously_insured</th>\n",
       "      <th>annual_premium</th>\n",
       "      <th>vintage</th>\n",
       "      <th>response</th>\n",
       "      <th>driving_license</th>\n",
       "      <th>vehicle_age</th>\n",
       "      <th>vehicle_damage</th>\n",
       "    </tr>\n",
       "  </thead>\n",
       "  <tbody>\n",
       "    <tr>\n",
       "      <th>143003</th>\n",
       "      <td>1</td>\n",
       "      <td>Male</td>\n",
       "      <td>44</td>\n",
       "      <td>28.0</td>\n",
       "      <td>26.0</td>\n",
       "      <td>0</td>\n",
       "      <td>40454.0</td>\n",
       "      <td>217</td>\n",
       "      <td>1</td>\n",
       "      <td>1</td>\n",
       "      <td>&gt; 2 Years</td>\n",
       "      <td>Yes</td>\n",
       "    </tr>\n",
       "    <tr>\n",
       "      <th>286227</th>\n",
       "      <td>2</td>\n",
       "      <td>Male</td>\n",
       "      <td>76</td>\n",
       "      <td>3.0</td>\n",
       "      <td>26.0</td>\n",
       "      <td>0</td>\n",
       "      <td>33536.0</td>\n",
       "      <td>183</td>\n",
       "      <td>0</td>\n",
       "      <td>1</td>\n",
       "      <td>1-2 Year</td>\n",
       "      <td>No</td>\n",
       "    </tr>\n",
       "    <tr>\n",
       "      <th>143004</th>\n",
       "      <td>3</td>\n",
       "      <td>Male</td>\n",
       "      <td>47</td>\n",
       "      <td>28.0</td>\n",
       "      <td>26.0</td>\n",
       "      <td>0</td>\n",
       "      <td>38294.0</td>\n",
       "      <td>27</td>\n",
       "      <td>1</td>\n",
       "      <td>1</td>\n",
       "      <td>&gt; 2 Years</td>\n",
       "      <td>Yes</td>\n",
       "    </tr>\n",
       "    <tr>\n",
       "      <th>190848</th>\n",
       "      <td>4</td>\n",
       "      <td>Male</td>\n",
       "      <td>21</td>\n",
       "      <td>11.0</td>\n",
       "      <td>152.0</td>\n",
       "      <td>1</td>\n",
       "      <td>28619.0</td>\n",
       "      <td>203</td>\n",
       "      <td>0</td>\n",
       "      <td>1</td>\n",
       "      <td>&lt; 1 Year</td>\n",
       "      <td>No</td>\n",
       "    </tr>\n",
       "    <tr>\n",
       "      <th>238464</th>\n",
       "      <td>5</td>\n",
       "      <td>Female</td>\n",
       "      <td>29</td>\n",
       "      <td>41.0</td>\n",
       "      <td>152.0</td>\n",
       "      <td>1</td>\n",
       "      <td>27496.0</td>\n",
       "      <td>39</td>\n",
       "      <td>0</td>\n",
       "      <td>1</td>\n",
       "      <td>&lt; 1 Year</td>\n",
       "      <td>No</td>\n",
       "    </tr>\n",
       "  </tbody>\n",
       "</table>\n",
       "</div>"
      ],
      "text/plain": [
       "        id  gender  age  region_code  policy_sales_channel  \\\n",
       "143003   1    Male   44         28.0                  26.0   \n",
       "286227   2    Male   76          3.0                  26.0   \n",
       "143004   3    Male   47         28.0                  26.0   \n",
       "190848   4    Male   21         11.0                 152.0   \n",
       "238464   5  Female   29         41.0                 152.0   \n",
       "\n",
       "        previously_insured  annual_premium  vintage  response  \\\n",
       "143003                   0         40454.0      217         1   \n",
       "286227                   0         33536.0      183         0   \n",
       "143004                   0         38294.0       27         1   \n",
       "190848                   1         28619.0      203         0   \n",
       "238464                   1         27496.0       39         0   \n",
       "\n",
       "        driving_license vehicle_age vehicle_damage  \n",
       "143003                1   > 2 Years            Yes  \n",
       "286227                1    1-2 Year             No  \n",
       "143004                1   > 2 Years            Yes  \n",
       "190848                1    < 1 Year             No  \n",
       "238464                1    < 1 Year             No  "
      ]
     },
     "execution_count": 50,
     "metadata": {},
     "output_type": "execute_result"
    }
   ],
   "source": [
    "df_raw = pd.read_csv( 'data/insurance_data.csv' ).sort_values( by = 'id' )\n",
    "df_raw.head()"
   ]
  },
  {
   "cell_type": "markdown",
   "id": "fd580d9a",
   "metadata": {},
   "source": [
    "# 1.0 Data Description"
   ]
  },
  {
   "cell_type": "markdown",
   "id": "3bd68bec",
   "metadata": {
    "ExecuteTime": {
     "end_time": "2024-02-07T19:51:35.239757Z",
     "start_time": "2024-02-07T19:51:35.218705Z"
    }
   },
   "source": [
    "* <b>id:</b> Identificador único para cada cliente ou entrada no DataFrame. Geralmente é um número sequencial que não contém informações significativas além de servir como chave primária.\n",
    "\n",
    "\n",
    "* <b>gender:</b> Categoria de gênero do cliente. Esta coluna contém os valores  'Male', 'Female'\n",
    "\n",
    "\n",
    "* <b>age:</b> Idade do cliente em anos. Esta é uma variável quantitativa que indica a idade do cliente.\n",
    "\n",
    "\n",
    "* <b>region_code:</b> Código numérico que representa uma área geográfica específica, como um estado ou região. Os códigos são únicos para cada área e são usados para agrupar clientes por localização geográfica.\n",
    "\n",
    "\n",
    "* <b>policy_sales_channel:</b> Código numérico que representa o canal de vendas através do qual a política de seguro foi adquirida. Por exemplo, isso pode indicar se a política foi comprada online, através de um agente, por telefone, etc.\n",
    "\n",
    "\n",
    "* <b>previously_insured:</b> Indica se o cliente já tinha um seguro antes de adquirir este (1 para sim e 0 para não). Esta é uma variável binária/indicadora.\n",
    "\n",
    "\n",
    "* <b>annual_premium:</b> Valor do prêmio do seguro que o cliente precisa pagar anualmente. É uma variável contínua que representa quanto o cliente gasta com o seguro por ano.\n",
    "\n",
    "\n",
    "* <b>vintage:</b> O número de dias que o cliente tem estado associado com a companhia de seguros. Isso poderia indicar a duração do relacionamento do cliente com a seguradora.\n",
    "\n",
    "\n",
    "* <b>response:</b> Indica se o cliente respondeu positivamente (1) ou não (0) a uma oferta de seguro. É a variável resposta que queremos prever.\n",
    "\n",
    "\n",
    "* <b>driving_license:</b> Mostra se o cliente possui ou não uma carteira de motorista (1 para sim e 0 para não). Outra variável binária/indicadora.\n",
    "\n",
    "\n",
    "* <b>vehicle_age:</b> Categoria que indica a idade do veículo do cliente. Pode ser representada em faixas, como '0-2 anos', '2-4 anos', 'mais de 4 anos', etc.\n",
    "\n",
    "\n",
    "* <b>vehicle_damage:</b> Indica se o veículo do cliente sofreu algum dano no passado (com 'Sim' para dano e 'Não' para nenhum dano). Isso pode ser relevante para avaliar o risco e a propensão para adquirir um seguro.\n"
   ]
  },
  {
   "cell_type": "code",
   "execution_count": 51,
   "id": "8199caeb",
   "metadata": {
    "ExecuteTime": {
     "end_time": "2024-02-17T10:24:22.512193Z",
     "start_time": "2024-02-17T10:24:22.482927Z"
    }
   },
   "outputs": [],
   "source": [
    "df1 = df_raw.copy()"
   ]
  },
  {
   "cell_type": "markdown",
   "id": "ff2e7947",
   "metadata": {
    "ExecuteTime": {
     "end_time": "2023-05-01T11:45:36.360095Z",
     "start_time": "2023-05-01T11:45:36.353113Z"
    }
   },
   "source": [
    "## 1.1 Data Dimension"
   ]
  },
  {
   "cell_type": "code",
   "execution_count": 52,
   "id": "434b404d",
   "metadata": {
    "ExecuteTime": {
     "end_time": "2024-02-17T10:24:22.528114Z",
     "start_time": "2024-02-17T10:24:22.517145Z"
    }
   },
   "outputs": [
    {
     "name": "stdout",
     "output_type": "stream",
     "text": [
      "Numbers of rows 381109\n",
      "Numbers of columns 12\n"
     ]
    }
   ],
   "source": [
    "print( 'Numbers of rows {}'.format( df1.shape[0] ) )\n",
    "print( 'Numbers of columns {}'.format( df1.shape[1] ) )"
   ]
  },
  {
   "cell_type": "markdown",
   "id": "f195dd15",
   "metadata": {},
   "source": [
    "## 1.2 Data Types"
   ]
  },
  {
   "cell_type": "code",
   "execution_count": 53,
   "id": "4c2b52fc",
   "metadata": {
    "ExecuteTime": {
     "end_time": "2024-02-17T10:24:22.544073Z",
     "start_time": "2024-02-17T10:24:22.530109Z"
    }
   },
   "outputs": [
    {
     "data": {
      "text/plain": [
       "id                        int64\n",
       "gender                   object\n",
       "age                       int64\n",
       "region_code             float64\n",
       "policy_sales_channel    float64\n",
       "previously_insured        int64\n",
       "annual_premium          float64\n",
       "vintage                   int64\n",
       "response                  int64\n",
       "driving_license           int64\n",
       "vehicle_age              object\n",
       "vehicle_damage           object\n",
       "dtype: object"
      ]
     },
     "execution_count": 53,
     "metadata": {},
     "output_type": "execute_result"
    }
   ],
   "source": [
    "df1.dtypes"
   ]
  },
  {
   "cell_type": "markdown",
   "id": "d6dacd1e",
   "metadata": {},
   "source": [
    "## 1.3 Check NA\n"
   ]
  },
  {
   "cell_type": "code",
   "execution_count": 54,
   "id": "87c4ae51",
   "metadata": {
    "ExecuteTime": {
     "end_time": "2024-02-17T10:24:22.620669Z",
     "start_time": "2024-02-17T10:24:22.547083Z"
    }
   },
   "outputs": [
    {
     "data": {
      "text/plain": [
       "id                      0\n",
       "gender                  0\n",
       "age                     0\n",
       "region_code             0\n",
       "policy_sales_channel    0\n",
       "previously_insured      0\n",
       "annual_premium          0\n",
       "vintage                 0\n",
       "response                0\n",
       "driving_license         0\n",
       "vehicle_age             0\n",
       "vehicle_damage          0\n",
       "dtype: int64"
      ]
     },
     "execution_count": 54,
     "metadata": {},
     "output_type": "execute_result"
    }
   ],
   "source": [
    "df1.isna().sum()"
   ]
  },
  {
   "cell_type": "markdown",
   "id": "0af53fa4",
   "metadata": {},
   "source": [
    "## 1.4 Data Descriptive"
   ]
  },
  {
   "cell_type": "code",
   "execution_count": 55,
   "id": "c1d2831d",
   "metadata": {
    "ExecuteTime": {
     "end_time": "2024-02-17T10:24:22.652542Z",
     "start_time": "2024-02-17T10:24:22.622623Z"
    }
   },
   "outputs": [],
   "source": [
    "# separo em categoricos e numéricos\n",
    "num_attributes = df1.select_dtypes( include = ['int64', 'float64']  )\n",
    "cat_attributes = df1.select_dtypes( exclude = ['int64','float64','datetime64[ns]'] )"
   ]
  },
  {
   "cell_type": "code",
   "execution_count": 56,
   "id": "5579f5f5",
   "metadata": {
    "ExecuteTime": {
     "end_time": "2024-02-17T10:24:22.683752Z",
     "start_time": "2024-02-17T10:24:22.656536Z"
    }
   },
   "outputs": [],
   "source": [
    "def data_descriptive( df ):\n",
    "    # Central tendency - mean, median\n",
    "    ct1 = pd.DataFrame( df.apply( np.mean ) ).T # calculado a media das colunas -- aplica em todas colunas\n",
    "    ct2 = pd.DataFrame( df.apply( np.median) ).T # calculando a mediana\n",
    "\n",
    "    # Dispersion - std, min, max, range, skew, kurtosis\n",
    "    d1 = pd.DataFrame( df.apply( np.std ) ).T # calculando o std \n",
    "    d2 = pd.DataFrame( df.apply( np.min ) ).T # calculando o min\n",
    "    d3 = pd.DataFrame( df.apply( np.max ) ).T # calculando o max\n",
    "    d4 = pd.DataFrame( df.apply( lambda x: x.max() - x.min()  ) ).T # calcula o range\n",
    "    d5 = pd.DataFrame( df.apply( lambda x: x.skew() ) ).T # calcula o skew\n",
    "    d6 = pd.DataFrame( df.apply( lambda x: x.kurtosis() ) ).T # calcula o kurtosis\n",
    "\n",
    "    # concatenate\n",
    "    m = pd.concat( [d2,d3,d4,ct1,ct2,d1,d5,d6] ).T.reset_index()\n",
    "    m.columns = ['features','min','max','range','mean','median','std','skew','kurtosis'] \n",
    "    return m"
   ]
  },
  {
   "cell_type": "code",
   "execution_count": 57,
   "id": "6830e745",
   "metadata": {
    "ExecuteTime": {
     "end_time": "2024-02-17T10:24:22.936525Z",
     "start_time": "2024-02-17T10:24:22.686814Z"
    }
   },
   "outputs": [
    {
     "data": {
      "text/html": [
       "<div>\n",
       "<style scoped>\n",
       "    .dataframe tbody tr th:only-of-type {\n",
       "        vertical-align: middle;\n",
       "    }\n",
       "\n",
       "    .dataframe tbody tr th {\n",
       "        vertical-align: top;\n",
       "    }\n",
       "\n",
       "    .dataframe thead th {\n",
       "        text-align: right;\n",
       "    }\n",
       "</style>\n",
       "<table border=\"1\" class=\"dataframe\">\n",
       "  <thead>\n",
       "    <tr style=\"text-align: right;\">\n",
       "      <th></th>\n",
       "      <th>features</th>\n",
       "      <th>min</th>\n",
       "      <th>max</th>\n",
       "      <th>range</th>\n",
       "      <th>mean</th>\n",
       "      <th>median</th>\n",
       "      <th>std</th>\n",
       "      <th>skew</th>\n",
       "      <th>kurtosis</th>\n",
       "    </tr>\n",
       "  </thead>\n",
       "  <tbody>\n",
       "    <tr>\n",
       "      <th>0</th>\n",
       "      <td>id</td>\n",
       "      <td>1.0</td>\n",
       "      <td>381109.0</td>\n",
       "      <td>381108.0</td>\n",
       "      <td>190555.000000</td>\n",
       "      <td>190555.0</td>\n",
       "      <td>110016.691870</td>\n",
       "      <td>9.443274e-16</td>\n",
       "      <td>-1.200000</td>\n",
       "    </tr>\n",
       "    <tr>\n",
       "      <th>1</th>\n",
       "      <td>age</td>\n",
       "      <td>20.0</td>\n",
       "      <td>85.0</td>\n",
       "      <td>65.0</td>\n",
       "      <td>38.822584</td>\n",
       "      <td>36.0</td>\n",
       "      <td>15.511591</td>\n",
       "      <td>6.725390e-01</td>\n",
       "      <td>-0.565655</td>\n",
       "    </tr>\n",
       "    <tr>\n",
       "      <th>2</th>\n",
       "      <td>region_code</td>\n",
       "      <td>0.0</td>\n",
       "      <td>52.0</td>\n",
       "      <td>52.0</td>\n",
       "      <td>26.388807</td>\n",
       "      <td>28.0</td>\n",
       "      <td>13.229871</td>\n",
       "      <td>-1.152664e-01</td>\n",
       "      <td>-0.867857</td>\n",
       "    </tr>\n",
       "    <tr>\n",
       "      <th>3</th>\n",
       "      <td>policy_sales_channel</td>\n",
       "      <td>1.0</td>\n",
       "      <td>163.0</td>\n",
       "      <td>162.0</td>\n",
       "      <td>112.034295</td>\n",
       "      <td>133.0</td>\n",
       "      <td>54.203924</td>\n",
       "      <td>-9.000081e-01</td>\n",
       "      <td>-0.970810</td>\n",
       "    </tr>\n",
       "    <tr>\n",
       "      <th>4</th>\n",
       "      <td>previously_insured</td>\n",
       "      <td>0.0</td>\n",
       "      <td>1.0</td>\n",
       "      <td>1.0</td>\n",
       "      <td>0.458210</td>\n",
       "      <td>0.0</td>\n",
       "      <td>0.498251</td>\n",
       "      <td>1.677471e-01</td>\n",
       "      <td>-1.971871</td>\n",
       "    </tr>\n",
       "    <tr>\n",
       "      <th>5</th>\n",
       "      <td>annual_premium</td>\n",
       "      <td>2630.0</td>\n",
       "      <td>540165.0</td>\n",
       "      <td>537535.0</td>\n",
       "      <td>30564.389581</td>\n",
       "      <td>31669.0</td>\n",
       "      <td>17213.132474</td>\n",
       "      <td>1.766087e+00</td>\n",
       "      <td>34.004569</td>\n",
       "    </tr>\n",
       "    <tr>\n",
       "      <th>6</th>\n",
       "      <td>vintage</td>\n",
       "      <td>10.0</td>\n",
       "      <td>299.0</td>\n",
       "      <td>289.0</td>\n",
       "      <td>154.347397</td>\n",
       "      <td>154.0</td>\n",
       "      <td>83.671194</td>\n",
       "      <td>3.029517e-03</td>\n",
       "      <td>-1.200688</td>\n",
       "    </tr>\n",
       "    <tr>\n",
       "      <th>7</th>\n",
       "      <td>response</td>\n",
       "      <td>0.0</td>\n",
       "      <td>1.0</td>\n",
       "      <td>1.0</td>\n",
       "      <td>0.122563</td>\n",
       "      <td>0.0</td>\n",
       "      <td>0.327935</td>\n",
       "      <td>2.301906e+00</td>\n",
       "      <td>3.298788</td>\n",
       "    </tr>\n",
       "    <tr>\n",
       "      <th>8</th>\n",
       "      <td>driving_license</td>\n",
       "      <td>0.0</td>\n",
       "      <td>1.0</td>\n",
       "      <td>1.0</td>\n",
       "      <td>0.997869</td>\n",
       "      <td>1.0</td>\n",
       "      <td>0.046109</td>\n",
       "      <td>-2.159518e+01</td>\n",
       "      <td>464.354302</td>\n",
       "    </tr>\n",
       "  </tbody>\n",
       "</table>\n",
       "</div>"
      ],
      "text/plain": [
       "               features     min       max     range           mean    median  \\\n",
       "0                    id     1.0  381109.0  381108.0  190555.000000  190555.0   \n",
       "1                   age    20.0      85.0      65.0      38.822584      36.0   \n",
       "2           region_code     0.0      52.0      52.0      26.388807      28.0   \n",
       "3  policy_sales_channel     1.0     163.0     162.0     112.034295     133.0   \n",
       "4    previously_insured     0.0       1.0       1.0       0.458210       0.0   \n",
       "5        annual_premium  2630.0  540165.0  537535.0   30564.389581   31669.0   \n",
       "6               vintage    10.0     299.0     289.0     154.347397     154.0   \n",
       "7              response     0.0       1.0       1.0       0.122563       0.0   \n",
       "8       driving_license     0.0       1.0       1.0       0.997869       1.0   \n",
       "\n",
       "             std          skew    kurtosis  \n",
       "0  110016.691870  9.443274e-16   -1.200000  \n",
       "1      15.511591  6.725390e-01   -0.565655  \n",
       "2      13.229871 -1.152664e-01   -0.867857  \n",
       "3      54.203924 -9.000081e-01   -0.970810  \n",
       "4       0.498251  1.677471e-01   -1.971871  \n",
       "5   17213.132474  1.766087e+00   34.004569  \n",
       "6      83.671194  3.029517e-03   -1.200688  \n",
       "7       0.327935  2.301906e+00    3.298788  \n",
       "8       0.046109 -2.159518e+01  464.354302  "
      ]
     },
     "execution_count": 57,
     "metadata": {},
     "output_type": "execute_result"
    }
   ],
   "source": [
    "data_descriptive( num_attributes )"
   ]
  },
  {
   "cell_type": "markdown",
   "id": "35fca6e9",
   "metadata": {},
   "source": [
    "# 2.0 Feature Engineering"
   ]
  },
  {
   "cell_type": "code",
   "execution_count": 58,
   "id": "9c07566a",
   "metadata": {
    "ExecuteTime": {
     "end_time": "2024-02-17T10:24:22.968594Z",
     "start_time": "2024-02-17T10:24:22.940515Z"
    }
   },
   "outputs": [],
   "source": [
    "df2 = df1.copy()"
   ]
  },
  {
   "cell_type": "code",
   "execution_count": 59,
   "id": "5fe28ef3",
   "metadata": {
    "ExecuteTime": {
     "end_time": "2024-02-17T10:24:23.203018Z",
     "start_time": "2024-02-17T10:24:22.971586Z"
    }
   },
   "outputs": [
    {
     "data": {
      "text/html": [
       "<div>\n",
       "<style scoped>\n",
       "    .dataframe tbody tr th:only-of-type {\n",
       "        vertical-align: middle;\n",
       "    }\n",
       "\n",
       "    .dataframe tbody tr th {\n",
       "        vertical-align: top;\n",
       "    }\n",
       "\n",
       "    .dataframe thead th {\n",
       "        text-align: right;\n",
       "    }\n",
       "</style>\n",
       "<table border=\"1\" class=\"dataframe\">\n",
       "  <thead>\n",
       "    <tr style=\"text-align: right;\">\n",
       "      <th></th>\n",
       "      <th>id</th>\n",
       "      <th>gender</th>\n",
       "      <th>age</th>\n",
       "      <th>region_code</th>\n",
       "      <th>policy_sales_channel</th>\n",
       "      <th>previously_insured</th>\n",
       "      <th>annual_premium</th>\n",
       "      <th>vintage</th>\n",
       "      <th>response</th>\n",
       "      <th>driving_license</th>\n",
       "      <th>vehicle_age</th>\n",
       "      <th>vehicle_damage</th>\n",
       "    </tr>\n",
       "  </thead>\n",
       "  <tbody>\n",
       "    <tr>\n",
       "      <th>143003</th>\n",
       "      <td>1</td>\n",
       "      <td>Male</td>\n",
       "      <td>44</td>\n",
       "      <td>28.0</td>\n",
       "      <td>26.0</td>\n",
       "      <td>0</td>\n",
       "      <td>40454.0</td>\n",
       "      <td>217</td>\n",
       "      <td>1</td>\n",
       "      <td>1</td>\n",
       "      <td>over_2_years</td>\n",
       "      <td>1</td>\n",
       "    </tr>\n",
       "    <tr>\n",
       "      <th>286227</th>\n",
       "      <td>2</td>\n",
       "      <td>Male</td>\n",
       "      <td>76</td>\n",
       "      <td>3.0</td>\n",
       "      <td>26.0</td>\n",
       "      <td>0</td>\n",
       "      <td>33536.0</td>\n",
       "      <td>183</td>\n",
       "      <td>0</td>\n",
       "      <td>1</td>\n",
       "      <td>between_1_2_years</td>\n",
       "      <td>0</td>\n",
       "    </tr>\n",
       "    <tr>\n",
       "      <th>143004</th>\n",
       "      <td>3</td>\n",
       "      <td>Male</td>\n",
       "      <td>47</td>\n",
       "      <td>28.0</td>\n",
       "      <td>26.0</td>\n",
       "      <td>0</td>\n",
       "      <td>38294.0</td>\n",
       "      <td>27</td>\n",
       "      <td>1</td>\n",
       "      <td>1</td>\n",
       "      <td>over_2_years</td>\n",
       "      <td>1</td>\n",
       "    </tr>\n",
       "    <tr>\n",
       "      <th>190848</th>\n",
       "      <td>4</td>\n",
       "      <td>Male</td>\n",
       "      <td>21</td>\n",
       "      <td>11.0</td>\n",
       "      <td>152.0</td>\n",
       "      <td>1</td>\n",
       "      <td>28619.0</td>\n",
       "      <td>203</td>\n",
       "      <td>0</td>\n",
       "      <td>1</td>\n",
       "      <td>below_1_year</td>\n",
       "      <td>0</td>\n",
       "    </tr>\n",
       "    <tr>\n",
       "      <th>238464</th>\n",
       "      <td>5</td>\n",
       "      <td>Female</td>\n",
       "      <td>29</td>\n",
       "      <td>41.0</td>\n",
       "      <td>152.0</td>\n",
       "      <td>1</td>\n",
       "      <td>27496.0</td>\n",
       "      <td>39</td>\n",
       "      <td>0</td>\n",
       "      <td>1</td>\n",
       "      <td>below_1_year</td>\n",
       "      <td>0</td>\n",
       "    </tr>\n",
       "  </tbody>\n",
       "</table>\n",
       "</div>"
      ],
      "text/plain": [
       "        id  gender  age  region_code  policy_sales_channel  \\\n",
       "143003   1    Male   44         28.0                  26.0   \n",
       "286227   2    Male   76          3.0                  26.0   \n",
       "143004   3    Male   47         28.0                  26.0   \n",
       "190848   4    Male   21         11.0                 152.0   \n",
       "238464   5  Female   29         41.0                 152.0   \n",
       "\n",
       "        previously_insured  annual_premium  vintage  response  \\\n",
       "143003                   0         40454.0      217         1   \n",
       "286227                   0         33536.0      183         0   \n",
       "143004                   0         38294.0       27         1   \n",
       "190848                   1         28619.0      203         0   \n",
       "238464                   1         27496.0       39         0   \n",
       "\n",
       "        driving_license        vehicle_age  vehicle_damage  \n",
       "143003                1       over_2_years               1  \n",
       "286227                1  between_1_2_years               0  \n",
       "143004                1       over_2_years               1  \n",
       "190848                1       below_1_year               0  \n",
       "238464                1       below_1_year               0  "
      ]
     },
     "execution_count": 59,
     "metadata": {},
     "output_type": "execute_result"
    }
   ],
   "source": [
    "# vehicle_age\n",
    "df2['vehicle_age'] = df2['vehicle_age'].apply( lambda x: 'over_2_years' if x == '> 2 Years' else 'between_1_2_years' \n",
    "                                                                        if x == '1-2 Year' else 'below_1_year')\n",
    "# vehicle_damage\n",
    "df2['vehicle_damage'] = df2['vehicle_damage'].apply( lambda x : 1 if x == 'Yes' else 0 )\n",
    "df2.head()"
   ]
  },
  {
   "cell_type": "markdown",
   "id": "24c12715",
   "metadata": {},
   "source": [
    "# 3.0 Data Filtering"
   ]
  },
  {
   "cell_type": "code",
   "execution_count": 60,
   "id": "cb028321",
   "metadata": {
    "ExecuteTime": {
     "end_time": "2024-02-17T10:24:23.266847Z",
     "start_time": "2024-02-17T10:24:23.206012Z"
    }
   },
   "outputs": [],
   "source": [
    "df3 = df2.copy()"
   ]
  },
  {
   "cell_type": "markdown",
   "id": "f20006c4",
   "metadata": {},
   "source": [
    "# 4.0 EDA"
   ]
  },
  {
   "cell_type": "code",
   "execution_count": 61,
   "id": "ccce968d",
   "metadata": {
    "ExecuteTime": {
     "end_time": "2024-02-17T10:24:23.299061Z",
     "start_time": "2024-02-17T10:24:23.271834Z"
    }
   },
   "outputs": [],
   "source": [
    "df4 = df3.copy()"
   ]
  },
  {
   "cell_type": "markdown",
   "id": "549468cf",
   "metadata": {},
   "source": [
    "## 4.1 Univariate Analysis"
   ]
  },
  {
   "cell_type": "code",
   "execution_count": 62,
   "id": "5f6253d1",
   "metadata": {
    "ExecuteTime": {
     "end_time": "2024-02-17T10:24:24.041213Z",
     "start_time": "2024-02-17T10:24:23.301754Z"
    }
   },
   "outputs": [
    {
     "name": "stdout",
     "output_type": "stream",
     "text": [
      "Pela mediana pessoas mais velhas tem mais interesse em comprar o seguro.\n"
     ]
    },
    {
     "data": {
      "image/png": "[encoded data removed]",
      "text/plain": [
       "<Figure size 640x480 with 1 Axes>"
      ]
     },
     "metadata": {},
     "output_type": "display_data"
    }
   ],
   "source": [
    "# age - vejo como está o comportamento baseado na idade\n",
    "sns.boxplot( x = 'response', y = 'age', data = df4 )\n",
    "\n",
    "print( 'Pela mediana pessoas mais velhas tem mais interesse em comprar o seguro.' )"
   ]
  },
  {
   "cell_type": "code",
   "execution_count": 63,
   "id": "423c4e90",
   "metadata": {
    "ExecuteTime": {
     "end_time": "2024-02-17T10:24:24.544879Z",
     "start_time": "2024-02-17T10:24:24.043183Z"
    }
   },
   "outputs": [
    {
     "data": {
      "text/plain": [
       "<Axes: xlabel='age', ylabel='Count'>"
      ]
     },
     "execution_count": 63,
     "metadata": {},
     "output_type": "execute_result"
    },
    {
     "data": {
      "image/png": "[encoded data removed]",
      "text/plain": [
       "<Figure size 640x480 with 1 Axes>"
      ]
     },
     "metadata": {},
     "output_type": "display_data"
    }
   ],
   "source": [
    "# pessoas que não tem interesse em comprar seguro\n",
    "aux00 = df4.loc[ df4['response'] == 0 , 'age']\n",
    "sns.histplot( aux00 )"
   ]
  },
  {
   "cell_type": "code",
   "execution_count": 64,
   "id": "3f54bd77",
   "metadata": {
    "ExecuteTime": {
     "end_time": "2024-02-17T10:24:24.856546Z",
     "start_time": "2024-02-17T10:24:24.546836Z"
    },
    "hide_input": false
   },
   "outputs": [
    {
     "data": {
      "text/plain": [
       "<Axes: xlabel='age', ylabel='Count'>"
      ]
     },
     "execution_count": 64,
     "metadata": {},
     "output_type": "execute_result"
    },
    {
     "data": {
      "image/png": "[encoded data removed]",
      "text/plain": [
       "<Figure size 640x480 with 1 Axes>"
      ]
     },
     "metadata": {},
     "output_type": "display_data"
    }
   ],
   "source": [
    "# pessoas que tem interesse em comprar seguro\n",
    "aux00 = df4.loc[ df4['response'] == 1 , 'age']\n",
    "sns.histplot( aux00 )"
   ]
  },
  {
   "cell_type": "markdown",
   "id": "f191a3ec",
   "metadata": {},
   "source": [
    "#### Analisando a distribuição, percebo que a <b>classe 0</b> - não interessado - tem uma representatividade maior (25.000) que a de interesados <b>classe 1</b> (1.750)."
   ]
  },
  {
   "cell_type": "code",
   "execution_count": 65,
   "id": "89bc7355",
   "metadata": {
    "ExecuteTime": {
     "end_time": "2024-02-17T10:24:25.676191Z",
     "start_time": "2024-02-17T10:24:24.858498Z"
    }
   },
   "outputs": [
    {
     "data": {
      "text/plain": [
       "<Axes: xlabel='response', ylabel='annual_premium'>"
      ]
     },
     "execution_count": 65,
     "metadata": {},
     "output_type": "execute_result"
    },
    {
     "data": {
      "image/png": "[encoded data removed]",
      "text/plain": [
       "<Figure size 640x480 with 1 Axes>"
      ]
     },
     "metadata": {},
     "output_type": "display_data"
    }
   ],
   "source": [
    "# annual_premium \n",
    "df_aux = df4.loc[ df4['annual_premium'] < 80000, : ]\n",
    "sns.boxplot( x = 'response', y = 'annual_premium', data = df_aux  )"
   ]
  },
  {
   "cell_type": "code",
   "execution_count": 66,
   "id": "c08fff63",
   "metadata": {
    "ExecuteTime": {
     "end_time": "2024-02-17T10:24:26.444355Z",
     "start_time": "2024-02-17T10:24:25.678147Z"
    }
   },
   "outputs": [
    {
     "data": {
      "text/plain": [
       "<Axes: xlabel='annual_premium', ylabel='Count'>"
      ]
     },
     "execution_count": 66,
     "metadata": {},
     "output_type": "execute_result"
    },
    {
     "data": {
      "image/png": "[encoded data removed]",
      "text/plain": [
       "<Figure size 640x480 with 1 Axes>"
      ]
     },
     "metadata": {},
     "output_type": "display_data"
    }
   ],
   "source": [
    "# verifico a distribuição\n",
    "df_aux = df4.loc[ (df4['annual_premium'] > 10000) & (df4['annual_premium'] < 80000), : ]\n",
    "aux00 = df_aux.loc[ df4['response'] == 0 , 'annual_premium']\n",
    "sns.histplot( aux00 )"
   ]
  },
  {
   "cell_type": "code",
   "execution_count": 67,
   "id": "ec17cbcf",
   "metadata": {
    "ExecuteTime": {
     "end_time": "2024-02-17T10:24:26.763149Z",
     "start_time": "2024-02-17T10:24:26.446350Z"
    }
   },
   "outputs": [
    {
     "data": {
      "text/plain": [
       "<Axes: xlabel='annual_premium', ylabel='Count'>"
      ]
     },
     "execution_count": 67,
     "metadata": {},
     "output_type": "execute_result"
    },
    {
     "data": {
      "image/png": "[encoded data removed]",
      "text/plain": [
       "<Figure size 640x480 with 1 Axes>"
      ]
     },
     "metadata": {},
     "output_type": "display_data"
    }
   ],
   "source": [
    "# verifico a distribuição\n",
    "aux00 = df_aux.loc[ df4['response'] == 1 , 'annual_premium']\n",
    "sns.histplot( aux00 )"
   ]
  },
  {
   "cell_type": "code",
   "execution_count": 68,
   "id": "89b68db9",
   "metadata": {
    "ExecuteTime": {
     "end_time": "2024-02-17T10:24:26.920472Z",
     "start_time": "2024-02-17T10:24:26.765155Z"
    }
   },
   "outputs": [
    {
     "data": {
      "text/plain": [
       "<Axes: xlabel='response', ylabel='driving_license'>"
      ]
     },
     "execution_count": 68,
     "metadata": {},
     "output_type": "execute_result"
    },
    {
     "data": {
      "image/png": "[encoded data removed]",
      "text/plain": [
       "<Figure size 640x480 with 1 Axes>"
      ]
     },
     "metadata": {},
     "output_type": "display_data"
    }
   ],
   "source": [
    "# driving_license\n",
    "aux = df4[[ 'driving_license', 'response' ]].groupby( by = 'response' ).sum().reset_index()\n",
    "sns.barplot( x = 'response', y = 'driving_license', data = aux )"
   ]
  },
  {
   "cell_type": "code",
   "execution_count": 69,
   "id": "5e87e15b",
   "metadata": {
    "ExecuteTime": {
     "end_time": "2024-02-17T10:24:26.935460Z",
     "start_time": "2024-02-17T10:24:26.922496Z"
    }
   },
   "outputs": [
    {
     "data": {
      "text/html": [
       "<div>\n",
       "<style scoped>\n",
       "    .dataframe tbody tr th:only-of-type {\n",
       "        vertical-align: middle;\n",
       "    }\n",
       "\n",
       "    .dataframe tbody tr th {\n",
       "        vertical-align: top;\n",
       "    }\n",
       "\n",
       "    .dataframe thead th {\n",
       "        text-align: right;\n",
       "    }\n",
       "</style>\n",
       "<table border=\"1\" class=\"dataframe\">\n",
       "  <thead>\n",
       "    <tr style=\"text-align: right;\">\n",
       "      <th></th>\n",
       "      <th>response</th>\n",
       "      <th>driving_license</th>\n",
       "      <th>driving_license_perc</th>\n",
       "    </tr>\n",
       "  </thead>\n",
       "  <tbody>\n",
       "    <tr>\n",
       "      <th>0</th>\n",
       "      <td>0</td>\n",
       "      <td>333628</td>\n",
       "      <td>0.877283</td>\n",
       "    </tr>\n",
       "    <tr>\n",
       "      <th>1</th>\n",
       "      <td>1</td>\n",
       "      <td>46669</td>\n",
       "      <td>0.122717</td>\n",
       "    </tr>\n",
       "  </tbody>\n",
       "</table>\n",
       "</div>"
      ],
      "text/plain": [
       "   response  driving_license  driving_license_perc\n",
       "0         0           333628              0.877283\n",
       "1         1            46669              0.122717"
      ]
     },
     "execution_count": 69,
     "metadata": {},
     "output_type": "execute_result"
    }
   ],
   "source": [
    "# driving_license em %\n",
    "aux['driving_license_perc'] = aux['driving_license'] / aux['driving_license'].sum() \n",
    "aux"
   ]
  },
  {
   "cell_type": "code",
   "execution_count": 70,
   "id": "cab83fe5",
   "metadata": {
    "ExecuteTime": {
     "end_time": "2024-02-17T10:24:27.171048Z",
     "start_time": "2024-02-17T10:24:26.938451Z"
    }
   },
   "outputs": [
    {
     "data": {
      "text/plain": [
       "<Axes: xlabel='region_code', ylabel='id'>"
      ]
     },
     "execution_count": 70,
     "metadata": {},
     "output_type": "execute_result"
    },
    {
     "data": {
      "image/png": "[encoded data removed]",
      "text/plain": [
       "<Figure size 640x480 with 1 Axes>"
      ]
     },
     "metadata": {},
     "output_type": "display_data"
    }
   ],
   "source": [
    "# region_code\n",
    "aux0 = df4[['id','region_code','response']].groupby( by = ['region_code','response'] ).count().reset_index()\n",
    "sns.scatterplot( x = 'region_code', y = 'id', hue = 'response', data = aux0 )"
   ]
  },
  {
   "cell_type": "code",
   "execution_count": 71,
   "id": "ac6c35ca",
   "metadata": {
    "ExecuteTime": {
     "end_time": "2024-02-17T10:24:27.234534Z",
     "start_time": "2024-02-17T10:24:27.173995Z"
    }
   },
   "outputs": [
    {
     "data": {
      "text/html": [
       "<div>\n",
       "<style scoped>\n",
       "    .dataframe tbody tr th:only-of-type {\n",
       "        vertical-align: middle;\n",
       "    }\n",
       "\n",
       "    .dataframe tbody tr th {\n",
       "        vertical-align: top;\n",
       "    }\n",
       "\n",
       "    .dataframe thead th {\n",
       "        text-align: right;\n",
       "    }\n",
       "</style>\n",
       "<table border=\"1\" class=\"dataframe\">\n",
       "  <thead>\n",
       "    <tr style=\"text-align: right;\">\n",
       "      <th>response</th>\n",
       "      <th>0</th>\n",
       "      <th>1</th>\n",
       "    </tr>\n",
       "    <tr>\n",
       "      <th>previously_insured</th>\n",
       "      <th></th>\n",
       "      <th></th>\n",
       "    </tr>\n",
       "  </thead>\n",
       "  <tbody>\n",
       "    <tr>\n",
       "      <th>0</th>\n",
       "      <td>0.774546</td>\n",
       "      <td>0.225454</td>\n",
       "    </tr>\n",
       "    <tr>\n",
       "      <th>1</th>\n",
       "      <td>0.999095</td>\n",
       "      <td>0.000905</td>\n",
       "    </tr>\n",
       "  </tbody>\n",
       "</table>\n",
       "</div>"
      ],
      "text/plain": [
       "response                   0         1\n",
       "previously_insured                    \n",
       "0                   0.774546  0.225454\n",
       "1                   0.999095  0.000905"
      ]
     },
     "execution_count": 71,
     "metadata": {},
     "output_type": "execute_result"
    }
   ],
   "source": [
    "# previously_insured\n",
    "pd.crosstab( df4['previously_insured'], df4['response'] ).apply( lambda x: x / x.sum(), axis = 1 )"
   ]
  },
  {
   "cell_type": "code",
   "execution_count": 72,
   "id": "0f7b646e",
   "metadata": {
    "ExecuteTime": {
     "end_time": "2024-02-17T10:24:27.313260Z",
     "start_time": "2024-02-17T10:24:27.235536Z"
    }
   },
   "outputs": [
    {
     "data": {
      "text/html": [
       "<div>\n",
       "<style scoped>\n",
       "    .dataframe tbody tr th:only-of-type {\n",
       "        vertical-align: middle;\n",
       "    }\n",
       "\n",
       "    .dataframe tbody tr th {\n",
       "        vertical-align: top;\n",
       "    }\n",
       "\n",
       "    .dataframe thead th {\n",
       "        text-align: right;\n",
       "    }\n",
       "</style>\n",
       "<table border=\"1\" class=\"dataframe\">\n",
       "  <thead>\n",
       "    <tr style=\"text-align: right;\">\n",
       "      <th></th>\n",
       "      <th>vehicle_age</th>\n",
       "      <th>response</th>\n",
       "      <th>proportion</th>\n",
       "    </tr>\n",
       "  </thead>\n",
       "  <tbody>\n",
       "    <tr>\n",
       "      <th>1</th>\n",
       "      <td>below_1_year</td>\n",
       "      <td>0</td>\n",
       "      <td>0.413488</td>\n",
       "    </tr>\n",
       "    <tr>\n",
       "      <th>4</th>\n",
       "      <td>below_1_year</td>\n",
       "      <td>1</td>\n",
       "      <td>0.018897</td>\n",
       "    </tr>\n",
       "    <tr>\n",
       "      <th>0</th>\n",
       "      <td>between_1_2_years</td>\n",
       "      <td>0</td>\n",
       "      <td>0.434285</td>\n",
       "    </tr>\n",
       "    <tr>\n",
       "      <th>2</th>\n",
       "      <td>between_1_2_years</td>\n",
       "      <td>1</td>\n",
       "      <td>0.091328</td>\n",
       "    </tr>\n",
       "    <tr>\n",
       "      <th>3</th>\n",
       "      <td>over_2_years</td>\n",
       "      <td>0</td>\n",
       "      <td>0.029663</td>\n",
       "    </tr>\n",
       "    <tr>\n",
       "      <th>5</th>\n",
       "      <td>over_2_years</td>\n",
       "      <td>1</td>\n",
       "      <td>0.012338</td>\n",
       "    </tr>\n",
       "  </tbody>\n",
       "</table>\n",
       "</div>"
      ],
      "text/plain": [
       "         vehicle_age  response  proportion\n",
       "1       below_1_year         0    0.413488\n",
       "4       below_1_year         1    0.018897\n",
       "0  between_1_2_years         0    0.434285\n",
       "2  between_1_2_years         1    0.091328\n",
       "3       over_2_years         0    0.029663\n",
       "5       over_2_years         1    0.012338"
      ]
     },
     "execution_count": 72,
     "metadata": {},
     "output_type": "execute_result"
    }
   ],
   "source": [
    "# vehicle_age\n",
    "df4[['vehicle_age','response']].value_counts( normalize = True ).reset_index().sort_values(by = 'vehicle_age' )"
   ]
  },
  {
   "cell_type": "code",
   "execution_count": 73,
   "id": "48f7f315",
   "metadata": {
    "ExecuteTime": {
     "end_time": "2024-02-17T10:24:28.344599Z",
     "start_time": "2024-02-17T10:24:27.315256Z"
    }
   },
   "outputs": [
    {
     "data": {
      "text/plain": [
       "<Axes: xlabel='response', ylabel='policy_sales_channel'>"
      ]
     },
     "execution_count": 73,
     "metadata": {},
     "output_type": "execute_result"
    },
    {
     "data": {
      "image/png": "[encoded data removed]",
      "text/plain": [
       "<Figure size 3500x1500 with 1 Axes>"
      ]
     },
     "metadata": {},
     "output_type": "display_data"
    }
   ],
   "source": [
    "# policy_sales_channel\n",
    "plt.figure( figsize = (35,15) )\n",
    "aux = df4[['policy_sales_channel','response']].groupby( 'policy_sales_channel' ).sum().reset_index()\n",
    "sns.barplot( x = 'response', y = 'policy_sales_channel', data = aux )"
   ]
  },
  {
   "cell_type": "code",
   "execution_count": 74,
   "id": "7f5a60f6",
   "metadata": {
    "ExecuteTime": {
     "end_time": "2024-02-17T10:24:29.074454Z",
     "start_time": "2024-02-17T10:24:28.346554Z"
    }
   },
   "outputs": [
    {
     "data": {
      "text/plain": [
       "<Axes: xlabel='response', ylabel='vintage'>"
      ]
     },
     "execution_count": 74,
     "metadata": {},
     "output_type": "execute_result"
    },
    {
     "data": {
      "image/png": "[encoded data removed]",
      "text/plain": [
       "<Figure size 640x480 with 1 Axes>"
      ]
     },
     "metadata": {},
     "output_type": "display_data"
    }
   ],
   "source": [
    "# vintage\n",
    "sns.boxplot( x = 'response', y = 'vintage', data = df4 )"
   ]
  },
  {
   "cell_type": "code",
   "execution_count": 75,
   "id": "a855d448",
   "metadata": {
    "ExecuteTime": {
     "end_time": "2024-02-17T10:24:29.372924Z",
     "start_time": "2024-02-17T10:24:29.076448Z"
    }
   },
   "outputs": [
    {
     "data": {
      "text/plain": [
       "<Axes: xlabel='vintage', ylabel='Count'>"
      ]
     },
     "execution_count": 75,
     "metadata": {},
     "output_type": "execute_result"
    },
    {
     "data": {
      "image/png": "[encoded data removed]",
      "text/plain": [
       "<Figure size 640x480 with 1 Axes>"
      ]
     },
     "metadata": {},
     "output_type": "display_data"
    }
   ],
   "source": [
    "aux00 = df_aux.loc[ df4['response'] == 1 , 'vintage']\n",
    "sns.histplot( aux00 )"
   ]
  },
  {
   "cell_type": "code",
   "execution_count": 76,
   "id": "e2c1b16e",
   "metadata": {
    "ExecuteTime": {
     "end_time": "2024-02-17T10:24:29.907524Z",
     "start_time": "2024-02-17T10:24:29.379935Z"
    },
    "scrolled": true
   },
   "outputs": [
    {
     "data": {
      "text/plain": [
       "<Axes: xlabel='vintage', ylabel='Count'>"
      ]
     },
     "execution_count": 76,
     "metadata": {},
     "output_type": "execute_result"
    },
    {
     "data": {
      "image/png": "[encoded data removed]",
      "text/plain": [
       "<Figure size 640x480 with 1 Axes>"
      ]
     },
     "metadata": {},
     "output_type": "display_data"
    }
   ],
   "source": [
    "aux00 = df_aux.loc[ df4['response'] == 0 , 'vintage']\n",
    "sns.histplot( aux00 )"
   ]
  },
  {
   "cell_type": "markdown",
   "id": "72611407",
   "metadata": {},
   "source": [
    "# 5.0 Data Preparation"
   ]
  },
  {
   "cell_type": "code",
   "execution_count": 77,
   "id": "136bc513",
   "metadata": {
    "ExecuteTime": {
     "end_time": "2024-02-17T10:24:29.937443Z",
     "start_time": "2024-02-17T10:24:29.909518Z"
    }
   },
   "outputs": [],
   "source": [
    "df5 = df4.copy()"
   ]
  },
  {
   "cell_type": "code",
   "execution_count": 78,
   "id": "99e475e5",
   "metadata": {
    "ExecuteTime": {
     "end_time": "2024-02-17T10:24:30.046151Z",
     "start_time": "2024-02-17T10:24:29.942431Z"
    }
   },
   "outputs": [
    {
     "name": "stdout",
     "output_type": "stream",
     "text": [
      "Total shape (381109, 12)\n",
      "==================================================\n",
      "xtrain shape: (266776, 11)\n",
      "y train shape:  (266776,)\n",
      "==================================================\n",
      "xtrain shape (114333, 11)\n",
      "y test (114333,)\n"
     ]
    }
   ],
   "source": [
    "# treino\n",
    "X = df5.drop( 'response', axis = 1 )\n",
    "# teste\n",
    "y = df5['response'].copy()\n",
    "\n",
    "# separa treino e teste\n",
    "x_train, x_test, y_train, y_test = ms.train_test_split( X, y , test_size = 0.3 )\n",
    "\n",
    "print( f'Total shape {df5.shape}' )\n",
    "\n",
    "print( '='*50 )\n",
    "\n",
    "print( f'xtrain shape: {x_train.shape}' )\n",
    "print( f'y train shape:  {y_train.shape}' )\n",
    "\n",
    "print( '='*50 )\n",
    "\n",
    "print( f'xtrain shape {x_test.shape}' )\n",
    "print( f'y test {y_test.shape}')\n",
    "\n"
   ]
  },
  {
   "cell_type": "code",
   "execution_count": 79,
   "id": "6927384b",
   "metadata": {
    "ExecuteTime": {
     "end_time": "2024-02-17T10:24:30.078066Z",
     "start_time": "2024-02-17T10:24:30.049143Z"
    }
   },
   "outputs": [],
   "source": [
    "# df treino\n",
    "df5_train = pd.concat( [x_train,y_train] ,  axis = 1 )"
   ]
  },
  {
   "cell_type": "code",
   "execution_count": 80,
   "id": "1c4ade91",
   "metadata": {
    "ExecuteTime": {
     "end_time": "2024-02-17T10:24:30.109981Z",
     "start_time": "2024-02-17T10:24:30.081058Z"
    }
   },
   "outputs": [],
   "source": [
    "# df treino\n",
    "df5_test = pd.concat( [x_test,y_test ] , axis = 1 )"
   ]
  },
  {
   "cell_type": "code",
   "execution_count": 81,
   "id": "792c18ac",
   "metadata": {
    "ExecuteTime": {
     "end_time": "2024-02-17T10:24:30.372279Z",
     "start_time": "2024-02-17T10:24:30.112982Z"
    }
   },
   "outputs": [
    {
     "data": {
      "text/html": [
       "<div>\n",
       "<style scoped>\n",
       "    .dataframe tbody tr th:only-of-type {\n",
       "        vertical-align: middle;\n",
       "    }\n",
       "\n",
       "    .dataframe tbody tr th {\n",
       "        vertical-align: top;\n",
       "    }\n",
       "\n",
       "    .dataframe thead th {\n",
       "        text-align: right;\n",
       "    }\n",
       "</style>\n",
       "<table border=\"1\" class=\"dataframe\">\n",
       "  <thead>\n",
       "    <tr style=\"text-align: right;\">\n",
       "      <th></th>\n",
       "      <th>features</th>\n",
       "      <th>min</th>\n",
       "      <th>max</th>\n",
       "      <th>range</th>\n",
       "      <th>mean</th>\n",
       "      <th>median</th>\n",
       "      <th>std</th>\n",
       "      <th>skew</th>\n",
       "      <th>kurtosis</th>\n",
       "    </tr>\n",
       "  </thead>\n",
       "  <tbody>\n",
       "    <tr>\n",
       "      <th>0</th>\n",
       "      <td>id</td>\n",
       "      <td>1.0</td>\n",
       "      <td>381106.0</td>\n",
       "      <td>381105.0</td>\n",
       "      <td>190545.743804</td>\n",
       "      <td>190505.5</td>\n",
       "      <td>110026.515710</td>\n",
       "      <td>0.000850</td>\n",
       "      <td>-1.199973</td>\n",
       "    </tr>\n",
       "    <tr>\n",
       "      <th>1</th>\n",
       "      <td>age</td>\n",
       "      <td>20.0</td>\n",
       "      <td>85.0</td>\n",
       "      <td>65.0</td>\n",
       "      <td>38.823549</td>\n",
       "      <td>36.0</td>\n",
       "      <td>15.513400</td>\n",
       "      <td>0.672085</td>\n",
       "      <td>-0.566939</td>\n",
       "    </tr>\n",
       "    <tr>\n",
       "      <th>2</th>\n",
       "      <td>region_code</td>\n",
       "      <td>0.0</td>\n",
       "      <td>52.0</td>\n",
       "      <td>52.0</td>\n",
       "      <td>26.399343</td>\n",
       "      <td>28.0</td>\n",
       "      <td>13.217551</td>\n",
       "      <td>-0.116914</td>\n",
       "      <td>-0.865520</td>\n",
       "    </tr>\n",
       "    <tr>\n",
       "      <th>3</th>\n",
       "      <td>policy_sales_channel</td>\n",
       "      <td>1.0</td>\n",
       "      <td>163.0</td>\n",
       "      <td>162.0</td>\n",
       "      <td>111.985265</td>\n",
       "      <td>130.0</td>\n",
       "      <td>54.217035</td>\n",
       "      <td>-0.898249</td>\n",
       "      <td>-0.974112</td>\n",
       "    </tr>\n",
       "    <tr>\n",
       "      <th>4</th>\n",
       "      <td>previously_insured</td>\n",
       "      <td>0.0</td>\n",
       "      <td>1.0</td>\n",
       "      <td>1.0</td>\n",
       "      <td>0.457327</td>\n",
       "      <td>0.0</td>\n",
       "      <td>0.498176</td>\n",
       "      <td>0.171316</td>\n",
       "      <td>-1.970666</td>\n",
       "    </tr>\n",
       "    <tr>\n",
       "      <th>5</th>\n",
       "      <td>annual_premium</td>\n",
       "      <td>2630.0</td>\n",
       "      <td>540165.0</td>\n",
       "      <td>537535.0</td>\n",
       "      <td>30616.079441</td>\n",
       "      <td>31697.0</td>\n",
       "      <td>17265.844072</td>\n",
       "      <td>1.923580</td>\n",
       "      <td>38.664133</td>\n",
       "    </tr>\n",
       "    <tr>\n",
       "      <th>6</th>\n",
       "      <td>vintage</td>\n",
       "      <td>10.0</td>\n",
       "      <td>299.0</td>\n",
       "      <td>289.0</td>\n",
       "      <td>154.353465</td>\n",
       "      <td>154.0</td>\n",
       "      <td>83.616650</td>\n",
       "      <td>0.002943</td>\n",
       "      <td>-1.199043</td>\n",
       "    </tr>\n",
       "    <tr>\n",
       "      <th>7</th>\n",
       "      <td>driving_license</td>\n",
       "      <td>0.0</td>\n",
       "      <td>1.0</td>\n",
       "      <td>1.0</td>\n",
       "      <td>0.997815</td>\n",
       "      <td>1.0</td>\n",
       "      <td>0.046697</td>\n",
       "      <td>-21.321329</td>\n",
       "      <td>452.602462</td>\n",
       "    </tr>\n",
       "    <tr>\n",
       "      <th>8</th>\n",
       "      <td>vehicle_damage</td>\n",
       "      <td>0.0</td>\n",
       "      <td>1.0</td>\n",
       "      <td>1.0</td>\n",
       "      <td>0.504985</td>\n",
       "      <td>1.0</td>\n",
       "      <td>0.499975</td>\n",
       "      <td>-0.019943</td>\n",
       "      <td>-1.999617</td>\n",
       "    </tr>\n",
       "    <tr>\n",
       "      <th>9</th>\n",
       "      <td>response</td>\n",
       "      <td>0.0</td>\n",
       "      <td>1.0</td>\n",
       "      <td>1.0</td>\n",
       "      <td>0.122867</td>\n",
       "      <td>0.0</td>\n",
       "      <td>0.328285</td>\n",
       "      <td>2.297610</td>\n",
       "      <td>3.279036</td>\n",
       "    </tr>\n",
       "  </tbody>\n",
       "</table>\n",
       "</div>"
      ],
      "text/plain": [
       "               features     min       max     range           mean    median  \\\n",
       "0                    id     1.0  381106.0  381105.0  190545.743804  190505.5   \n",
       "1                   age    20.0      85.0      65.0      38.823549      36.0   \n",
       "2           region_code     0.0      52.0      52.0      26.399343      28.0   \n",
       "3  policy_sales_channel     1.0     163.0     162.0     111.985265     130.0   \n",
       "4    previously_insured     0.0       1.0       1.0       0.457327       0.0   \n",
       "5        annual_premium  2630.0  540165.0  537535.0   30616.079441   31697.0   \n",
       "6               vintage    10.0     299.0     289.0     154.353465     154.0   \n",
       "7       driving_license     0.0       1.0       1.0       0.997815       1.0   \n",
       "8        vehicle_damage     0.0       1.0       1.0       0.504985       1.0   \n",
       "9              response     0.0       1.0       1.0       0.122867       0.0   \n",
       "\n",
       "             std       skew    kurtosis  \n",
       "0  110026.515710   0.000850   -1.199973  \n",
       "1      15.513400   0.672085   -0.566939  \n",
       "2      13.217551  -0.116914   -0.865520  \n",
       "3      54.217035  -0.898249   -0.974112  \n",
       "4       0.498176   0.171316   -1.970666  \n",
       "5   17265.844072   1.923580   38.664133  \n",
       "6      83.616650   0.002943   -1.199043  \n",
       "7       0.046697 -21.321329  452.602462  \n",
       "8       0.499975  -0.019943   -1.999617  \n",
       "9       0.328285   2.297610    3.279036  "
      ]
     },
     "execution_count": 81,
     "metadata": {},
     "output_type": "execute_result"
    }
   ],
   "source": [
    "df5_stats = df5_train.select_dtypes( include = ['int64', 'float64'] )\n",
    "data_descriptive( df5_stats )"
   ]
  },
  {
   "cell_type": "markdown",
   "id": "7146fad1",
   "metadata": {},
   "source": [
    "## Standardization"
   ]
  },
  {
   "cell_type": "code",
   "execution_count": 82,
   "id": "26f674a9",
   "metadata": {
    "ExecuteTime": {
     "end_time": "2024-02-17T10:24:30.403196Z",
     "start_time": "2024-02-17T10:24:30.374273Z"
    }
   },
   "outputs": [],
   "source": [
    "# instancia o ss\n",
    "ss = pp.StandardScaler()\n",
    "# annual_premium - aplico pois o range é muito amplo\n",
    "df5_train['annual_premium'] = ss.fit_transform(df5_train[['annual_premium']].values)\n",
    "pickle.dump( ss, open( r'\\Users\\oscar\\Documents\\repos\\pa004\\features_transformation\\annual_premium_scaler.pkl', 'wb' ) )"
   ]
  },
  {
   "cell_type": "markdown",
   "id": "6ed82b9d",
   "metadata": {},
   "source": [
    "## Rescaling"
   ]
  },
  {
   "cell_type": "code",
   "execution_count": 83,
   "id": "13d3a7d6",
   "metadata": {
    "ExecuteTime": {
     "end_time": "2024-02-17T10:24:30.957078Z",
     "start_time": "2024-02-17T10:24:30.405190Z"
    }
   },
   "outputs": [
    {
     "data": {
      "text/plain": [
       "<seaborn.axisgrid.FacetGrid at 0x15e9b9f85e0>"
      ]
     },
     "execution_count": 83,
     "metadata": {},
     "output_type": "execute_result"
    },
    {
     "data": {
      "image/png": "[encoded data removed]",
      "text/plain": [
       "<Figure size 500x500 with 1 Axes>"
      ]
     },
     "metadata": {},
     "output_type": "display_data"
    }
   ],
   "source": [
    "# distribuição age\n",
    "sns.displot( df5_train['age'] )"
   ]
  },
  {
   "cell_type": "code",
   "execution_count": 84,
   "id": "0d0b0d7f",
   "metadata": {
    "ExecuteTime": {
     "end_time": "2024-02-17T10:24:31.742984Z",
     "start_time": "2024-02-17T10:24:30.960081Z"
    }
   },
   "outputs": [
    {
     "data": {
      "text/plain": [
       "<Axes: ylabel='vintage'>"
      ]
     },
     "execution_count": 84,
     "metadata": {},
     "output_type": "execute_result"
    },
    {
     "data": {
      "image/png": "[encoded data removed]",
      "text/plain": [
       "<Figure size 640x480 with 1 Axes>"
      ]
     },
     "metadata": {},
     "output_type": "display_data"
    }
   ],
   "source": [
    "# distribuição vintage\n",
    "sns.boxplot( df4['vintage'] )\n"
   ]
  },
  {
   "cell_type": "code",
   "execution_count": 85,
   "id": "aab73b93",
   "metadata": {
    "ExecuteTime": {
     "end_time": "2024-02-17T10:24:31.774900Z",
     "start_time": "2024-02-17T10:24:31.744978Z"
    }
   },
   "outputs": [],
   "source": [
    "mms_age = pp.MinMaxScaler()\n",
    "mms_vintage = pp.MinMaxScaler()\n",
    "# age\n",
    "df5_train['age'] = mms_age.fit_transform(df5_train[['age']].values)\n",
    "pickle.dump( mms_age , open( r'\\Users\\oscar\\Documents\\repos\\pa004\\features_transformation\\mms_age.pkl' , 'wb' ) )\n",
    "\n",
    "# vintage\n",
    "df5_train['vintage'] = mms_vintage.fit_transform(df5_train[['vintage']].values)\n",
    "pickle.dump( mms_vintage , open( r'\\Users\\oscar\\Documents\\repos\\pa004\\features_transformation\\mms_vintage.pkl', 'wb' ) )"
   ]
  },
  {
   "cell_type": "markdown",
   "id": "b70b4852",
   "metadata": {},
   "source": [
    "## Encoder"
   ]
  },
  {
   "cell_type": "code",
   "execution_count": 86,
   "id": "552c4082",
   "metadata": {
    "ExecuteTime": {
     "end_time": "2024-02-17T10:24:31.980701Z",
     "start_time": "2024-02-17T10:24:31.781878Z"
    }
   },
   "outputs": [],
   "source": [
    "# gender - One Hot Encoding / Target Encoding\n",
    "target_encoding_gender = df5_train.groupby( 'gender' )['response'].mean()\n",
    "df5_train.loc[:,'gender'] = df5_train['gender'].map( target_encoding_gender ).astype( 'float64' )\n",
    "pickle.dump( target_encoding_gender , open( r'\\Users\\oscar\\Documents\\repos\\pa004\\features_transformation\\target_encoding_gender.pkl', 'wb' ) )\n",
    "\n",
    "# region code - Frequency Encoding / Target Encoding / Weighted Target Encoding\n",
    "target_enconding_region_code = df5_train.groupby('region_code')['response'].mean()\n",
    "df5_train.loc[:,'region_code'] = df5_train['region_code'].map( target_enconding_region_code )\n",
    "pickle.dump( target_enconding_region_code, open( r'\\Users\\oscar\\Documents\\repos\\pa004\\features_transformation\\target_enconding_region_code.pkl' , 'wb' ) )\n",
    "\n",
    "# vehicle_age\n",
    "df5_train = pd.get_dummies( data = df5_train, prefix = 'vehicle_age', columns = ['vehicle_age']  )\n",
    "\n",
    "# policy_sales_channel\n",
    "fe_policy_sales_channel = df5_train['policy_sales_channel'].value_counts( normalize = True )\n",
    "df5_train.loc[:, 'policy_sales_channel'] = df5_train['policy_sales_channel'].map( fe_policy_sales_channel )\n",
    "pickle.dump( fe_policy_sales_channel , open( r'\\Users\\oscar\\Documents\\repos\\pa004\\features_transformation\\fe_policy_sales_channel.pkl' , 'wb' ) )"
   ]
  },
  {
   "cell_type": "code",
   "execution_count": 87,
   "id": "c6b82255",
   "metadata": {
    "ExecuteTime": {
     "end_time": "2024-02-17T10:24:31.996695Z",
     "start_time": "2024-02-17T10:24:31.982737Z"
    }
   },
   "outputs": [],
   "source": [
    "def encoding( df ):\n",
    "    \n",
    "    main_path = r'C:\\Users\\oscar\\Documents\\repos\\pa004\\features_transformation'\n",
    "    \n",
    "    encoder_annual_premium = pickle.load( open( os.path.join( main_path, 'annual_premium_scaler.pkl' ) , 'rb' ) )\n",
    "    encoder_age            = pickle.load( open( os.path.join( main_path, 'mms_age.pkl'),  'rb' ) )\n",
    "    encoder_vintage        = pickle.load( open( os.path.join( main_path, 'mms_vintage.pkl' ), 'rb' ) )\n",
    "    encoder_gender         = pickle.load( open( os.path.join( main_path, 'target_encoding_gender.pkl' ), 'rb' ) )\n",
    "    encoder_region_code    = pickle.load( open( os.path.join( main_path, 'target_enconding_region_code.pkl' ), 'rb' ) )\n",
    "    encoder_policy_sales   = pickle.load( open( os.path.join( main_path, 'fe_policy_sales_channel.pkl' ) , 'rb' ) )\n",
    "                                         \n",
    "    # annual_premium - aplico pois o range é muito amplo\n",
    "    df['annual_premium'] = encoder_annual_premium.transform( df[['annual_premium']].values )\n",
    "\n",
    "    # age\n",
    "    df['age'] = encoder_age.fit_transform( df[['age']].values )\n",
    "\n",
    "    # vintage\n",
    "    df['vintage'] = encoder_vintage.fit_transform( df[['vintage']].values )\n",
    "\n",
    "    # gender - One Hot Encoding / Target Encoding\n",
    "    df.loc[:,'gender'] = df['gender'].map( target_encoding_gender ).astype( 'float64' )\n",
    "\n",
    "    # region code - Frequency Encoding / Target Encoding / Weighted Target Encoding\n",
    "    df.loc[:,'region_code'] = df['region_code'].map( target_enconding_region_code )\n",
    "    \n",
    "    # vehicle_age\n",
    "    df = pd.get_dummies( data = df, prefix = 'vehicle_age', columns = ['vehicle_age']  )\n",
    "\n",
    "    # policy_sales_channel\n",
    "    df.loc[:, 'policy_sales_channel'] = df['policy_sales_channel'].map( fe_policy_sales_channel )\n",
    "    \n",
    "    df = df.fillna( 0 )\n",
    "    \n",
    "    return df\n",
    "\n",
    "    "
   ]
  },
  {
   "cell_type": "code",
   "execution_count": 88,
   "id": "b39eff71",
   "metadata": {
    "ExecuteTime": {
     "end_time": "2024-02-17T10:24:32.121639Z",
     "start_time": "2024-02-17T10:24:31.998658Z"
    }
   },
   "outputs": [
    {
     "name": "stderr",
     "output_type": "stream",
     "text": [
      "C:\\Users\\oscar\\AppData\\Local\\Temp\\ipykernel_16252\\668323217.py:33: FutureWarning: Downcasting object dtype arrays on .fillna, .ffill, .bfill is deprecated and will change in a future version. Call result.infer_objects(copy=False) instead. To opt-in to the future behavior, set `pd.set_option('future.no_silent_downcasting', True)`\n",
      "  df = df.fillna( 0 )\n"
     ]
    }
   ],
   "source": [
    "df_test = encoding( df5_test )"
   ]
  },
  {
   "cell_type": "markdown",
   "id": "3a1dbb52",
   "metadata": {},
   "source": [
    "# 6.0 Feature Selection"
   ]
  },
  {
   "cell_type": "code",
   "execution_count": 89,
   "id": "d5f1330b",
   "metadata": {
    "ExecuteTime": {
     "end_time": "2024-02-17T10:24:32.152553Z",
     "start_time": "2024-02-17T10:24:32.123632Z"
    }
   },
   "outputs": [],
   "source": [
    "df6 = df5.copy()"
   ]
  },
  {
   "cell_type": "markdown",
   "id": "5d0761ad",
   "metadata": {},
   "source": [
    "## 6.1 Training a RF to choose which columns I'll use"
   ]
  },
  {
   "cell_type": "code",
   "execution_count": 90,
   "id": "bffc0f3a",
   "metadata": {
    "ExecuteTime": {
     "end_time": "2024-02-17T10:24:32.198433Z",
     "start_time": "2024-02-17T10:24:32.156545Z"
    }
   },
   "outputs": [],
   "source": [
    "# df train\n",
    "x_train = df5_train.drop( 'response', axis =1 )\n",
    "y_train = df5_train['response']\n",
    "\n",
    "# df test\n",
    "x_test = df_test.drop( 'response', axis = 1 )\n",
    "y_test = df_test['response']"
   ]
  },
  {
   "cell_type": "markdown",
   "id": "795bb518",
   "metadata": {},
   "source": [
    "## 6.2 Feature Importance"
   ]
  },
  {
   "cell_type": "code",
   "execution_count": 91,
   "id": "e6a6facb",
   "metadata": {
    "ExecuteTime": {
     "end_time": "2024-02-17T10:24:58.158289Z",
     "start_time": "2024-02-17T10:24:32.200428Z"
    }
   },
   "outputs": [
    {
     "data": {
      "text/html": [
       "<style>#sk-container-id-2 {\n",
       "  /* Definition of color scheme common for light and dark mode */\n",
       "  --sklearn-color-text: black;\n",
       "  --sklearn-color-line: gray;\n",
       "  /* Definition of color scheme for unfitted estimators */\n",
       "  --sklearn-color-unfitted-level-0: #fff5e6;\n",
       "  --sklearn-color-unfitted-level-1: #f6e4d2;\n",
       "  --sklearn-color-unfitted-level-2: #ffe0b3;\n",
       "  --sklearn-color-unfitted-level-3: chocolate;\n",
       "  /* Definition of color scheme for fitted estimators */\n",
       "  --sklearn-color-fitted-level-0: #f0f8ff;\n",
       "  --sklearn-color-fitted-level-1: #d4ebff;\n",
       "  --sklearn-color-fitted-level-2: #b3dbfd;\n",
       "  --sklearn-color-fitted-level-3: cornflowerblue;\n",
       "\n",
       "  /* Specific color for light theme */\n",
       "  --sklearn-color-text-on-default-background: var(--sg-text-color, var(--theme-code-foreground, var(--jp-content-font-color1, black)));\n",
       "  --sklearn-color-background: var(--sg-background-color, var(--theme-background, var(--jp-layout-color0, white)));\n",
       "  --sklearn-color-border-box: var(--sg-text-color, var(--theme-code-foreground, var(--jp-content-font-color1, black)));\n",
       "  --sklearn-color-icon: #696969;\n",
       "\n",
       "  @media (prefers-color-scheme: dark) {\n",
       "    /* Redefinition of color scheme for dark theme */\n",
       "    --sklearn-color-text-on-default-background: var(--sg-text-color, var(--theme-code-foreground, var(--jp-content-font-color1, white)));\n",
       "    --sklearn-color-background: var(--sg-background-color, var(--theme-background, var(--jp-layout-color0, #111)));\n",
       "    --sklearn-color-border-box: var(--sg-text-color, var(--theme-code-foreground, var(--jp-content-font-color1, white)));\n",
       "    --sklearn-color-icon: #878787;\n",
       "  }\n",
       "}\n",
       "\n",
       "#sk-container-id-2 {\n",
       "  color: var(--sklearn-color-text);\n",
       "}\n",
       "\n",
       "#sk-container-id-2 pre {\n",
       "  padding: 0;\n",
       "}\n",
       "\n",
       "#sk-container-id-2 input.sk-hidden--visually {\n",
       "  border: 0;\n",
       "  clip: rect(1px 1px 1px 1px);\n",
       "  clip: rect(1px, 1px, 1px, 1px);\n",
       "  height: 1px;\n",
       "  margin: -1px;\n",
       "  overflow: hidden;\n",
       "  padding: 0;\n",
       "  position: absolute;\n",
       "  width: 1px;\n",
       "}\n",
       "\n",
       "#sk-container-id-2 div.sk-dashed-wrapped {\n",
       "  border: 1px dashed var(--sklearn-color-line);\n",
       "  margin: 0 0.4em 0.5em 0.4em;\n",
       "  box-sizing: border-box;\n",
       "  padding-bottom: 0.4em;\n",
       "  background-color: var(--sklearn-color-background);\n",
       "}\n",
       "\n",
       "#sk-container-id-2 div.sk-container {\n",
       "  /* jupyter's `normalize.less` sets `[hidden] { display: none; }`\n",
       "     but bootstrap.min.css set `[hidden] { display: none !important; }`\n",
       "     so we also need the `!important` here to be able to override the\n",
       "     default hidden behavior on the sphinx rendered scikit-learn.org.\n",
       "     See: https://github.com/scikit-learn/scikit-learn/issues/21755 */\n",
       "  display: inline-block !important;\n",
       "  position: relative;\n",
       "}\n",
       "\n",
       "#sk-container-id-2 div.sk-text-repr-fallback {\n",
       "  display: none;\n",
       "}\n",
       "\n",
       "div.sk-parallel-item,\n",
       "div.sk-serial,\n",
       "div.sk-item {\n",
       "  /* draw centered vertical line to link estimators */\n",
       "  background-image: linear-gradient(var(--sklearn-color-text-on-default-background), var(--sklearn-color-text-on-default-background));\n",
       "  background-size: 2px 100%;\n",
       "  background-repeat: no-repeat;\n",
       "  background-position: center center;\n",
       "}\n",
       "\n",
       "/* Parallel-specific style estimator block */\n",
       "\n",
       "#sk-container-id-2 div.sk-parallel-item::after {\n",
       "  content: \"\";\n",
       "  width: 100%;\n",
       "  border-bottom: 2px solid var(--sklearn-color-text-on-default-background);\n",
       "  flex-grow: 1;\n",
       "}\n",
       "\n",
       "#sk-container-id-2 div.sk-parallel {\n",
       "  display: flex;\n",
       "  align-items: stretch;\n",
       "  justify-content: center;\n",
       "  background-color: var(--sklearn-color-background);\n",
       "  position: relative;\n",
       "}\n",
       "\n",
       "#sk-container-id-2 div.sk-parallel-item {\n",
       "  display: flex;\n",
       "  flex-direction: column;\n",
       "}\n",
       "\n",
       "#sk-container-id-2 div.sk-parallel-item:first-child::after {\n",
       "  align-self: flex-end;\n",
       "  width: 50%;\n",
       "}\n",
       "\n",
       "#sk-container-id-2 div.sk-parallel-item:last-child::after {\n",
       "  align-self: flex-start;\n",
       "  width: 50%;\n",
       "}\n",
       "\n",
       "#sk-container-id-2 div.sk-parallel-item:only-child::after {\n",
       "  width: 0;\n",
       "}\n",
       "\n",
       "/* Serial-specific style estimator block */\n",
       "\n",
       "#sk-container-id-2 div.sk-serial {\n",
       "  display: flex;\n",
       "  flex-direction: column;\n",
       "  align-items: center;\n",
       "  background-color: var(--sklearn-color-background);\n",
       "  padding-right: 1em;\n",
       "  padding-left: 1em;\n",
       "}\n",
       "\n",
       "\n",
       "/* Toggleable style: style used for estimator/Pipeline/ColumnTransformer box that is\n",
       "clickable and can be expanded/collapsed.\n",
       "- Pipeline and ColumnTransformer use this feature and define the default style\n",
       "- Estimators will overwrite some part of the style using the `sk-estimator` class\n",
       "*/\n",
       "\n",
       "/* Pipeline and ColumnTransformer style (default) */\n",
       "\n",
       "#sk-container-id-2 div.sk-toggleable {\n",
       "  /* Default theme specific background. It is overwritten whether we have a\n",
       "  specific estimator or a Pipeline/ColumnTransformer */\n",
       "  background-color: var(--sklearn-color-background);\n",
       "}\n",
       "\n",
       "/* Toggleable label */\n",
       "#sk-container-id-2 label.sk-toggleable__label {\n",
       "  cursor: pointer;\n",
       "  display: block;\n",
       "  width: 100%;\n",
       "  margin-bottom: 0;\n",
       "  padding: 0.5em;\n",
       "  box-sizing: border-box;\n",
       "  text-align: center;\n",
       "}\n",
       "\n",
       "#sk-container-id-2 label.sk-toggleable__label-arrow:before {\n",
       "  /* Arrow on the left of the label */\n",
       "  content: \"▸\";\n",
       "  float: left;\n",
       "  margin-right: 0.25em;\n",
       "  color: var(--sklearn-color-icon);\n",
       "}\n",
       "\n",
       "#sk-container-id-2 label.sk-toggleable__label-arrow:hover:before {\n",
       "  color: var(--sklearn-color-text);\n",
       "}\n",
       "\n",
       "/* Toggleable content - dropdown */\n",
       "\n",
       "#sk-container-id-2 div.sk-toggleable__content {\n",
       "  max-height: 0;\n",
       "  max-width: 0;\n",
       "  overflow: hidden;\n",
       "  text-align: left;\n",
       "  /* unfitted */\n",
       "  background-color: var(--sklearn-color-unfitted-level-0);\n",
       "}\n",
       "\n",
       "#sk-container-id-2 div.sk-toggleable__content.fitted {\n",
       "  /* fitted */\n",
       "  background-color: var(--sklearn-color-fitted-level-0);\n",
       "}\n",
       "\n",
       "#sk-container-id-2 div.sk-toggleable__content pre {\n",
       "  margin: 0.2em;\n",
       "  border-radius: 0.25em;\n",
       "  color: var(--sklearn-color-text);\n",
       "  /* unfitted */\n",
       "  background-color: var(--sklearn-color-unfitted-level-0);\n",
       "}\n",
       "\n",
       "#sk-container-id-2 div.sk-toggleable__content.fitted pre {\n",
       "  /* unfitted */\n",
       "  background-color: var(--sklearn-color-fitted-level-0);\n",
       "}\n",
       "\n",
       "#sk-container-id-2 input.sk-toggleable__control:checked~div.sk-toggleable__content {\n",
       "  /* Expand drop-down */\n",
       "  max-height: 200px;\n",
       "  max-width: 100%;\n",
       "  overflow: auto;\n",
       "}\n",
       "\n",
       "#sk-container-id-2 input.sk-toggleable__control:checked~label.sk-toggleable__label-arrow:before {\n",
       "  content: \"▾\";\n",
       "}\n",
       "\n",
       "/* Pipeline/ColumnTransformer-specific style */\n",
       "\n",
       "#sk-container-id-2 div.sk-label input.sk-toggleable__control:checked~label.sk-toggleable__label {\n",
       "  color: var(--sklearn-color-text);\n",
       "  background-color: var(--sklearn-color-unfitted-level-2);\n",
       "}\n",
       "\n",
       "#sk-container-id-2 div.sk-label.fitted input.sk-toggleable__control:checked~label.sk-toggleable__label {\n",
       "  background-color: var(--sklearn-color-fitted-level-2);\n",
       "}\n",
       "\n",
       "/* Estimator-specific style */\n",
       "\n",
       "/* Colorize estimator box */\n",
       "#sk-container-id-2 div.sk-estimator input.sk-toggleable__control:checked~label.sk-toggleable__label {\n",
       "  /* unfitted */\n",
       "  background-color: var(--sklearn-color-unfitted-level-2);\n",
       "}\n",
       "\n",
       "#sk-container-id-2 div.sk-estimator.fitted input.sk-toggleable__control:checked~label.sk-toggleable__label {\n",
       "  /* fitted */\n",
       "  background-color: var(--sklearn-color-fitted-level-2);\n",
       "}\n",
       "\n",
       "#sk-container-id-2 div.sk-label label.sk-toggleable__label,\n",
       "#sk-container-id-2 div.sk-label label {\n",
       "  /* The background is the default theme color */\n",
       "  color: var(--sklearn-color-text-on-default-background);\n",
       "}\n",
       "\n",
       "/* On hover, darken the color of the background */\n",
       "#sk-container-id-2 div.sk-label:hover label.sk-toggleable__label {\n",
       "  color: var(--sklearn-color-text);\n",
       "  background-color: var(--sklearn-color-unfitted-level-2);\n",
       "}\n",
       "\n",
       "/* Label box, darken color on hover, fitted */\n",
       "#sk-container-id-2 div.sk-label.fitted:hover label.sk-toggleable__label.fitted {\n",
       "  color: var(--sklearn-color-text);\n",
       "  background-color: var(--sklearn-color-fitted-level-2);\n",
       "}\n",
       "\n",
       "/* Estimator label */\n",
       "\n",
       "#sk-container-id-2 div.sk-label label {\n",
       "  font-family: monospace;\n",
       "  font-weight: bold;\n",
       "  display: inline-block;\n",
       "  line-height: 1.2em;\n",
       "}\n",
       "\n",
       "#sk-container-id-2 div.sk-label-container {\n",
       "  text-align: center;\n",
       "}\n",
       "\n",
       "/* Estimator-specific */\n",
       "#sk-container-id-2 div.sk-estimator {\n",
       "  font-family: monospace;\n",
       "  border: 1px dotted var(--sklearn-color-border-box);\n",
       "  border-radius: 0.25em;\n",
       "  box-sizing: border-box;\n",
       "  margin-bottom: 0.5em;\n",
       "  /* unfitted */\n",
       "  background-color: var(--sklearn-color-unfitted-level-0);\n",
       "}\n",
       "\n",
       "#sk-container-id-2 div.sk-estimator.fitted {\n",
       "  /* fitted */\n",
       "  background-color: var(--sklearn-color-fitted-level-0);\n",
       "}\n",
       "\n",
       "/* on hover */\n",
       "#sk-container-id-2 div.sk-estimator:hover {\n",
       "  /* unfitted */\n",
       "  background-color: var(--sklearn-color-unfitted-level-2);\n",
       "}\n",
       "\n",
       "#sk-container-id-2 div.sk-estimator.fitted:hover {\n",
       "  /* fitted */\n",
       "  background-color: var(--sklearn-color-fitted-level-2);\n",
       "}\n",
       "\n",
       "/* Specification for estimator info (e.g. \"i\" and \"?\") */\n",
       "\n",
       "/* Common style for \"i\" and \"?\" */\n",
       "\n",
       ".sk-estimator-doc-link,\n",
       "a:link.sk-estimator-doc-link,\n",
       "a:visited.sk-estimator-doc-link {\n",
       "  float: right;\n",
       "  font-size: smaller;\n",
       "  line-height: 1em;\n",
       "  font-family: monospace;\n",
       "  background-color: var(--sklearn-color-background);\n",
       "  border-radius: 1em;\n",
       "  height: 1em;\n",
       "  width: 1em;\n",
       "  text-decoration: none !important;\n",
       "  margin-left: 1ex;\n",
       "  /* unfitted */\n",
       "  border: var(--sklearn-color-unfitted-level-1) 1pt solid;\n",
       "  color: var(--sklearn-color-unfitted-level-1);\n",
       "}\n",
       "\n",
       ".sk-estimator-doc-link.fitted,\n",
       "a:link.sk-estimator-doc-link.fitted,\n",
       "a:visited.sk-estimator-doc-link.fitted {\n",
       "  /* fitted */\n",
       "  border: var(--sklearn-color-fitted-level-1) 1pt solid;\n",
       "  color: var(--sklearn-color-fitted-level-1);\n",
       "}\n",
       "\n",
       "/* On hover */\n",
       "div.sk-estimator:hover .sk-estimator-doc-link:hover,\n",
       ".sk-estimator-doc-link:hover,\n",
       "div.sk-label-container:hover .sk-estimator-doc-link:hover,\n",
       ".sk-estimator-doc-link:hover {\n",
       "  /* unfitted */\n",
       "  background-color: var(--sklearn-color-unfitted-level-3);\n",
       "  color: var(--sklearn-color-background);\n",
       "  text-decoration: none;\n",
       "}\n",
       "\n",
       "div.sk-estimator.fitted:hover .sk-estimator-doc-link.fitted:hover,\n",
       ".sk-estimator-doc-link.fitted:hover,\n",
       "div.sk-label-container:hover .sk-estimator-doc-link.fitted:hover,\n",
       ".sk-estimator-doc-link.fitted:hover {\n",
       "  /* fitted */\n",
       "  background-color: var(--sklearn-color-fitted-level-3);\n",
       "  color: var(--sklearn-color-background);\n",
       "  text-decoration: none;\n",
       "}\n",
       "\n",
       "/* Span, style for the box shown on hovering the info icon */\n",
       ".sk-estimator-doc-link span {\n",
       "  display: none;\n",
       "  z-index: 9999;\n",
       "  position: relative;\n",
       "  font-weight: normal;\n",
       "  right: .2ex;\n",
       "  padding: .5ex;\n",
       "  margin: .5ex;\n",
       "  width: min-content;\n",
       "  min-width: 20ex;\n",
       "  max-width: 50ex;\n",
       "  color: var(--sklearn-color-text);\n",
       "  box-shadow: 2pt 2pt 4pt #999;\n",
       "  /* unfitted */\n",
       "  background: var(--sklearn-color-unfitted-level-0);\n",
       "  border: .5pt solid var(--sklearn-color-unfitted-level-3);\n",
       "}\n",
       "\n",
       ".sk-estimator-doc-link.fitted span {\n",
       "  /* fitted */\n",
       "  background: var(--sklearn-color-fitted-level-0);\n",
       "  border: var(--sklearn-color-fitted-level-3);\n",
       "}\n",
       "\n",
       ".sk-estimator-doc-link:hover span {\n",
       "  display: block;\n",
       "}\n",
       "\n",
       "/* \"?\"-specific style due to the `<a>` HTML tag */\n",
       "\n",
       "#sk-container-id-2 a.estimator_doc_link {\n",
       "  float: right;\n",
       "  font-size: 1rem;\n",
       "  line-height: 1em;\n",
       "  font-family: monospace;\n",
       "  background-color: var(--sklearn-color-background);\n",
       "  border-radius: 1rem;\n",
       "  height: 1rem;\n",
       "  width: 1rem;\n",
       "  text-decoration: none;\n",
       "  /* unfitted */\n",
       "  color: var(--sklearn-color-unfitted-level-1);\n",
       "  border: var(--sklearn-color-unfitted-level-1) 1pt solid;\n",
       "}\n",
       "\n",
       "#sk-container-id-2 a.estimator_doc_link.fitted {\n",
       "  /* fitted */\n",
       "  border: var(--sklearn-color-fitted-level-1) 1pt solid;\n",
       "  color: var(--sklearn-color-fitted-level-1);\n",
       "}\n",
       "\n",
       "/* On hover */\n",
       "#sk-container-id-2 a.estimator_doc_link:hover {\n",
       "  /* unfitted */\n",
       "  background-color: var(--sklearn-color-unfitted-level-3);\n",
       "  color: var(--sklearn-color-background);\n",
       "  text-decoration: none;\n",
       "}\n",
       "\n",
       "#sk-container-id-2 a.estimator_doc_link.fitted:hover {\n",
       "  /* fitted */\n",
       "  background-color: var(--sklearn-color-fitted-level-3);\n",
       "}\n",
       "</style><div id=\"sk-container-id-2\" class=\"sk-top-container\"><div class=\"sk-text-repr-fallback\"><pre>ExtraTreesClassifier(n_estimators=250, n_jobs=-1, random_state=0)</pre><b>In a Jupyter environment, please rerun this cell to show the HTML representation or trust the notebook. <br />On GitHub, the HTML representation is unable to render, please try loading this page with nbviewer.org.</b></div><div class=\"sk-container\" hidden><div class=\"sk-item\"><div class=\"sk-estimator fitted sk-toggleable\"><input class=\"sk-toggleable__control sk-hidden--visually\" id=\"sk-estimator-id-2\" type=\"checkbox\" checked><label for=\"sk-estimator-id-2\" class=\"sk-toggleable__label fitted sk-toggleable__label-arrow fitted\">&nbsp;&nbsp;ExtraTreesClassifier<a class=\"sk-estimator-doc-link fitted\" rel=\"noreferrer\" target=\"_blank\" href=\"https://scikit-learn.org/1.4/modules/generated/sklearn.ensemble.ExtraTreesClassifier.html\">?<span>Documentation for ExtraTreesClassifier</span></a><span class=\"sk-estimator-doc-link fitted\">i<span>Fitted</span></span></label><div class=\"sk-toggleable__content fitted\"><pre>ExtraTreesClassifier(n_estimators=250, n_jobs=-1, random_state=0)</pre></div> </div></div></div></div>"
      ],
      "text/plain": [
       "ExtraTreesClassifier(n_estimators=250, n_jobs=-1, random_state=0)"
      ]
     },
     "execution_count": 91,
     "metadata": {},
     "output_type": "execute_result"
    }
   ],
   "source": [
    "# model definition\n",
    "forest = en.ExtraTreesClassifier( n_estimators = 250 , random_state = 0 , n_jobs = -1 )\n",
    "\n",
    "# data preparation\n",
    "x_train_n = x_train.drop(['id'], axis = 1)\n",
    "y_train_n = y_train.values\n",
    "forest.fit( x_train_n , y_train_n  )"
   ]
  },
  {
   "cell_type": "code",
   "execution_count": 92,
   "id": "0e2ce086",
   "metadata": {
    "ExecuteTime": {
     "end_time": "2024-02-17T10:24:59.154646Z",
     "start_time": "2024-02-17T10:24:58.162276Z"
    }
   },
   "outputs": [
    {
     "name": "stdout",
     "output_type": "stream",
     "text": [
      "feature ranking\n",
      "                         feature  importance\n",
      "0                        vintage    0.270965\n",
      "0                 annual_premium    0.242080\n",
      "0                            age    0.167418\n",
      "0                    region_code    0.106301\n",
      "0                 vehicle_damage    0.069306\n",
      "0           policy_sales_channel    0.059794\n",
      "0             previously_insured    0.056087\n",
      "0       vehicle_age_below_1_year    0.014137\n",
      "0  vehicle_age_between_1_2_years    0.005869\n",
      "0                         gender    0.005279\n",
      "0       vehicle_age_over_2_years    0.002288\n",
      "0                driving_license    0.000476\n"
     ]
    },
    {
     "data": {
      "image/png": "[encoded data removed]",
      "text/plain": [
       "<Figure size 640x480 with 1 Axes>"
      ]
     },
     "metadata": {},
     "output_type": "display_data"
    }
   ],
   "source": [
    "importances = forest.feature_importances_\n",
    "std = np.std( [tree.feature_importances_ for tree in forest.estimators_], axis = 0 )\n",
    "indices = np.argsort(importances)[::-1]\n",
    "\n",
    "# print the feature ranking\n",
    "print('feature ranking')\n",
    "df = pd.DataFrame()\n",
    "for i, j in zip( x_train_n, forest.feature_importances_ ):\n",
    "    aux = pd.DataFrame( {'feature' : i , 'importance' : j } , index = [0]  )\n",
    "    df = pd.concat( [df , aux] , axis = 0 )\n",
    "    \n",
    "print(df.sort_values('importance', ascending = False) )\n",
    "      \n",
    "# Plot the impurity-based feature importance of the forest\n",
    "plt.figure()\n",
    "plt.title( 'feature importance' )\n",
    "plt.bar(range(x_train_n.shape[1]), importances[indices], color = 'r', yerr = std[indices], align = 'center')\n",
    "plt.xticks(range(x_train_n.shape[1]), indices)\n",
    "plt.xlim( [-1,x_train_n.shape[1]] )\n",
    "plt.show()\n",
    "\n"
   ]
  },
  {
   "cell_type": "markdown",
   "id": "11a8fd62",
   "metadata": {},
   "source": [
    "# 7.0 Machine Learning "
   ]
  },
  {
   "cell_type": "code",
   "execution_count": 93,
   "id": "2636e2e5",
   "metadata": {
    "ExecuteTime": {
     "end_time": "2024-02-17T10:24:59.185304Z",
     "start_time": "2024-02-17T10:24:59.156549Z"
    }
   },
   "outputs": [],
   "source": [
    "# columns selections based on the rf\n",
    "cols_selected = ['vintage',\n",
    "                 'annual_premium',\n",
    "                 'age',\n",
    "                 'region_code',\n",
    "                 'vehicle_damage',\n",
    "                 'policy_sales_channel',\n",
    "                 'previously_insured']\n",
    "\n",
    "x_train = x_train[cols_selected]\n",
    "x_test = x_test[cols_selected]"
   ]
  },
  {
   "cell_type": "markdown",
   "id": "618b08da",
   "metadata": {
    "ExecuteTime": {
     "end_time": "2023-05-23T21:36:20.311791Z",
     "start_time": "2023-05-23T21:36:20.302252Z"
    }
   },
   "source": [
    "## 7.1 Machine Learning "
   ]
  },
  {
   "cell_type": "code",
   "execution_count": 94,
   "id": "e2f6d12d",
   "metadata": {
    "ExecuteTime": {
     "end_time": "2024-02-17T10:25:11.694358Z",
     "start_time": "2024-02-17T10:24:59.187345Z"
    }
   },
   "outputs": [],
   "source": [
    "# model definition\n",
    "knn_model = nh.KNeighborsClassifier( n_neighbors = 7 )\n",
    "\n",
    "# model training\n",
    "knn_model.fit( x_train, y_train )\n",
    "\n",
    "# model prediction\n",
    "yhat_knn = knn_model.predict_proba( x_test )"
   ]
  },
  {
   "cell_type": "code",
   "execution_count": 95,
   "id": "2fe1a948",
   "metadata": {
    "ExecuteTime": {
     "end_time": "2024-02-17T10:25:11.961808Z",
     "start_time": "2024-02-17T10:25:11.696358Z"
    }
   },
   "outputs": [
    {
     "data": {
      "text/plain": [
       "<Axes: title={'center': 'Cumulative Gains Curve'}, xlabel='Percentage of sample', ylabel='Gain'>"
      ]
     },
     "execution_count": 95,
     "metadata": {},
     "output_type": "execute_result"
    },
    {
     "data": {
      "image/png": "[encoded data removed]",
      "text/plain": [
       "<Figure size 640x480 with 1 Axes>"
      ]
     },
     "metadata": {},
     "output_type": "display_data"
    }
   ],
   "source": [
    "# acumulative gain\n",
    "skplt.metrics.plot_cumulative_gain( y_test , yhat_knn )"
   ]
  },
  {
   "cell_type": "code",
   "execution_count": 96,
   "id": "8b0bf880",
   "metadata": {
    "ExecuteTime": {
     "end_time": "2024-02-17T10:25:12.783862Z",
     "start_time": "2024-02-17T10:25:11.963648Z"
    },
    "hide_input": false
   },
   "outputs": [
    {
     "data": {
      "text/plain": [
       "<Axes: title={'center': 'Cumulative Gains Curve'}, xlabel='Percentage of sample', ylabel='Gain'>"
      ]
     },
     "execution_count": 96,
     "metadata": {},
     "output_type": "execute_result"
    },
    {
     "data": {
      "image/png": "[encoded data removed]",
      "text/plain": [
       "<Figure size 640x480 with 1 Axes>"
      ]
     },
     "metadata": {},
     "output_type": "display_data"
    }
   ],
   "source": [
    "# model definition\n",
    "lr_model = lm.LogisticRegression( random_state = 42 )\n",
    "\n",
    "# model training\n",
    "lr_model.fit( x_train, y_train )\n",
    "\n",
    "# model prediction\n",
    "yhat_lr = lr_model.predict_proba( x_test )\n",
    "\n",
    "# acumulative gain\n",
    "skplt.metrics.plot_cumulative_gain( y_test , yhat_lr )"
   ]
  },
  {
   "cell_type": "markdown",
   "id": "21f9e34f",
   "metadata": {
    "ExecuteTime": {
     "end_time": "2024-02-17T10:37:46.694290Z",
     "start_time": "2024-02-17T10:37:46.684276Z"
    }
   },
   "source": [
    "# 7.2 ROC Curve Calculation"
   ]
  },
  {
   "cell_type": "code",
   "execution_count": 132,
   "id": "b2df599b",
   "metadata": {
    "ExecuteTime": {
     "end_time": "2024-02-17T10:54:07.254496Z",
     "start_time": "2024-02-17T10:54:07.218569Z"
    }
   },
   "outputs": [],
   "source": [
    "# pego as métricas para calcular a curva ROC\n",
    "fpr, tpr, thresholds = roc_curve(y_test, yhat_lr[:,1])"
   ]
  },
  {
   "cell_type": "code",
   "execution_count": 133,
   "id": "fea1a3cf",
   "metadata": {
    "ExecuteTime": {
     "end_time": "2024-02-17T10:54:09.119635Z",
     "start_time": "2024-02-17T10:54:08.962260Z"
    }
   },
   "outputs": [
    {
     "data": {
      "text/plain": [
       "[<matplotlib.lines.Line2D at 0x15f1ec28400>]"
      ]
     },
     "execution_count": 133,
     "metadata": {},
     "output_type": "execute_result"
    },
    {
     "data": {
      "image/png": "[encoded data removed]",
      "text/plain": [
       "<Figure size 640x480 with 1 Axes>"
      ]
     },
     "metadata": {},
     "output_type": "display_data"
    }
   ],
   "source": [
    "# plotando a curva\n",
    "plt.plot( fpr , tpr , color = 'darkorange' )\n"
   ]
  },
  {
   "cell_type": "markdown",
   "id": "3f17c9c4",
   "metadata": {},
   "source": [
    "## 8.0 Model Performance "
   ]
  },
  {
   "cell_type": "code",
   "execution_count": 97,
   "id": "28d7558a",
   "metadata": {
    "ExecuteTime": {
     "end_time": "2024-02-17T10:25:12.799830Z",
     "start_time": "2024-02-17T10:25:12.786866Z"
    }
   },
   "outputs": [],
   "source": [
    "def precicion_at_k( data , k = 2000 ):\n",
    "    # reset index\n",
    "    data = data.reset_index( drop = True )\n",
    "\n",
    "    # create index\n",
    "    data['ranking'] = data.index + 1\n",
    "\n",
    "    # create columns precision score\n",
    "    data['precision_at_k'] = data['response'].cumsum() / data['ranking']\n",
    "\n",
    "    return data.loc[ k, 'precision_at_k' ]\n"
   ]
  },
  {
   "cell_type": "code",
   "execution_count": 98,
   "id": "a91b7a04",
   "metadata": {
    "ExecuteTime": {
     "end_time": "2024-02-17T10:25:12.830618Z",
     "start_time": "2024-02-17T10:25:12.803822Z"
    }
   },
   "outputs": [],
   "source": [
    "def recall( data , k = 2000 ):\n",
    "    # reset index\n",
    "    data = data.reset_index( drop = True )\n",
    "\n",
    "    # create index\n",
    "    data['ranking'] = data.index + 1\n",
    "\n",
    "    # create columns precision score\n",
    "    data['recall_at_k'] = data['response'].cumsum() / data['response'].sum()\n",
    "\n",
    "    return data.loc[ k, 'recall_at_k' ]\n"
   ]
  },
  {
   "cell_type": "code",
   "execution_count": 99,
   "id": "3067c5c7",
   "metadata": {
    "ExecuteTime": {
     "end_time": "2024-02-17T10:25:12.909442Z",
     "start_time": "2024-02-17T10:25:12.833243Z"
    }
   },
   "outputs": [
    {
     "name": "stdout",
     "output_type": "stream",
     "text": [
      "Precision at K 0.37254901960784315\n",
      "Recall at k 0.0013637668676428367\n"
     ]
    }
   ],
   "source": [
    "# copy data\n",
    "df8 = x_test.copy()\n",
    "df8['response'] = y_test.copy()\n",
    "\n",
    "# propensity score\n",
    "df8['score'] = yhat_knn[:,1].tolist()\n",
    "\n",
    "# sort clients by propensity score\n",
    "df8 = df8.sort_values( 'score', ascending = False ).reset_index(  )\n",
    "\n",
    "# precicion_at_k\n",
    "precision = precicion_at_k( df8, k = 50 )\n",
    "print( 'Precision at K {}'.format( precision ) )\n",
    "\n",
    "# recall at k\n",
    "recall = recall( df8 , k = 50 )\n",
    "print( 'Recall at k {}'.format( recall ) )"
   ]
  },
  {
   "cell_type": "markdown",
   "id": "cd51966a",
   "metadata": {},
   "source": [
    "## 9.0 - Deploy to Production"
   ]
  },
  {
   "cell_type": "code",
   "execution_count": 100,
   "id": "37a7c694",
   "metadata": {
    "ExecuteTime": {
     "end_time": "2024-02-17T10:25:12.940945Z",
     "start_time": "2024-02-17T10:25:12.913441Z"
    }
   },
   "outputs": [],
   "source": [
    "# save trained model\n",
    "pickle.dump( lr_model, open( r'\\Users\\oscar\\Documents\\repos\\pa004\\models\\model_linear_regression.pkl' , 'wb' ) )"
   ]
  },
  {
   "cell_type": "code",
   "execution_count": 101,
   "id": "cf3aa0b9",
   "metadata": {
    "ExecuteTime": {
     "end_time": "2024-02-17T10:25:12.972900Z",
     "start_time": "2024-02-17T10:25:12.944936Z"
    }
   },
   "outputs": [],
   "source": [
    "import pickle\n",
    "import numpy as np\n",
    "import pandas as pd\n",
    "\n",
    "class HealthInsurance:\n",
    "    \n",
    "    def __init__( self ):\n",
    "        self.home_path                    =  r'\\Users\\oscar\\Documents\\repos\\pa004\\features_transformation'\n",
    "        self.annual_premium_scaler        = pickle.load( open( self.home_path + '\\annual_premium_scaler.pkl' )  )\n",
    "        self.fe_policy_sales_channel      = pickle.load( open( self.home_path + '\\fe_policy_sales_channel.pkl' ) ) \n",
    "        self.mms_age                      = pickle.load( open( self.home_path + '\\mms_age.pkl' ) )\n",
    "        self.mms_vintage                  = pickle.load( open( self.home_path + '\\mms_vintage.pkl' ) )\n",
    "        self.target_encoding_gender       = pickle.load( open( self.home_path + '\\target_encoding_gender.pkl' ) )\n",
    "        self.target_enconding_region_code = pickle.load( open( self.home_path + '\\target_enconding_region_code') )\n",
    "        \n",
    "    def feature_engineering( df2 ):\n",
    "        # vehicle_age\n",
    "        df2['vehicle_age'] = df2['vehicle_age'].apply( lambda x: 'over_2_years' if x == '> 2 Years' else 'between_1_2_years' \n",
    "                                                                        if x == '1-2 Year' else 'below_1_year')\n",
    "        # vehicle_damage\n",
    "        df2['vehicle_damage'] = df2['vehicle_damage'].apply( lambda x : 1 if x == 'Yes' else 0 )\n",
    "        \n",
    "        return df2\n",
    "        \n",
    "    def data_prepatation( self, df5 ):\n",
    "    \n",
    "        # annual premium\n",
    "        df5['annual_premium'] = self.annual_premium_scaler.transform(df5[['annual_premium']].values)\n",
    "\n",
    "        # age\n",
    "        df5['age'] = self.mms_age.transform(df5[['age']].values)\n",
    "\n",
    "        # vintage\n",
    "        df5['vintage'] = self.mms_vintage.transform(df5[['vintage']].values)\n",
    "\n",
    "        # gender - One Hot Encoding / Target Encoding\n",
    "        df5.loc[:,'gender'] = df5['gender'].map( self.target_encoding_gender  )\n",
    "\n",
    "        # region code - Frequency Encoding / Target Encoding / Weighted Target Encoding\n",
    "        df5.loc[:,'region_code'] = df5['region_code'].map( self.target_enconding_region_code )\n",
    "\n",
    "        # vehicle_age\n",
    "        df5 = pd.get_dummies( data = df5, prefix = 'vehicle_age', columns = ['vehicle_age']  )\n",
    "\n",
    "        # policy_sales_channel\n",
    "\n",
    "        df5.loc[:, 'policy_sales_channel'] = df5['policy_sales_channel'].map( self.fe_policy_sales_channel )\n",
    "\n",
    "        cols_selected = ['annual_premium', 'vintage', 'age', 'region_code', 'vehicle_damage', 'previously_insured', 'policy_sales_channel']\n",
    "\n",
    "        return df5[ cols_selected ]\n",
    "\n",
    "    def get_prediction( self, model, original_data, test_data ):\n",
    "        # prediction\n",
    "        pred = model.predict_proba( test_data )[:,1]\n",
    "        \n",
    "        # join prediction into original data\n",
    "        original_data['prediction'] = pred\n",
    "        \n",
    "        return original_data.tojson( orient = 'records' , date_format = 'iso' )\n",
    "        "
   ]
  },
  {
   "cell_type": "markdown",
   "id": "3db97ab3",
   "metadata": {},
   "source": [
    "## 9.2 - API Handler"
   ]
  },
  {
   "cell_type": "code",
   "execution_count": 102,
   "id": "55f460e6",
   "metadata": {
    "ExecuteTime": {
     "end_time": "2024-02-17T10:25:12.988819Z",
     "start_time": "2024-02-17T10:25:12.975852Z"
    }
   },
   "outputs": [],
   "source": [
    "# import pickle\n",
    "# import pandas as pd\n",
    "# from flask import Flask, request, Response\n",
    "# from modules.healthinsurance import HealthInsurance \n",
    "\n",
    "# # loading model\n",
    "# model = pickle.load( open( 'models/model_linear_regression.pkl', 'rb' ) )\n",
    "\n",
    "# # initlize API\n",
    "# app = Flask( __name__ )\n",
    "\n",
    "# @app.route( '/predict', methods = ['POST'] )\n",
    "# def health_insurance_predict():\n",
    "#     test_json = request.get_json()\n",
    "    \n",
    "#     if test_json:\n",
    "#         if isinstance( test_json , dict ):\n",
    "            \n",
    "#             test_raw = pd.DataFrame( test_json , index = [0] )\n",
    "#         else:\n",
    "#             test_raw = pd.DataFrame( test_json , columns = test_json[0].keys() )\n",
    "            \n",
    "#         # Initialize Rossmann Class\n",
    "#         pipeline = HealthInsurance()\n",
    "        \n",
    "#         # feature engineering\n",
    "#         df1 = pipeline.feature_engineering( test_raw )\n",
    "        \n",
    "#         # data preparation\n",
    "#         df2 = pipeline.data_prepatation( df1 )\n",
    "        \n",
    "#         # get prediction\n",
    "#         df_response = pipeline.get_prediction( model, test_raw , df2 )\n",
    "        \n",
    "#         return df_response\n",
    "    \n",
    "#     else:\n",
    "        \n",
    "#         return Response( '{}', status = 200 , mimetype = 'application/json' )\n",
    "    \n",
    "# if __name__ == '__main__':\n",
    "    \n",
    "#     app.run( '0.0.0.0', debug = True , use_reloader=False)\n",
    "        \n"
   ]
  },
  {
   "cell_type": "markdown",
   "id": "798d643b",
   "metadata": {
    "ExecuteTime": {
     "end_time": "2023-07-08T18:25:57.807156Z",
     "start_time": "2023-07-08T18:25:57.803165Z"
    }
   },
   "source": [
    "## 9.3 - API Tester"
   ]
  },
  {
   "cell_type": "code",
   "execution_count": 141,
   "id": "df6b697a",
   "metadata": {
    "ExecuteTime": {
     "end_time": "2024-02-17T11:06:05.435701Z",
     "start_time": "2024-02-17T11:06:05.288885Z"
    }
   },
   "outputs": [],
   "source": [
    "import requests"
   ]
  },
  {
   "cell_type": "code",
   "execution_count": 143,
   "id": "20642e0a",
   "metadata": {
    "ExecuteTime": {
     "end_time": "2024-02-17T11:06:25.832204Z",
     "start_time": "2024-02-17T11:06:25.816216Z"
    }
   },
   "outputs": [],
   "source": [
    "# loading test dataset\n",
    "df_test = x_test\n",
    "df_test['response'] = y_test"
   ]
  },
  {
   "cell_type": "code",
   "execution_count": 144,
   "id": "33fba6df",
   "metadata": {
    "ExecuteTime": {
     "end_time": "2024-02-17T11:06:29.199826Z",
     "start_time": "2024-02-17T11:06:29.168619Z"
    }
   },
   "outputs": [],
   "source": [
    "# pego uma amostra\n",
    "df_test = df_test.sample( 10 )"
   ]
  },
  {
   "cell_type": "code",
   "execution_count": 145,
   "id": "de3efc0c",
   "metadata": {
    "ExecuteTime": {
     "end_time": "2024-02-17T11:06:31.007165Z",
     "start_time": "2024-02-17T11:06:30.976326Z"
    }
   },
   "outputs": [],
   "source": [
    "df_test.to_csv( 'pa004.csv' )"
   ]
  },
  {
   "cell_type": "code",
   "execution_count": 146,
   "id": "79dece10",
   "metadata": {
    "ExecuteTime": {
     "end_time": "2024-02-17T11:06:32.644293Z",
     "start_time": "2024-02-17T11:06:32.633584Z"
    }
   },
   "outputs": [],
   "source": [
    "# convert into dict\n",
    "data = json.dumps( df_test.to_dict( orient = 'records' ) )"
   ]
  },
  {
   "cell_type": "code",
   "execution_count": 147,
   "id": "dd6cf862",
   "metadata": {
    "ExecuteTime": {
     "end_time": "2024-02-17T11:06:35.753183Z",
     "start_time": "2024-02-17T11:06:34.305162Z"
    }
   },
   "outputs": [
    {
     "name": "stdout",
     "output_type": "stream",
     "text": [
      "Status Code 500\n"
     ]
    }
   ],
   "source": [
    "url = 'https://healthinsurace.lm.r.appspot.com/predict'\n",
    "header = { 'Content-type' : 'application/json' }\n",
    "\n",
    "r = requests.post( url = url , data = data , headers = header )\n",
    "print( 'Status Code {}'.format( r.status_code ) )"
   ]
  },
  {
   "cell_type": "code",
   "execution_count": 148,
   "id": "13595fb7",
   "metadata": {
    "ExecuteTime": {
     "end_time": "2024-02-17T11:06:38.571626Z",
     "start_time": "2024-02-17T11:06:38.409707Z"
    },
    "scrolled": true
   },
   "outputs": [
    {
     "ename": "JSONDecodeError",
     "evalue": "Expecting value: line 2 column 1 (char 1)",
     "output_type": "error",
     "traceback": [
      "\u001b[1;31m---------------------------------------------------------------------------\u001b[0m",
      "\u001b[1;31mJSONDecodeError\u001b[0m                           Traceback (most recent call last)",
      "File \u001b[1;32m~\\Documents\\repos\\pa004\\venv_pa004\\lib\\site-packages\\requests\\models.py:971\u001b[0m, in \u001b[0;36mResponse.json\u001b[1;34m(self, **kwargs)\u001b[0m\n\u001b[0;32m    970\u001b[0m \u001b[38;5;28;01mtry\u001b[39;00m:\n\u001b[1;32m--> 971\u001b[0m     \u001b[38;5;28;01mreturn\u001b[39;00m complexjson\u001b[38;5;241m.\u001b[39mloads(\u001b[38;5;28mself\u001b[39m\u001b[38;5;241m.\u001b[39mtext, \u001b[38;5;241m*\u001b[39m\u001b[38;5;241m*\u001b[39mkwargs)\n\u001b[0;32m    972\u001b[0m \u001b[38;5;28;01mexcept\u001b[39;00m JSONDecodeError \u001b[38;5;28;01mas\u001b[39;00m e:\n\u001b[0;32m    973\u001b[0m     \u001b[38;5;66;03m# Catch JSON-related errors and raise as requests.JSONDecodeError\u001b[39;00m\n\u001b[0;32m    974\u001b[0m     \u001b[38;5;66;03m# This aliases json.JSONDecodeError and simplejson.JSONDecodeError\u001b[39;00m\n",
      "File \u001b[1;32m~\\AppData\\Local\\Programs\\Python\\Python39\\lib\\json\\__init__.py:346\u001b[0m, in \u001b[0;36mloads\u001b[1;34m(s, cls, object_hook, parse_float, parse_int, parse_constant, object_pairs_hook, **kw)\u001b[0m\n\u001b[0;32m    343\u001b[0m \u001b[38;5;28;01mif\u001b[39;00m (\u001b[38;5;28mcls\u001b[39m \u001b[38;5;129;01mis\u001b[39;00m \u001b[38;5;28;01mNone\u001b[39;00m \u001b[38;5;129;01mand\u001b[39;00m object_hook \u001b[38;5;129;01mis\u001b[39;00m \u001b[38;5;28;01mNone\u001b[39;00m \u001b[38;5;129;01mand\u001b[39;00m\n\u001b[0;32m    344\u001b[0m         parse_int \u001b[38;5;129;01mis\u001b[39;00m \u001b[38;5;28;01mNone\u001b[39;00m \u001b[38;5;129;01mand\u001b[39;00m parse_float \u001b[38;5;129;01mis\u001b[39;00m \u001b[38;5;28;01mNone\u001b[39;00m \u001b[38;5;129;01mand\u001b[39;00m\n\u001b[0;32m    345\u001b[0m         parse_constant \u001b[38;5;129;01mis\u001b[39;00m \u001b[38;5;28;01mNone\u001b[39;00m \u001b[38;5;129;01mand\u001b[39;00m object_pairs_hook \u001b[38;5;129;01mis\u001b[39;00m \u001b[38;5;28;01mNone\u001b[39;00m \u001b[38;5;129;01mand\u001b[39;00m \u001b[38;5;129;01mnot\u001b[39;00m kw):\n\u001b[1;32m--> 346\u001b[0m     \u001b[38;5;28;01mreturn\u001b[39;00m \u001b[43m_default_decoder\u001b[49m\u001b[38;5;241;43m.\u001b[39;49m\u001b[43mdecode\u001b[49m\u001b[43m(\u001b[49m\u001b[43ms\u001b[49m\u001b[43m)\u001b[49m\n\u001b[0;32m    347\u001b[0m \u001b[38;5;28;01mif\u001b[39;00m \u001b[38;5;28mcls\u001b[39m \u001b[38;5;129;01mis\u001b[39;00m \u001b[38;5;28;01mNone\u001b[39;00m:\n",
      "File \u001b[1;32m~\\AppData\\Local\\Programs\\Python\\Python39\\lib\\json\\decoder.py:337\u001b[0m, in \u001b[0;36mJSONDecoder.decode\u001b[1;34m(self, s, _w)\u001b[0m\n\u001b[0;32m    333\u001b[0m \u001b[38;5;250m\u001b[39m\u001b[38;5;124;03m\"\"\"Return the Python representation of ``s`` (a ``str`` instance\u001b[39;00m\n\u001b[0;32m    334\u001b[0m \u001b[38;5;124;03mcontaining a JSON document).\u001b[39;00m\n\u001b[0;32m    335\u001b[0m \n\u001b[0;32m    336\u001b[0m \u001b[38;5;124;03m\"\"\"\u001b[39;00m\n\u001b[1;32m--> 337\u001b[0m obj, end \u001b[38;5;241m=\u001b[39m \u001b[38;5;28;43mself\u001b[39;49m\u001b[38;5;241;43m.\u001b[39;49m\u001b[43mraw_decode\u001b[49m\u001b[43m(\u001b[49m\u001b[43ms\u001b[49m\u001b[43m,\u001b[49m\u001b[43m \u001b[49m\u001b[43midx\u001b[49m\u001b[38;5;241;43m=\u001b[39;49m\u001b[43m_w\u001b[49m\u001b[43m(\u001b[49m\u001b[43ms\u001b[49m\u001b[43m,\u001b[49m\u001b[43m \u001b[49m\u001b[38;5;241;43m0\u001b[39;49m\u001b[43m)\u001b[49m\u001b[38;5;241;43m.\u001b[39;49m\u001b[43mend\u001b[49m\u001b[43m(\u001b[49m\u001b[43m)\u001b[49m\u001b[43m)\u001b[49m\n\u001b[0;32m    338\u001b[0m end \u001b[38;5;241m=\u001b[39m _w(s, end)\u001b[38;5;241m.\u001b[39mend()\n",
      "File \u001b[1;32m~\\AppData\\Local\\Programs\\Python\\Python39\\lib\\json\\decoder.py:355\u001b[0m, in \u001b[0;36mJSONDecoder.raw_decode\u001b[1;34m(self, s, idx)\u001b[0m\n\u001b[0;32m    354\u001b[0m \u001b[38;5;28;01mexcept\u001b[39;00m \u001b[38;5;167;01mStopIteration\u001b[39;00m \u001b[38;5;28;01mas\u001b[39;00m err:\n\u001b[1;32m--> 355\u001b[0m     \u001b[38;5;28;01mraise\u001b[39;00m JSONDecodeError(\u001b[38;5;124m\"\u001b[39m\u001b[38;5;124mExpecting value\u001b[39m\u001b[38;5;124m\"\u001b[39m, s, err\u001b[38;5;241m.\u001b[39mvalue) \u001b[38;5;28;01mfrom\u001b[39;00m \u001b[38;5;28;01mNone\u001b[39;00m\n\u001b[0;32m    356\u001b[0m \u001b[38;5;28;01mreturn\u001b[39;00m obj, end\n",
      "\u001b[1;31mJSONDecodeError\u001b[0m: Expecting value: line 2 column 1 (char 1)",
      "\nDuring handling of the above exception, another exception occurred:\n",
      "\u001b[1;31mJSONDecodeError\u001b[0m                           Traceback (most recent call last)",
      "Cell \u001b[1;32mIn[148], line 1\u001b[0m\n\u001b[1;32m----> 1\u001b[0m d1 \u001b[38;5;241m=\u001b[39m pd\u001b[38;5;241m.\u001b[39mDataFrame( \u001b[43mr\u001b[49m\u001b[38;5;241;43m.\u001b[39;49m\u001b[43mjson\u001b[49m\u001b[43m(\u001b[49m\u001b[43m)\u001b[49m , columns \u001b[38;5;241m=\u001b[39m r\u001b[38;5;241m.\u001b[39mjson()[\u001b[38;5;241m0\u001b[39m]\u001b[38;5;241m.\u001b[39mkeys() )\n\u001b[0;32m      2\u001b[0m d1\u001b[38;5;241m.\u001b[39msort_values( by \u001b[38;5;241m=\u001b[39m \u001b[38;5;124m'\u001b[39m\u001b[38;5;124mprediction\u001b[39m\u001b[38;5;124m'\u001b[39m , ascending \u001b[38;5;241m=\u001b[39m \u001b[38;5;28;01mFalse\u001b[39;00m )\n",
      "File \u001b[1;32m~\\Documents\\repos\\pa004\\venv_pa004\\lib\\site-packages\\requests\\models.py:975\u001b[0m, in \u001b[0;36mResponse.json\u001b[1;34m(self, **kwargs)\u001b[0m\n\u001b[0;32m    971\u001b[0m     \u001b[38;5;28;01mreturn\u001b[39;00m complexjson\u001b[38;5;241m.\u001b[39mloads(\u001b[38;5;28mself\u001b[39m\u001b[38;5;241m.\u001b[39mtext, \u001b[38;5;241m*\u001b[39m\u001b[38;5;241m*\u001b[39mkwargs)\n\u001b[0;32m    972\u001b[0m \u001b[38;5;28;01mexcept\u001b[39;00m JSONDecodeError \u001b[38;5;28;01mas\u001b[39;00m e:\n\u001b[0;32m    973\u001b[0m     \u001b[38;5;66;03m# Catch JSON-related errors and raise as requests.JSONDecodeError\u001b[39;00m\n\u001b[0;32m    974\u001b[0m     \u001b[38;5;66;03m# This aliases json.JSONDecodeError and simplejson.JSONDecodeError\u001b[39;00m\n\u001b[1;32m--> 975\u001b[0m     \u001b[38;5;28;01mraise\u001b[39;00m RequestsJSONDecodeError(e\u001b[38;5;241m.\u001b[39mmsg, e\u001b[38;5;241m.\u001b[39mdoc, e\u001b[38;5;241m.\u001b[39mpos)\n",
      "\u001b[1;31mJSONDecodeError\u001b[0m: Expecting value: line 2 column 1 (char 1)"
     ]
    }
   ],
   "source": [
    "d1 = pd.DataFrame( r.json() , columns = r.json()[0].keys() )\n",
    "d1.sort_values( by = 'prediction' , ascending = False )"
   ]
  }
 ],
 "metadata": {
  "kernelspec": {
   "display_name": "venv_pa004",
   "language": "python",
   "name": "venv_pa004"
  },
  "language_info": {
   "codemirror_mode": {
    "name": "ipython",
    "version": 3
   },
   "file_extension": ".py",
   "mimetype": "text/x-python",
   "name": "python",
   "nbconvert_exporter": "python",
   "pygments_lexer": "ipython3",
   "version": "3.9.7"
  }
 },
 "nbformat": 4,
 "nbformat_minor": 5
}
