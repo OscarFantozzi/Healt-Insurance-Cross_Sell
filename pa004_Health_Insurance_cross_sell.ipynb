{
 "cells": [
  {
   "cell_type": "markdown",
   "id": "d8579add",
   "metadata": {},
   "source": [
    "# 0.0 Imports"
   ]
  },
  {
   "cell_type": "code",
   "execution_count": 1,
   "id": "67d4f6e2",
   "metadata": {
    "ExecuteTime": {
     "end_time": "2023-07-08T19:15:30.665094Z",
     "start_time": "2023-07-08T19:15:28.550127Z"
    }
   },
   "outputs": [],
   "source": [
    "import pandas     as pd\n",
    "import numpy      as np\n",
    "import seaborn    as sns\n",
    "import scikitplot as skplt\n",
    "import pickle\n",
    "\n",
    "from matplotlib import pyplot          as plt\n",
    "from sklearn    import preprocessing   as pp\n",
    "from sklearn    import model_selection as ms\n",
    "from sklearn    import ensemble        as en\n",
    "from sklearn    import neighbors       as nh\n",
    "from sklearn    import linear_model    as lm"
   ]
  },
  {
   "cell_type": "markdown",
   "id": "1aa34516",
   "metadata": {
    "heading_collapsed": true
   },
   "source": [
    "# 0.1 Loading Dataset"
   ]
  },
  {
   "cell_type": "code",
   "execution_count": 2,
   "id": "017513f8",
   "metadata": {
    "ExecuteTime": {
     "end_time": "2023-07-08T19:15:31.143147Z",
     "start_time": "2023-07-08T19:15:30.667117Z"
    },
    "hidden": true
   },
   "outputs": [
    {
     "data": {
      "text/html": [
       "<div>\n",
       "<style scoped>\n",
       "    .dataframe tbody tr th:only-of-type {\n",
       "        vertical-align: middle;\n",
       "    }\n",
       "\n",
       "    .dataframe tbody tr th {\n",
       "        vertical-align: top;\n",
       "    }\n",
       "\n",
       "    .dataframe thead th {\n",
       "        text-align: right;\n",
       "    }\n",
       "</style>\n",
       "<table border=\"1\" class=\"dataframe\">\n",
       "  <thead>\n",
       "    <tr style=\"text-align: right;\">\n",
       "      <th></th>\n",
       "      <th>id</th>\n",
       "      <th>gender</th>\n",
       "      <th>age</th>\n",
       "      <th>region_code</th>\n",
       "      <th>policy_sales_channel</th>\n",
       "      <th>previously_insured</th>\n",
       "      <th>annual_premium</th>\n",
       "      <th>vintage</th>\n",
       "      <th>response</th>\n",
       "      <th>driving_license</th>\n",
       "      <th>vehicle_age</th>\n",
       "      <th>vehicle_damage</th>\n",
       "    </tr>\n",
       "  </thead>\n",
       "  <tbody>\n",
       "    <tr>\n",
       "      <th>143003</th>\n",
       "      <td>1</td>\n",
       "      <td>Male</td>\n",
       "      <td>44</td>\n",
       "      <td>28.0</td>\n",
       "      <td>26.0</td>\n",
       "      <td>0</td>\n",
       "      <td>40454.0</td>\n",
       "      <td>217</td>\n",
       "      <td>1</td>\n",
       "      <td>1</td>\n",
       "      <td>&gt; 2 Years</td>\n",
       "      <td>Yes</td>\n",
       "    </tr>\n",
       "    <tr>\n",
       "      <th>286227</th>\n",
       "      <td>2</td>\n",
       "      <td>Male</td>\n",
       "      <td>76</td>\n",
       "      <td>3.0</td>\n",
       "      <td>26.0</td>\n",
       "      <td>0</td>\n",
       "      <td>33536.0</td>\n",
       "      <td>183</td>\n",
       "      <td>0</td>\n",
       "      <td>1</td>\n",
       "      <td>1-2 Year</td>\n",
       "      <td>No</td>\n",
       "    </tr>\n",
       "    <tr>\n",
       "      <th>143004</th>\n",
       "      <td>3</td>\n",
       "      <td>Male</td>\n",
       "      <td>47</td>\n",
       "      <td>28.0</td>\n",
       "      <td>26.0</td>\n",
       "      <td>0</td>\n",
       "      <td>38294.0</td>\n",
       "      <td>27</td>\n",
       "      <td>1</td>\n",
       "      <td>1</td>\n",
       "      <td>&gt; 2 Years</td>\n",
       "      <td>Yes</td>\n",
       "    </tr>\n",
       "    <tr>\n",
       "      <th>190848</th>\n",
       "      <td>4</td>\n",
       "      <td>Male</td>\n",
       "      <td>21</td>\n",
       "      <td>11.0</td>\n",
       "      <td>152.0</td>\n",
       "      <td>1</td>\n",
       "      <td>28619.0</td>\n",
       "      <td>203</td>\n",
       "      <td>0</td>\n",
       "      <td>1</td>\n",
       "      <td>&lt; 1 Year</td>\n",
       "      <td>No</td>\n",
       "    </tr>\n",
       "    <tr>\n",
       "      <th>238464</th>\n",
       "      <td>5</td>\n",
       "      <td>Female</td>\n",
       "      <td>29</td>\n",
       "      <td>41.0</td>\n",
       "      <td>152.0</td>\n",
       "      <td>1</td>\n",
       "      <td>27496.0</td>\n",
       "      <td>39</td>\n",
       "      <td>0</td>\n",
       "      <td>1</td>\n",
       "      <td>&lt; 1 Year</td>\n",
       "      <td>No</td>\n",
       "    </tr>\n",
       "  </tbody>\n",
       "</table>\n",
       "</div>"
      ],
      "text/plain": [
       "        id  gender  age  region_code  policy_sales_channel   \n",
       "143003   1    Male   44         28.0                  26.0  \\\n",
       "286227   2    Male   76          3.0                  26.0   \n",
       "143004   3    Male   47         28.0                  26.0   \n",
       "190848   4    Male   21         11.0                 152.0   \n",
       "238464   5  Female   29         41.0                 152.0   \n",
       "\n",
       "        previously_insured  annual_premium  vintage  response   \n",
       "143003                   0         40454.0      217         1  \\\n",
       "286227                   0         33536.0      183         0   \n",
       "143004                   0         38294.0       27         1   \n",
       "190848                   1         28619.0      203         0   \n",
       "238464                   1         27496.0       39         0   \n",
       "\n",
       "        driving_license vehicle_age vehicle_damage  \n",
       "143003                1   > 2 Years            Yes  \n",
       "286227                1    1-2 Year             No  \n",
       "143004                1   > 2 Years            Yes  \n",
       "190848                1    < 1 Year             No  \n",
       "238464                1    < 1 Year             No  "
      ]
     },
     "execution_count": 2,
     "metadata": {},
     "output_type": "execute_result"
    }
   ],
   "source": [
    "df_raw = pd.read_csv( 'data/insurance_data.csv' ).sort_values( by = 'id' )\n",
    "df_raw.head()"
   ]
  },
  {
   "cell_type": "markdown",
   "id": "fd580d9a",
   "metadata": {},
   "source": [
    "# 1.0 Data Description"
   ]
  },
  {
   "cell_type": "code",
   "execution_count": 3,
   "id": "8199caeb",
   "metadata": {
    "ExecuteTime": {
     "end_time": "2023-07-08T19:15:31.174403Z",
     "start_time": "2023-07-08T19:15:31.146837Z"
    }
   },
   "outputs": [],
   "source": [
    "df1 = df_raw.copy()"
   ]
  },
  {
   "cell_type": "markdown",
   "id": "ff2e7947",
   "metadata": {
    "ExecuteTime": {
     "end_time": "2023-05-01T11:45:36.360095Z",
     "start_time": "2023-05-01T11:45:36.353113Z"
    }
   },
   "source": [
    "## 1.1 Data Dimension"
   ]
  },
  {
   "cell_type": "code",
   "execution_count": 4,
   "id": "434b404d",
   "metadata": {
    "ExecuteTime": {
     "end_time": "2023-07-08T19:15:31.190629Z",
     "start_time": "2023-07-08T19:15:31.175404Z"
    }
   },
   "outputs": [
    {
     "name": "stdout",
     "output_type": "stream",
     "text": [
      "Numbers of rows 381109\n",
      "Numbers of columns 12\n"
     ]
    }
   ],
   "source": [
    "print( 'Numbers of rows {}'.format( df1.shape[0] ) )\n",
    "print( 'Numbers of columns {}'.format( df1.shape[1] ) )"
   ]
  },
  {
   "cell_type": "markdown",
   "id": "f195dd15",
   "metadata": {},
   "source": [
    "## 1.2 Data Types"
   ]
  },
  {
   "cell_type": "code",
   "execution_count": 5,
   "id": "4c2b52fc",
   "metadata": {
    "ExecuteTime": {
     "end_time": "2023-07-08T19:15:31.206320Z",
     "start_time": "2023-07-08T19:15:31.192358Z"
    }
   },
   "outputs": [
    {
     "data": {
      "text/plain": [
       "id                        int64\n",
       "gender                   object\n",
       "age                       int64\n",
       "region_code             float64\n",
       "policy_sales_channel    float64\n",
       "previously_insured        int64\n",
       "annual_premium          float64\n",
       "vintage                   int64\n",
       "response                  int64\n",
       "driving_license           int64\n",
       "vehicle_age              object\n",
       "vehicle_damage           object\n",
       "dtype: object"
      ]
     },
     "execution_count": 5,
     "metadata": {},
     "output_type": "execute_result"
    }
   ],
   "source": [
    "df1.dtypes"
   ]
  },
  {
   "cell_type": "markdown",
   "id": "d6dacd1e",
   "metadata": {},
   "source": [
    "## 1.3 Check NA\n"
   ]
  },
  {
   "cell_type": "code",
   "execution_count": 6,
   "id": "87c4ae51",
   "metadata": {
    "ExecuteTime": {
     "end_time": "2023-07-08T19:15:31.268154Z",
     "start_time": "2023-07-08T19:15:31.208315Z"
    }
   },
   "outputs": [
    {
     "data": {
      "text/plain": [
       "id                      0\n",
       "gender                  0\n",
       "age                     0\n",
       "region_code             0\n",
       "policy_sales_channel    0\n",
       "previously_insured      0\n",
       "annual_premium          0\n",
       "vintage                 0\n",
       "response                0\n",
       "driving_license         0\n",
       "vehicle_age             0\n",
       "vehicle_damage          0\n",
       "dtype: int64"
      ]
     },
     "execution_count": 6,
     "metadata": {},
     "output_type": "execute_result"
    }
   ],
   "source": [
    "df1.isna().sum()"
   ]
  },
  {
   "cell_type": "markdown",
   "id": "0af53fa4",
   "metadata": {},
   "source": [
    "## 1.4 Data Descriptive"
   ]
  },
  {
   "cell_type": "code",
   "execution_count": 7,
   "id": "c1d2831d",
   "metadata": {
    "ExecuteTime": {
     "end_time": "2023-07-08T19:15:31.299072Z",
     "start_time": "2023-07-08T19:15:31.270153Z"
    }
   },
   "outputs": [],
   "source": [
    "# separo em categoricos e numéricos\n",
    "num_attributes = df1.select_dtypes( include = ['int64', 'float64']  )\n",
    "cat_attributes = df1.select_dtypes( exclude = ['int64','float64','datetime64[ns]'] )"
   ]
  },
  {
   "cell_type": "code",
   "execution_count": 8,
   "id": "5579f5f5",
   "metadata": {
    "ExecuteTime": {
     "end_time": "2023-07-08T19:15:31.581320Z",
     "start_time": "2023-07-08T19:15:31.303066Z"
    }
   },
   "outputs": [
    {
     "data": {
      "text/html": [
       "<div>\n",
       "<style scoped>\n",
       "    .dataframe tbody tr th:only-of-type {\n",
       "        vertical-align: middle;\n",
       "    }\n",
       "\n",
       "    .dataframe tbody tr th {\n",
       "        vertical-align: top;\n",
       "    }\n",
       "\n",
       "    .dataframe thead th {\n",
       "        text-align: right;\n",
       "    }\n",
       "</style>\n",
       "<table border=\"1\" class=\"dataframe\">\n",
       "  <thead>\n",
       "    <tr style=\"text-align: right;\">\n",
       "      <th></th>\n",
       "      <th>features</th>\n",
       "      <th>min</th>\n",
       "      <th>max</th>\n",
       "      <th>range</th>\n",
       "      <th>mean</th>\n",
       "      <th>median</th>\n",
       "      <th>std</th>\n",
       "      <th>skew</th>\n",
       "      <th>kurtosis</th>\n",
       "    </tr>\n",
       "  </thead>\n",
       "  <tbody>\n",
       "    <tr>\n",
       "      <th>0</th>\n",
       "      <td>id</td>\n",
       "      <td>1.0</td>\n",
       "      <td>381109.0</td>\n",
       "      <td>381108.0</td>\n",
       "      <td>190555.000000</td>\n",
       "      <td>190555.0</td>\n",
       "      <td>110016.691870</td>\n",
       "      <td>9.443274e-16</td>\n",
       "      <td>-1.200000</td>\n",
       "    </tr>\n",
       "    <tr>\n",
       "      <th>1</th>\n",
       "      <td>age</td>\n",
       "      <td>20.0</td>\n",
       "      <td>85.0</td>\n",
       "      <td>65.0</td>\n",
       "      <td>38.822584</td>\n",
       "      <td>36.0</td>\n",
       "      <td>15.511591</td>\n",
       "      <td>6.725390e-01</td>\n",
       "      <td>-0.565655</td>\n",
       "    </tr>\n",
       "    <tr>\n",
       "      <th>2</th>\n",
       "      <td>region_code</td>\n",
       "      <td>0.0</td>\n",
       "      <td>52.0</td>\n",
       "      <td>52.0</td>\n",
       "      <td>26.388807</td>\n",
       "      <td>28.0</td>\n",
       "      <td>13.229871</td>\n",
       "      <td>-1.152664e-01</td>\n",
       "      <td>-0.867857</td>\n",
       "    </tr>\n",
       "    <tr>\n",
       "      <th>3</th>\n",
       "      <td>policy_sales_channel</td>\n",
       "      <td>1.0</td>\n",
       "      <td>163.0</td>\n",
       "      <td>162.0</td>\n",
       "      <td>112.034295</td>\n",
       "      <td>133.0</td>\n",
       "      <td>54.203924</td>\n",
       "      <td>-9.000081e-01</td>\n",
       "      <td>-0.970810</td>\n",
       "    </tr>\n",
       "    <tr>\n",
       "      <th>4</th>\n",
       "      <td>previously_insured</td>\n",
       "      <td>0.0</td>\n",
       "      <td>1.0</td>\n",
       "      <td>1.0</td>\n",
       "      <td>0.458210</td>\n",
       "      <td>0.0</td>\n",
       "      <td>0.498251</td>\n",
       "      <td>1.677471e-01</td>\n",
       "      <td>-1.971871</td>\n",
       "    </tr>\n",
       "    <tr>\n",
       "      <th>5</th>\n",
       "      <td>annual_premium</td>\n",
       "      <td>2630.0</td>\n",
       "      <td>540165.0</td>\n",
       "      <td>537535.0</td>\n",
       "      <td>30564.389581</td>\n",
       "      <td>31669.0</td>\n",
       "      <td>17213.132474</td>\n",
       "      <td>1.766087e+00</td>\n",
       "      <td>34.004569</td>\n",
       "    </tr>\n",
       "    <tr>\n",
       "      <th>6</th>\n",
       "      <td>vintage</td>\n",
       "      <td>10.0</td>\n",
       "      <td>299.0</td>\n",
       "      <td>289.0</td>\n",
       "      <td>154.347397</td>\n",
       "      <td>154.0</td>\n",
       "      <td>83.671194</td>\n",
       "      <td>3.029517e-03</td>\n",
       "      <td>-1.200688</td>\n",
       "    </tr>\n",
       "    <tr>\n",
       "      <th>7</th>\n",
       "      <td>response</td>\n",
       "      <td>0.0</td>\n",
       "      <td>1.0</td>\n",
       "      <td>1.0</td>\n",
       "      <td>0.122563</td>\n",
       "      <td>0.0</td>\n",
       "      <td>0.327935</td>\n",
       "      <td>2.301906e+00</td>\n",
       "      <td>3.298788</td>\n",
       "    </tr>\n",
       "    <tr>\n",
       "      <th>8</th>\n",
       "      <td>driving_license</td>\n",
       "      <td>0.0</td>\n",
       "      <td>1.0</td>\n",
       "      <td>1.0</td>\n",
       "      <td>0.997869</td>\n",
       "      <td>1.0</td>\n",
       "      <td>0.046109</td>\n",
       "      <td>-2.159518e+01</td>\n",
       "      <td>464.354302</td>\n",
       "    </tr>\n",
       "  </tbody>\n",
       "</table>\n",
       "</div>"
      ],
      "text/plain": [
       "               features     min       max     range           mean    median   \n",
       "0                    id     1.0  381109.0  381108.0  190555.000000  190555.0  \\\n",
       "1                   age    20.0      85.0      65.0      38.822584      36.0   \n",
       "2           region_code     0.0      52.0      52.0      26.388807      28.0   \n",
       "3  policy_sales_channel     1.0     163.0     162.0     112.034295     133.0   \n",
       "4    previously_insured     0.0       1.0       1.0       0.458210       0.0   \n",
       "5        annual_premium  2630.0  540165.0  537535.0   30564.389581   31669.0   \n",
       "6               vintage    10.0     299.0     289.0     154.347397     154.0   \n",
       "7              response     0.0       1.0       1.0       0.122563       0.0   \n",
       "8       driving_license     0.0       1.0       1.0       0.997869       1.0   \n",
       "\n",
       "             std          skew    kurtosis  \n",
       "0  110016.691870  9.443274e-16   -1.200000  \n",
       "1      15.511591  6.725390e-01   -0.565655  \n",
       "2      13.229871 -1.152664e-01   -0.867857  \n",
       "3      54.203924 -9.000081e-01   -0.970810  \n",
       "4       0.498251  1.677471e-01   -1.971871  \n",
       "5   17213.132474  1.766087e+00   34.004569  \n",
       "6      83.671194  3.029517e-03   -1.200688  \n",
       "7       0.327935  2.301906e+00    3.298788  \n",
       "8       0.046109 -2.159518e+01  464.354302  "
      ]
     },
     "execution_count": 8,
     "metadata": {},
     "output_type": "execute_result"
    }
   ],
   "source": [
    "# Central tendency - mean, median\n",
    "ct1 = pd.DataFrame( num_attributes.apply( np.mean ) ).T # calculado a media das colunas -- aplica em todas colunas\n",
    "ct2 = pd.DataFrame( num_attributes.apply( np.median) ).T # calculando a mediana\n",
    "\n",
    "# Dispersion - std, min, max, range, skew, kurtosis\n",
    "d1 = pd.DataFrame( num_attributes.apply( np.std ) ).T # calculando o std \n",
    "d2 = pd.DataFrame( num_attributes.apply( np.min ) ).T # calculando o min\n",
    "d3 = pd.DataFrame( num_attributes.apply( np.max ) ).T # calculando o max\n",
    "d4 = pd.DataFrame( num_attributes.apply( lambda x: x.max() - x.min()  ) ).T # calcula o range\n",
    "d5 = pd.DataFrame( num_attributes.apply( lambda x: x.skew() ) ).T # calcula o skew\n",
    "d6 = pd.DataFrame( num_attributes.apply( lambda x: x.kurtosis() ) ).T # calcula o kurtosis\n",
    "\n",
    "# concatenate\n",
    "m = pd.concat( [d2,d3,d4,ct1,ct2,d1,d5,d6] ).T.reset_index()\n",
    "m.columns = ['features','min','max','range','mean','median','std','skew','kurtosis'] \n",
    "m"
   ]
  },
  {
   "cell_type": "markdown",
   "id": "35fca6e9",
   "metadata": {},
   "source": [
    "# 2.0 Feature Engineering"
   ]
  },
  {
   "cell_type": "code",
   "execution_count": 9,
   "id": "9c07566a",
   "metadata": {
    "ExecuteTime": {
     "end_time": "2023-07-08T19:15:31.628157Z",
     "start_time": "2023-07-08T19:15:31.586305Z"
    }
   },
   "outputs": [
    {
     "data": {
      "text/html": [
       "<div>\n",
       "<style scoped>\n",
       "    .dataframe tbody tr th:only-of-type {\n",
       "        vertical-align: middle;\n",
       "    }\n",
       "\n",
       "    .dataframe tbody tr th {\n",
       "        vertical-align: top;\n",
       "    }\n",
       "\n",
       "    .dataframe thead th {\n",
       "        text-align: right;\n",
       "    }\n",
       "</style>\n",
       "<table border=\"1\" class=\"dataframe\">\n",
       "  <thead>\n",
       "    <tr style=\"text-align: right;\">\n",
       "      <th></th>\n",
       "      <th>id</th>\n",
       "      <th>gender</th>\n",
       "      <th>age</th>\n",
       "      <th>region_code</th>\n",
       "      <th>policy_sales_channel</th>\n",
       "      <th>previously_insured</th>\n",
       "      <th>annual_premium</th>\n",
       "      <th>vintage</th>\n",
       "      <th>response</th>\n",
       "      <th>driving_license</th>\n",
       "      <th>vehicle_age</th>\n",
       "      <th>vehicle_damage</th>\n",
       "    </tr>\n",
       "  </thead>\n",
       "  <tbody>\n",
       "    <tr>\n",
       "      <th>143003</th>\n",
       "      <td>1</td>\n",
       "      <td>Male</td>\n",
       "      <td>44</td>\n",
       "      <td>28.0</td>\n",
       "      <td>26.0</td>\n",
       "      <td>0</td>\n",
       "      <td>40454.0</td>\n",
       "      <td>217</td>\n",
       "      <td>1</td>\n",
       "      <td>1</td>\n",
       "      <td>&gt; 2 Years</td>\n",
       "      <td>Yes</td>\n",
       "    </tr>\n",
       "    <tr>\n",
       "      <th>286227</th>\n",
       "      <td>2</td>\n",
       "      <td>Male</td>\n",
       "      <td>76</td>\n",
       "      <td>3.0</td>\n",
       "      <td>26.0</td>\n",
       "      <td>0</td>\n",
       "      <td>33536.0</td>\n",
       "      <td>183</td>\n",
       "      <td>0</td>\n",
       "      <td>1</td>\n",
       "      <td>1-2 Year</td>\n",
       "      <td>No</td>\n",
       "    </tr>\n",
       "    <tr>\n",
       "      <th>143004</th>\n",
       "      <td>3</td>\n",
       "      <td>Male</td>\n",
       "      <td>47</td>\n",
       "      <td>28.0</td>\n",
       "      <td>26.0</td>\n",
       "      <td>0</td>\n",
       "      <td>38294.0</td>\n",
       "      <td>27</td>\n",
       "      <td>1</td>\n",
       "      <td>1</td>\n",
       "      <td>&gt; 2 Years</td>\n",
       "      <td>Yes</td>\n",
       "    </tr>\n",
       "    <tr>\n",
       "      <th>190848</th>\n",
       "      <td>4</td>\n",
       "      <td>Male</td>\n",
       "      <td>21</td>\n",
       "      <td>11.0</td>\n",
       "      <td>152.0</td>\n",
       "      <td>1</td>\n",
       "      <td>28619.0</td>\n",
       "      <td>203</td>\n",
       "      <td>0</td>\n",
       "      <td>1</td>\n",
       "      <td>&lt; 1 Year</td>\n",
       "      <td>No</td>\n",
       "    </tr>\n",
       "    <tr>\n",
       "      <th>238464</th>\n",
       "      <td>5</td>\n",
       "      <td>Female</td>\n",
       "      <td>29</td>\n",
       "      <td>41.0</td>\n",
       "      <td>152.0</td>\n",
       "      <td>1</td>\n",
       "      <td>27496.0</td>\n",
       "      <td>39</td>\n",
       "      <td>0</td>\n",
       "      <td>1</td>\n",
       "      <td>&lt; 1 Year</td>\n",
       "      <td>No</td>\n",
       "    </tr>\n",
       "  </tbody>\n",
       "</table>\n",
       "</div>"
      ],
      "text/plain": [
       "        id  gender  age  region_code  policy_sales_channel   \n",
       "143003   1    Male   44         28.0                  26.0  \\\n",
       "286227   2    Male   76          3.0                  26.0   \n",
       "143004   3    Male   47         28.0                  26.0   \n",
       "190848   4    Male   21         11.0                 152.0   \n",
       "238464   5  Female   29         41.0                 152.0   \n",
       "\n",
       "        previously_insured  annual_premium  vintage  response   \n",
       "143003                   0         40454.0      217         1  \\\n",
       "286227                   0         33536.0      183         0   \n",
       "143004                   0         38294.0       27         1   \n",
       "190848                   1         28619.0      203         0   \n",
       "238464                   1         27496.0       39         0   \n",
       "\n",
       "        driving_license vehicle_age vehicle_damage  \n",
       "143003                1   > 2 Years            Yes  \n",
       "286227                1    1-2 Year             No  \n",
       "143004                1   > 2 Years            Yes  \n",
       "190848                1    < 1 Year             No  \n",
       "238464                1    < 1 Year             No  "
      ]
     },
     "execution_count": 9,
     "metadata": {},
     "output_type": "execute_result"
    }
   ],
   "source": [
    "df2 = df1.copy()\n",
    "df2.head()"
   ]
  },
  {
   "cell_type": "code",
   "execution_count": 10,
   "id": "5fe28ef3",
   "metadata": {
    "ExecuteTime": {
     "end_time": "2023-07-08T19:15:31.831881Z",
     "start_time": "2023-07-08T19:15:31.630152Z"
    }
   },
   "outputs": [
    {
     "data": {
      "text/html": [
       "<div>\n",
       "<style scoped>\n",
       "    .dataframe tbody tr th:only-of-type {\n",
       "        vertical-align: middle;\n",
       "    }\n",
       "\n",
       "    .dataframe tbody tr th {\n",
       "        vertical-align: top;\n",
       "    }\n",
       "\n",
       "    .dataframe thead th {\n",
       "        text-align: right;\n",
       "    }\n",
       "</style>\n",
       "<table border=\"1\" class=\"dataframe\">\n",
       "  <thead>\n",
       "    <tr style=\"text-align: right;\">\n",
       "      <th></th>\n",
       "      <th>id</th>\n",
       "      <th>gender</th>\n",
       "      <th>age</th>\n",
       "      <th>region_code</th>\n",
       "      <th>policy_sales_channel</th>\n",
       "      <th>previously_insured</th>\n",
       "      <th>annual_premium</th>\n",
       "      <th>vintage</th>\n",
       "      <th>response</th>\n",
       "      <th>driving_license</th>\n",
       "      <th>vehicle_age</th>\n",
       "      <th>vehicle_damage</th>\n",
       "    </tr>\n",
       "  </thead>\n",
       "  <tbody>\n",
       "    <tr>\n",
       "      <th>143003</th>\n",
       "      <td>1</td>\n",
       "      <td>Male</td>\n",
       "      <td>44</td>\n",
       "      <td>28.0</td>\n",
       "      <td>26.0</td>\n",
       "      <td>0</td>\n",
       "      <td>40454.0</td>\n",
       "      <td>217</td>\n",
       "      <td>1</td>\n",
       "      <td>1</td>\n",
       "      <td>over_2_years</td>\n",
       "      <td>1</td>\n",
       "    </tr>\n",
       "    <tr>\n",
       "      <th>286227</th>\n",
       "      <td>2</td>\n",
       "      <td>Male</td>\n",
       "      <td>76</td>\n",
       "      <td>3.0</td>\n",
       "      <td>26.0</td>\n",
       "      <td>0</td>\n",
       "      <td>33536.0</td>\n",
       "      <td>183</td>\n",
       "      <td>0</td>\n",
       "      <td>1</td>\n",
       "      <td>between_1_2_years</td>\n",
       "      <td>0</td>\n",
       "    </tr>\n",
       "    <tr>\n",
       "      <th>143004</th>\n",
       "      <td>3</td>\n",
       "      <td>Male</td>\n",
       "      <td>47</td>\n",
       "      <td>28.0</td>\n",
       "      <td>26.0</td>\n",
       "      <td>0</td>\n",
       "      <td>38294.0</td>\n",
       "      <td>27</td>\n",
       "      <td>1</td>\n",
       "      <td>1</td>\n",
       "      <td>over_2_years</td>\n",
       "      <td>1</td>\n",
       "    </tr>\n",
       "    <tr>\n",
       "      <th>190848</th>\n",
       "      <td>4</td>\n",
       "      <td>Male</td>\n",
       "      <td>21</td>\n",
       "      <td>11.0</td>\n",
       "      <td>152.0</td>\n",
       "      <td>1</td>\n",
       "      <td>28619.0</td>\n",
       "      <td>203</td>\n",
       "      <td>0</td>\n",
       "      <td>1</td>\n",
       "      <td>below_1_year</td>\n",
       "      <td>0</td>\n",
       "    </tr>\n",
       "    <tr>\n",
       "      <th>238464</th>\n",
       "      <td>5</td>\n",
       "      <td>Female</td>\n",
       "      <td>29</td>\n",
       "      <td>41.0</td>\n",
       "      <td>152.0</td>\n",
       "      <td>1</td>\n",
       "      <td>27496.0</td>\n",
       "      <td>39</td>\n",
       "      <td>0</td>\n",
       "      <td>1</td>\n",
       "      <td>below_1_year</td>\n",
       "      <td>0</td>\n",
       "    </tr>\n",
       "  </tbody>\n",
       "</table>\n",
       "</div>"
      ],
      "text/plain": [
       "        id  gender  age  region_code  policy_sales_channel   \n",
       "143003   1    Male   44         28.0                  26.0  \\\n",
       "286227   2    Male   76          3.0                  26.0   \n",
       "143004   3    Male   47         28.0                  26.0   \n",
       "190848   4    Male   21         11.0                 152.0   \n",
       "238464   5  Female   29         41.0                 152.0   \n",
       "\n",
       "        previously_insured  annual_premium  vintage  response   \n",
       "143003                   0         40454.0      217         1  \\\n",
       "286227                   0         33536.0      183         0   \n",
       "143004                   0         38294.0       27         1   \n",
       "190848                   1         28619.0      203         0   \n",
       "238464                   1         27496.0       39         0   \n",
       "\n",
       "        driving_license        vehicle_age  vehicle_damage  \n",
       "143003                1       over_2_years               1  \n",
       "286227                1  between_1_2_years               0  \n",
       "143004                1       over_2_years               1  \n",
       "190848                1       below_1_year               0  \n",
       "238464                1       below_1_year               0  "
      ]
     },
     "execution_count": 10,
     "metadata": {},
     "output_type": "execute_result"
    }
   ],
   "source": [
    "# vehicle_age\n",
    "df2['vehicle_age'] = df2['vehicle_age'].apply( lambda x: 'over_2_years' if x == '> 2 Years' else 'between_1_2_years' \n",
    "                                                                        if x == '1-2 Year' else 'below_1_year')\n",
    "# vehicle_damage\n",
    "df2['vehicle_damage'] = df2['vehicle_damage'].apply( lambda x : 1 if x == 'Yes' else 0 )\n",
    "df2.head()"
   ]
  },
  {
   "cell_type": "markdown",
   "id": "24c12715",
   "metadata": {},
   "source": [
    "# 3.0 Data Filtering"
   ]
  },
  {
   "cell_type": "code",
   "execution_count": 11,
   "id": "cb028321",
   "metadata": {
    "ExecuteTime": {
     "end_time": "2023-07-08T19:15:31.878860Z",
     "start_time": "2023-07-08T19:15:31.833838Z"
    }
   },
   "outputs": [],
   "source": [
    "df3 = df2.copy()"
   ]
  },
  {
   "cell_type": "markdown",
   "id": "f20006c4",
   "metadata": {},
   "source": [
    "# 4.0 EDA"
   ]
  },
  {
   "cell_type": "code",
   "execution_count": 12,
   "id": "ccce968d",
   "metadata": {
    "ExecuteTime": {
     "end_time": "2023-07-08T19:15:31.910400Z",
     "start_time": "2023-07-08T19:15:31.880927Z"
    }
   },
   "outputs": [],
   "source": [
    "df4 = df3.copy()"
   ]
  },
  {
   "cell_type": "markdown",
   "id": "549468cf",
   "metadata": {},
   "source": [
    "## 4.1 Univariate Analysis"
   ]
  },
  {
   "cell_type": "code",
   "execution_count": 13,
   "id": "5f6253d1",
   "metadata": {
    "ExecuteTime": {
     "end_time": "2023-07-08T19:15:32.133432Z",
     "start_time": "2023-07-08T19:15:31.912468Z"
    }
   },
   "outputs": [
    {
     "data": {
      "text/plain": [
       "<Axes: xlabel='response', ylabel='age'>"
      ]
     },
     "execution_count": 13,
     "metadata": {},
     "output_type": "execute_result"
    },
    {
     "data": {
      "image/png": "[encoded data removed]",
      "text/plain": [
       "<Figure size 640x480 with 1 Axes>"
      ]
     },
     "metadata": {},
     "output_type": "display_data"
    }
   ],
   "source": [
    "# age - vejo como está o comportamento baseado na idade\n",
    "sns.boxplot( x = 'response', y = 'age', data = df4 )"
   ]
  },
  {
   "cell_type": "code",
   "execution_count": 14,
   "id": "423c4e90",
   "metadata": {
    "ExecuteTime": {
     "end_time": "2023-07-08T19:15:32.639112Z",
     "start_time": "2023-07-08T19:15:32.135426Z"
    }
   },
   "outputs": [
    {
     "data": {
      "text/plain": [
       "<Axes: xlabel='age', ylabel='Count'>"
      ]
     },
     "execution_count": 14,
     "metadata": {},
     "output_type": "execute_result"
    },
    {
     "data": {
      "image/png": "[encoded data removed]",
      "text/plain": [
       "<Figure size 640x480 with 1 Axes>"
      ]
     },
     "metadata": {},
     "output_type": "display_data"
    }
   ],
   "source": [
    "# pessoas que não tem interesse em comprar seguro\n",
    "aux00 = df4.loc[ df4['response'] == 0 , 'age']\n",
    "sns.histplot( aux00 )"
   ]
  },
  {
   "cell_type": "code",
   "execution_count": 15,
   "id": "3f54bd77",
   "metadata": {
    "ExecuteTime": {
     "end_time": "2023-07-08T19:15:32.938627Z",
     "start_time": "2023-07-08T19:15:32.640828Z"
    },
    "hide_input": false
   },
   "outputs": [
    {
     "data": {
      "text/plain": [
       "<Axes: xlabel='age', ylabel='Count'>"
      ]
     },
     "execution_count": 15,
     "metadata": {},
     "output_type": "execute_result"
    },
    {
     "data": {
      "image/png": "[encoded data removed]",
      "text/plain": [
       "<Figure size 640x480 with 1 Axes>"
      ]
     },
     "metadata": {},
     "output_type": "display_data"
    }
   ],
   "source": [
    "# pessoas que tem interesse em comprar seguro\n",
    "aux00 = df4.loc[ df4['response'] == 1 , 'age']\n",
    "sns.histplot( aux00 )"
   ]
  },
  {
   "cell_type": "code",
   "execution_count": 16,
   "id": "89bc7355",
   "metadata": {
    "ExecuteTime": {
     "end_time": "2023-07-08T19:15:33.207919Z",
     "start_time": "2023-07-08T19:15:32.940630Z"
    }
   },
   "outputs": [
    {
     "data": {
      "text/plain": [
       "<Axes: xlabel='response', ylabel='annual_premium'>"
      ]
     },
     "execution_count": 16,
     "metadata": {},
     "output_type": "execute_result"
    },
    {
     "data": {
      "image/png": "[encoded data removed]",
      "text/plain": [
       "<Figure size 640x480 with 1 Axes>"
      ]
     },
     "metadata": {},
     "output_type": "display_data"
    }
   ],
   "source": [
    "# annual_premium \n",
    "df_aux = df4.loc[ df4['annual_premium'] < 80000, : ]\n",
    "sns.boxplot( x = 'response', y = 'annual_premium', data = df_aux  )"
   ]
  },
  {
   "cell_type": "code",
   "execution_count": 17,
   "id": "c08fff63",
   "metadata": {
    "ExecuteTime": {
     "end_time": "2023-07-08T19:15:33.868208Z",
     "start_time": "2023-07-08T19:15:33.209872Z"
    }
   },
   "outputs": [
    {
     "data": {
      "text/plain": [
       "<Axes: xlabel='annual_premium', ylabel='Count'>"
      ]
     },
     "execution_count": 17,
     "metadata": {},
     "output_type": "execute_result"
    },
    {
     "data": {
      "image/png": "[encoded data removed]",
      "text/plain": [
       "<Figure size 640x480 with 1 Axes>"
      ]
     },
     "metadata": {},
     "output_type": "display_data"
    }
   ],
   "source": [
    "# verifico a distribuição\n",
    "df_aux = df4.loc[ (df4['annual_premium'] > 10000) & (df4['annual_premium'] < 80000), : ]\n",
    "aux00 = df_aux.loc[ df4['response'] == 0 , 'annual_premium']\n",
    "sns.histplot( aux00 )"
   ]
  },
  {
   "cell_type": "code",
   "execution_count": 18,
   "id": "ec17cbcf",
   "metadata": {
    "ExecuteTime": {
     "end_time": "2023-07-08T19:15:34.278969Z",
     "start_time": "2023-07-08T19:15:33.871160Z"
    }
   },
   "outputs": [
    {
     "data": {
      "text/plain": [
       "<Axes: xlabel='annual_premium', ylabel='Count'>"
      ]
     },
     "execution_count": 18,
     "metadata": {},
     "output_type": "execute_result"
    },
    {
     "data": {
      "image/png": "[encoded data removed]",
      "text/plain": [
       "<Figure size 640x480 with 1 Axes>"
      ]
     },
     "metadata": {},
     "output_type": "display_data"
    }
   ],
   "source": [
    "# verifico a distribuição\n",
    "aux00 = df_aux.loc[ df4['response'] == 1 , 'annual_premium']\n",
    "sns.histplot( aux00 )"
   ]
  },
  {
   "cell_type": "code",
   "execution_count": 19,
   "id": "89b68db9",
   "metadata": {
    "ExecuteTime": {
     "end_time": "2023-07-08T19:15:34.449680Z",
     "start_time": "2023-07-08T19:15:34.280974Z"
    }
   },
   "outputs": [
    {
     "data": {
      "text/plain": [
       "<Axes: xlabel='response', ylabel='driving_license'>"
      ]
     },
     "execution_count": 19,
     "metadata": {},
     "output_type": "execute_result"
    },
    {
     "data": {
      "image/png": "[encoded data removed]",
      "text/plain": [
       "<Figure size 640x480 with 1 Axes>"
      ]
     },
     "metadata": {},
     "output_type": "display_data"
    }
   ],
   "source": [
    "# driving_license\n",
    "aux = df4[[ 'driving_license', 'response' ]].groupby( by = 'response' ).sum().reset_index()\n",
    "sns.barplot( x = 'response', y = 'driving_license', data = aux )"
   ]
  },
  {
   "cell_type": "code",
   "execution_count": 20,
   "id": "5e87e15b",
   "metadata": {
    "ExecuteTime": {
     "end_time": "2023-07-08T19:15:34.464605Z",
     "start_time": "2023-07-08T19:15:34.451679Z"
    }
   },
   "outputs": [
    {
     "data": {
      "text/html": [
       "<div>\n",
       "<style scoped>\n",
       "    .dataframe tbody tr th:only-of-type {\n",
       "        vertical-align: middle;\n",
       "    }\n",
       "\n",
       "    .dataframe tbody tr th {\n",
       "        vertical-align: top;\n",
       "    }\n",
       "\n",
       "    .dataframe thead th {\n",
       "        text-align: right;\n",
       "    }\n",
       "</style>\n",
       "<table border=\"1\" class=\"dataframe\">\n",
       "  <thead>\n",
       "    <tr style=\"text-align: right;\">\n",
       "      <th></th>\n",
       "      <th>response</th>\n",
       "      <th>driving_license</th>\n",
       "      <th>driving_license_perc</th>\n",
       "    </tr>\n",
       "  </thead>\n",
       "  <tbody>\n",
       "    <tr>\n",
       "      <th>0</th>\n",
       "      <td>0</td>\n",
       "      <td>333628</td>\n",
       "      <td>0.877283</td>\n",
       "    </tr>\n",
       "    <tr>\n",
       "      <th>1</th>\n",
       "      <td>1</td>\n",
       "      <td>46669</td>\n",
       "      <td>0.122717</td>\n",
       "    </tr>\n",
       "  </tbody>\n",
       "</table>\n",
       "</div>"
      ],
      "text/plain": [
       "   response  driving_license  driving_license_perc\n",
       "0         0           333628              0.877283\n",
       "1         1            46669              0.122717"
      ]
     },
     "execution_count": 20,
     "metadata": {},
     "output_type": "execute_result"
    }
   ],
   "source": [
    "# driving_license em %\n",
    "aux['driving_license_perc'] = aux['driving_license'] / aux['driving_license'].sum() \n",
    "aux"
   ]
  },
  {
   "cell_type": "code",
   "execution_count": 21,
   "id": "cab83fe5",
   "metadata": {
    "ExecuteTime": {
     "end_time": "2023-07-08T19:15:34.763648Z",
     "start_time": "2023-07-08T19:15:34.467595Z"
    }
   },
   "outputs": [
    {
     "data": {
      "text/plain": [
       "<Axes: xlabel='region_code', ylabel='id'>"
      ]
     },
     "execution_count": 21,
     "metadata": {},
     "output_type": "execute_result"
    },
    {
     "data": {
      "image/png": "[encoded data removed]",
      "text/plain": [
       "<Figure size 640x480 with 1 Axes>"
      ]
     },
     "metadata": {},
     "output_type": "display_data"
    }
   ],
   "source": [
    "# region_code\n",
    "aux0 = df4[['id','region_code','response']].groupby( by = ['region_code','response'] ).count().reset_index()\n",
    "sns.scatterplot( x = 'region_code', y = 'id', hue = 'response', data = aux0 )"
   ]
  },
  {
   "cell_type": "code",
   "execution_count": 22,
   "id": "ac6c35ca",
   "metadata": {
    "ExecuteTime": {
     "end_time": "2023-07-08T19:15:34.826575Z",
     "start_time": "2023-07-08T19:15:34.766718Z"
    }
   },
   "outputs": [
    {
     "data": {
      "text/html": [
       "<div>\n",
       "<style scoped>\n",
       "    .dataframe tbody tr th:only-of-type {\n",
       "        vertical-align: middle;\n",
       "    }\n",
       "\n",
       "    .dataframe tbody tr th {\n",
       "        vertical-align: top;\n",
       "    }\n",
       "\n",
       "    .dataframe thead th {\n",
       "        text-align: right;\n",
       "    }\n",
       "</style>\n",
       "<table border=\"1\" class=\"dataframe\">\n",
       "  <thead>\n",
       "    <tr style=\"text-align: right;\">\n",
       "      <th>response</th>\n",
       "      <th>0</th>\n",
       "      <th>1</th>\n",
       "    </tr>\n",
       "    <tr>\n",
       "      <th>previously_insured</th>\n",
       "      <th></th>\n",
       "      <th></th>\n",
       "    </tr>\n",
       "  </thead>\n",
       "  <tbody>\n",
       "    <tr>\n",
       "      <th>0</th>\n",
       "      <td>0.774546</td>\n",
       "      <td>0.225454</td>\n",
       "    </tr>\n",
       "    <tr>\n",
       "      <th>1</th>\n",
       "      <td>0.999095</td>\n",
       "      <td>0.000905</td>\n",
       "    </tr>\n",
       "  </tbody>\n",
       "</table>\n",
       "</div>"
      ],
      "text/plain": [
       "response                   0         1\n",
       "previously_insured                    \n",
       "0                   0.774546  0.225454\n",
       "1                   0.999095  0.000905"
      ]
     },
     "execution_count": 22,
     "metadata": {},
     "output_type": "execute_result"
    }
   ],
   "source": [
    "# previously_insured\n",
    "pd.crosstab( df4['previously_insured'], df4['response'] ).apply( lambda x: x / x.sum(), axis = 1 )"
   ]
  },
  {
   "cell_type": "code",
   "execution_count": 23,
   "id": "0f7b646e",
   "metadata": {
    "ExecuteTime": {
     "end_time": "2023-07-08T19:15:34.889400Z",
     "start_time": "2023-07-08T19:15:34.828563Z"
    }
   },
   "outputs": [
    {
     "data": {
      "text/html": [
       "<div>\n",
       "<style scoped>\n",
       "    .dataframe tbody tr th:only-of-type {\n",
       "        vertical-align: middle;\n",
       "    }\n",
       "\n",
       "    .dataframe tbody tr th {\n",
       "        vertical-align: top;\n",
       "    }\n",
       "\n",
       "    .dataframe thead th {\n",
       "        text-align: right;\n",
       "    }\n",
       "</style>\n",
       "<table border=\"1\" class=\"dataframe\">\n",
       "  <thead>\n",
       "    <tr style=\"text-align: right;\">\n",
       "      <th></th>\n",
       "      <th>vehicle_age</th>\n",
       "      <th>response</th>\n",
       "      <th>proportion</th>\n",
       "    </tr>\n",
       "  </thead>\n",
       "  <tbody>\n",
       "    <tr>\n",
       "      <th>1</th>\n",
       "      <td>below_1_year</td>\n",
       "      <td>0</td>\n",
       "      <td>0.413488</td>\n",
       "    </tr>\n",
       "    <tr>\n",
       "      <th>4</th>\n",
       "      <td>below_1_year</td>\n",
       "      <td>1</td>\n",
       "      <td>0.018897</td>\n",
       "    </tr>\n",
       "    <tr>\n",
       "      <th>0</th>\n",
       "      <td>between_1_2_years</td>\n",
       "      <td>0</td>\n",
       "      <td>0.434285</td>\n",
       "    </tr>\n",
       "    <tr>\n",
       "      <th>2</th>\n",
       "      <td>between_1_2_years</td>\n",
       "      <td>1</td>\n",
       "      <td>0.091328</td>\n",
       "    </tr>\n",
       "    <tr>\n",
       "      <th>3</th>\n",
       "      <td>over_2_years</td>\n",
       "      <td>0</td>\n",
       "      <td>0.029663</td>\n",
       "    </tr>\n",
       "    <tr>\n",
       "      <th>5</th>\n",
       "      <td>over_2_years</td>\n",
       "      <td>1</td>\n",
       "      <td>0.012338</td>\n",
       "    </tr>\n",
       "  </tbody>\n",
       "</table>\n",
       "</div>"
      ],
      "text/plain": [
       "         vehicle_age  response  proportion\n",
       "1       below_1_year         0    0.413488\n",
       "4       below_1_year         1    0.018897\n",
       "0  between_1_2_years         0    0.434285\n",
       "2  between_1_2_years         1    0.091328\n",
       "3       over_2_years         0    0.029663\n",
       "5       over_2_years         1    0.012338"
      ]
     },
     "execution_count": 23,
     "metadata": {},
     "output_type": "execute_result"
    }
   ],
   "source": [
    "# vehicle_age\n",
    "df4[['vehicle_age','response']].value_counts( normalize = True ).reset_index().sort_values(by = 'vehicle_age')"
   ]
  },
  {
   "cell_type": "code",
   "execution_count": 24,
   "id": "48f7f315",
   "metadata": {
    "ExecuteTime": {
     "end_time": "2023-07-08T19:15:36.009911Z",
     "start_time": "2023-07-08T19:15:34.891360Z"
    }
   },
   "outputs": [
    {
     "data": {
      "text/plain": [
       "<Axes: xlabel='response', ylabel='policy_sales_channel'>"
      ]
     },
     "execution_count": 24,
     "metadata": {},
     "output_type": "execute_result"
    },
    {
     "data": {
      "image/png": "[encoded data removed]",
      "text/plain": [
       "<Figure size 3500x1500 with 1 Axes>"
      ]
     },
     "metadata": {},
     "output_type": "display_data"
    }
   ],
   "source": [
    "# policy_sales_channel\n",
    "plt.figure( figsize = (35,15) )\n",
    "aux = df4[['policy_sales_channel','response']].groupby( 'policy_sales_channel' ).sum().reset_index()\n",
    "sns.barplot( x = 'response', y = 'policy_sales_channel', data = aux )"
   ]
  },
  {
   "cell_type": "code",
   "execution_count": 25,
   "id": "7f5a60f6",
   "metadata": {
    "ExecuteTime": {
     "end_time": "2023-07-08T19:15:36.244028Z",
     "start_time": "2023-07-08T19:15:36.011909Z"
    }
   },
   "outputs": [
    {
     "data": {
      "text/plain": [
       "<Axes: xlabel='response', ylabel='vintage'>"
      ]
     },
     "execution_count": 25,
     "metadata": {},
     "output_type": "execute_result"
    },
    {
     "data": {
      "image/png": "[encoded data removed]",
      "text/plain": [
       "<Figure size 640x480 with 1 Axes>"
      ]
     },
     "metadata": {},
     "output_type": "display_data"
    }
   ],
   "source": [
    "# vintage\n",
    "sns.boxplot( x = 'response', y = 'vintage', data = df4 )"
   ]
  },
  {
   "cell_type": "code",
   "execution_count": 26,
   "id": "a855d448",
   "metadata": {
    "ExecuteTime": {
     "end_time": "2023-07-08T19:15:36.559168Z",
     "start_time": "2023-07-08T19:15:36.245974Z"
    }
   },
   "outputs": [
    {
     "data": {
      "text/plain": [
       "<Axes: xlabel='vintage', ylabel='Count'>"
      ]
     },
     "execution_count": 26,
     "metadata": {},
     "output_type": "execute_result"
    },
    {
     "data": {
      "image/png": "[encoded data removed]",
      "text/plain": [
       "<Figure size 640x480 with 1 Axes>"
      ]
     },
     "metadata": {},
     "output_type": "display_data"
    }
   ],
   "source": [
    "aux00 = df_aux.loc[ df4['response'] == 1 , 'vintage']\n",
    "sns.histplot( aux00 )"
   ]
  },
  {
   "cell_type": "code",
   "execution_count": 27,
   "id": "e2c1b16e",
   "metadata": {
    "ExecuteTime": {
     "end_time": "2023-07-08T19:15:37.080381Z",
     "start_time": "2023-07-08T19:15:36.566121Z"
    }
   },
   "outputs": [
    {
     "data": {
      "text/plain": [
       "<Axes: xlabel='vintage', ylabel='Count'>"
      ]
     },
     "execution_count": 27,
     "metadata": {},
     "output_type": "execute_result"
    },
    {
     "data": {
      "image/png": "[encoded data removed]",
      "text/plain": [
       "<Figure size 640x480 with 1 Axes>"
      ]
     },
     "metadata": {},
     "output_type": "display_data"
    }
   ],
   "source": [
    "aux00 = df_aux.loc[ df4['response'] == 0 , 'vintage']\n",
    "sns.histplot( aux00 )"
   ]
  },
  {
   "cell_type": "markdown",
   "id": "72611407",
   "metadata": {},
   "source": [
    "# 5.0 Data Preparation"
   ]
  },
  {
   "cell_type": "code",
   "execution_count": 28,
   "id": "136bc513",
   "metadata": {
    "ExecuteTime": {
     "end_time": "2023-07-08T19:15:37.112275Z",
     "start_time": "2023-07-08T19:15:37.083355Z"
    }
   },
   "outputs": [],
   "source": [
    "df5 = df4.copy()"
   ]
  },
  {
   "cell_type": "code",
   "execution_count": 29,
   "id": "bffc0f3a",
   "metadata": {
    "ExecuteTime": {
     "end_time": "2023-07-08T19:15:37.269854Z",
     "start_time": "2023-07-08T19:15:37.114271Z"
    }
   },
   "outputs": [],
   "source": [
    "# treino\n",
    "X = df4.drop( 'response', axis = 1 )\n",
    "# teste\n",
    "y = df4['response'].copy()\n",
    "\n",
    "# separa treino e teste\n",
    "x_train, x_validation, y_train, y_validation = ms.train_test_split( X, y , test_size = 0.2 )\n",
    "\n",
    "df5 = pd.concat([ x_train, y_train] , axis = 1  )"
   ]
  },
  {
   "cell_type": "markdown",
   "id": "7146fad1",
   "metadata": {},
   "source": [
    "## Standardization"
   ]
  },
  {
   "cell_type": "code",
   "execution_count": 31,
   "id": "26f674a9",
   "metadata": {
    "ExecuteTime": {
     "end_time": "2023-07-08T19:15:37.333692Z",
     "start_time": "2023-07-08T19:15:37.303763Z"
    }
   },
   "outputs": [],
   "source": [
    "# instancia o ss\n",
    "ss = pp.StandardScaler()\n",
    "# annual_premium - aplico pois o range é muito amplo\n",
    "df5['annual_premium'] = ss.fit_transform(df5[['annual_premium']].values)\n",
    "pickle.dump( ss, open( r'\\Users\\oscar\\Documents\\repos\\pa004\\features_transformation\\annual_premium_scaler.pkl', 'wb' ) )"
   ]
  },
  {
   "cell_type": "markdown",
   "id": "6ed82b9d",
   "metadata": {},
   "source": [
    "## Rescaling"
   ]
  },
  {
   "cell_type": "code",
   "execution_count": 32,
   "id": "aab73b93",
   "metadata": {
    "ExecuteTime": {
     "end_time": "2023-07-08T19:15:37.365600Z",
     "start_time": "2023-07-08T19:15:37.336678Z"
    }
   },
   "outputs": [],
   "source": [
    "mms_age = pp.MinMaxScaler()\n",
    "mms_vintage = pp.MinMaxScaler()\n",
    "# age\n",
    "df5['age'] = mms_age.fit_transform(df5[['age']].values)\n",
    "pickle.dump( mms_age , open( r'\\Users\\oscar\\Documents\\repos\\pa004\\features_transformation\\mms_age.pkl' , 'wb' ) )\n",
    "\n",
    "# vintage\n",
    "df5['vintage'] = mms_vintage.fit_transform(df5[['vintage']].values)\n",
    "pickle.dump( mms_vintage , open( r'\\Users\\oscar\\Documents\\repos\\pa004\\features_transformation\\mms_vintage.pkl', 'wb' ) )"
   ]
  },
  {
   "cell_type": "markdown",
   "id": "b70b4852",
   "metadata": {},
   "source": [
    "## Encoder"
   ]
  },
  {
   "cell_type": "code",
   "execution_count": 33,
   "id": "552c4082",
   "metadata": {
    "ExecuteTime": {
     "end_time": "2023-07-08T19:15:37.554094Z",
     "start_time": "2023-07-08T19:15:37.369588Z"
    }
   },
   "outputs": [],
   "source": [
    "# gender - One Hot Encoding / Target Encoding\n",
    "target_encoding_gender = df5.groupby( 'gender' )['response'].mean()\n",
    "df5.loc[:,'gender'] = df5['gender'].map( target_encoding_gender )\n",
    "pickle.dump( target_encoding_gender , open( r'\\Users\\oscar\\Documents\\repos\\pa004\\features_transformation\\target_encoding_gender.pkl', 'wb' ) )\n",
    "\n",
    "# region code - Frequency Encoding / Target Encoding / Weighted Target Encoding\n",
    "target_enconding_region_code = df5.groupby('region_code')['response'].mean()\n",
    "df5.loc[:,'region_code'] = df5['region_code'].map( target_enconding_region_code )\n",
    "pickle.dump( target_enconding_region_code, open( r'\\Users\\oscar\\Documents\\repos\\pa004\\features_transformation\\target_enconding_region_code.pkl' , 'wb' ) )\n",
    "\n",
    "# vehicle_age\n",
    "df5 = pd.get_dummies( data = df5, prefix = 'vehicle_age', columns = ['vehicle_age']  )\n",
    "\n",
    "# policy_sales_channel\n",
    "fe_policy_sales_channel = df5.groupby('policy_sales_channel').size() / len(df5)\n",
    "df5.loc[:, 'policy_sales_channel'] = df5['policy_sales_channel'].map( fe_policy_sales_channel )\n",
    "pickle.dump( fe_policy_sales_channel , open( r'\\Users\\oscar\\Documents\\repos\\pa004\\features_transformation\\fe_policy_sales_channel.pkl' , 'wb' ) )"
   ]
  },
  {
   "cell_type": "markdown",
   "id": "35c37f92",
   "metadata": {
    "ExecuteTime": {
     "end_time": "2023-05-23T20:45:13.028247Z",
     "start_time": "2023-05-23T20:45:12.970156Z"
    }
   },
   "source": [
    "## 5.4 Validation Preparation"
   ]
  },
  {
   "cell_type": "code",
   "execution_count": 70,
   "id": "08ed7845",
   "metadata": {
    "ExecuteTime": {
     "end_time": "2023-07-08T19:23:48.698629Z",
     "start_time": "2023-07-08T19:23:48.632129Z"
    }
   },
   "outputs": [],
   "source": [
    "# gender\n",
    "x_validation.loc[: , 'gender'] = x_validation.loc[: , 'gender'].map( target_encoding_gender )\n",
    "\n",
    "# age\n",
    "x_validation.loc[: , 'age'] = mms_age.transform( x_validation[['age']].values )\n",
    "\n",
    "# region_code\n",
    "x_validation.loc[ : , 'region_code' ] = x_validation.loc[ : , 'region_code' ].map( target_enconding_region_code )\n",
    "\n",
    "# vehicle_age\n",
    "x_validation = pd.get_dummies( x_validation, prefix = 'vehicle_age', columns = ['vehicle_age'] )\n",
    "\n",
    "# annual_premium\n",
    "x_validation.loc[ : , 'annual_premium'] = ss.transform( x_validation[['annual_premium']].values )\n",
    "\n",
    "# policy_sales_channel\n",
    "x_validation.loc[ : , 'policy_sales_channel' ] = x_validation['policy_sales_channel'].map( fe_policy_sales_channel )\n",
    "\n",
    "# vintage\n",
    "x_validation.loc[ : , 'vintage' ] = mms_vintage.transform( x_validation[['vintage']].values )\n",
    "\n",
    "# fillna\n",
    "x_validation = x_validation.fillna( 0 )"
   ]
  },
  {
   "cell_type": "markdown",
   "id": "3a1dbb52",
   "metadata": {},
   "source": [
    "# 6.0 Feature Selection"
   ]
  },
  {
   "cell_type": "markdown",
   "id": "795bb518",
   "metadata": {},
   "source": [
    "## 6.2 Feature Importance"
   ]
  },
  {
   "cell_type": "code",
   "execution_count": 71,
   "id": "e6a6facb",
   "metadata": {
    "ExecuteTime": {
     "end_time": "2023-07-08T19:24:21.315451Z",
     "start_time": "2023-07-08T19:23:50.663207Z"
    }
   },
   "outputs": [
    {
     "data": {
      "text/html": [
       "<style>#sk-container-id-2 {color: black;background-color: white;}#sk-container-id-2 pre{padding: 0;}#sk-container-id-2 div.sk-toggleable {background-color: white;}#sk-container-id-2 label.sk-toggleable__label {cursor: pointer;display: block;width: 100%;margin-bottom: 0;padding: 0.3em;box-sizing: border-box;text-align: center;}#sk-container-id-2 label.sk-toggleable__label-arrow:before {content: \"▸\";float: left;margin-right: 0.25em;color: #696969;}#sk-container-id-2 label.sk-toggleable__label-arrow:hover:before {color: black;}#sk-container-id-2 div.sk-estimator:hover label.sk-toggleable__label-arrow:before {color: black;}#sk-container-id-2 div.sk-toggleable__content {max-height: 0;max-width: 0;overflow: hidden;text-align: left;background-color: #f0f8ff;}#sk-container-id-2 div.sk-toggleable__content pre {margin: 0.2em;color: black;border-radius: 0.25em;background-color: #f0f8ff;}#sk-container-id-2 input.sk-toggleable__control:checked~div.sk-toggleable__content {max-height: 200px;max-width: 100%;overflow: auto;}#sk-container-id-2 input.sk-toggleable__control:checked~label.sk-toggleable__label-arrow:before {content: \"▾\";}#sk-container-id-2 div.sk-estimator input.sk-toggleable__control:checked~label.sk-toggleable__label {background-color: #d4ebff;}#sk-container-id-2 div.sk-label input.sk-toggleable__control:checked~label.sk-toggleable__label {background-color: #d4ebff;}#sk-container-id-2 input.sk-hidden--visually {border: 0;clip: rect(1px 1px 1px 1px);clip: rect(1px, 1px, 1px, 1px);height: 1px;margin: -1px;overflow: hidden;padding: 0;position: absolute;width: 1px;}#sk-container-id-2 div.sk-estimator {font-family: monospace;background-color: #f0f8ff;border: 1px dotted black;border-radius: 0.25em;box-sizing: border-box;margin-bottom: 0.5em;}#sk-container-id-2 div.sk-estimator:hover {background-color: #d4ebff;}#sk-container-id-2 div.sk-parallel-item::after {content: \"\";width: 100%;border-bottom: 1px solid gray;flex-grow: 1;}#sk-container-id-2 div.sk-label:hover label.sk-toggleable__label {background-color: #d4ebff;}#sk-container-id-2 div.sk-serial::before {content: \"\";position: absolute;border-left: 1px solid gray;box-sizing: border-box;top: 0;bottom: 0;left: 50%;z-index: 0;}#sk-container-id-2 div.sk-serial {display: flex;flex-direction: column;align-items: center;background-color: white;padding-right: 0.2em;padding-left: 0.2em;position: relative;}#sk-container-id-2 div.sk-item {position: relative;z-index: 1;}#sk-container-id-2 div.sk-parallel {display: flex;align-items: stretch;justify-content: center;background-color: white;position: relative;}#sk-container-id-2 div.sk-item::before, #sk-container-id-2 div.sk-parallel-item::before {content: \"\";position: absolute;border-left: 1px solid gray;box-sizing: border-box;top: 0;bottom: 0;left: 50%;z-index: -1;}#sk-container-id-2 div.sk-parallel-item {display: flex;flex-direction: column;z-index: 1;position: relative;background-color: white;}#sk-container-id-2 div.sk-parallel-item:first-child::after {align-self: flex-end;width: 50%;}#sk-container-id-2 div.sk-parallel-item:last-child::after {align-self: flex-start;width: 50%;}#sk-container-id-2 div.sk-parallel-item:only-child::after {width: 0;}#sk-container-id-2 div.sk-dashed-wrapped {border: 1px dashed gray;margin: 0 0.4em 0.5em 0.4em;box-sizing: border-box;padding-bottom: 0.4em;background-color: white;}#sk-container-id-2 div.sk-label label {font-family: monospace;font-weight: bold;display: inline-block;line-height: 1.2em;}#sk-container-id-2 div.sk-label-container {text-align: center;}#sk-container-id-2 div.sk-container {/* jupyter's `normalize.less` sets `[hidden] { display: none; }` but bootstrap.min.css set `[hidden] { display: none !important; }` so we also need the `!important` here to be able to override the default hidden behavior on the sphinx rendered scikit-learn.org. See: https://github.com/scikit-learn/scikit-learn/issues/21755 */display: inline-block !important;position: relative;}#sk-container-id-2 div.sk-text-repr-fallback {display: none;}</style><div id=\"sk-container-id-2\" class=\"sk-top-container\"><div class=\"sk-text-repr-fallback\"><pre>ExtraTreesClassifier(n_estimators=250, n_jobs=-1, random_state=0)</pre><b>In a Jupyter environment, please rerun this cell to show the HTML representation or trust the notebook. <br />On GitHub, the HTML representation is unable to render, please try loading this page with nbviewer.org.</b></div><div class=\"sk-container\" hidden><div class=\"sk-item\"><div class=\"sk-estimator sk-toggleable\"><input class=\"sk-toggleable__control sk-hidden--visually\" id=\"sk-estimator-id-2\" type=\"checkbox\" checked><label for=\"sk-estimator-id-2\" class=\"sk-toggleable__label sk-toggleable__label-arrow\">ExtraTreesClassifier</label><div class=\"sk-toggleable__content\"><pre>ExtraTreesClassifier(n_estimators=250, n_jobs=-1, random_state=0)</pre></div></div></div></div></div>"
      ],
      "text/plain": [
       "ExtraTreesClassifier(n_estimators=250, n_jobs=-1, random_state=0)"
      ]
     },
     "execution_count": 71,
     "metadata": {},
     "output_type": "execute_result"
    }
   ],
   "source": [
    "# model definition\n",
    "forest = en.ExtraTreesClassifier( n_estimators = 250 , random_state = 0 , n_jobs = -1 )\n",
    "\n",
    "# data preparation\n",
    "x_train_n = df5.drop(['id','response'], axis = 1)\n",
    "y_train_n = y_train.values\n",
    "forest.fit( x_train_n , y_train_n  )"
   ]
  },
  {
   "cell_type": "code",
   "execution_count": 72,
   "id": "0e2ce086",
   "metadata": {
    "ExecuteTime": {
     "end_time": "2023-07-08T19:24:22.466652Z",
     "start_time": "2023-07-08T19:24:21.318443Z"
    }
   },
   "outputs": [
    {
     "name": "stdout",
     "output_type": "stream",
     "text": [
      "feature ranking\n",
      "                         feature  importance\n",
      "0                        vintage    0.273101\n",
      "0                 annual_premium    0.244267\n",
      "0                            age    0.165950\n",
      "0                    region_code    0.104860\n",
      "0                 vehicle_damage    0.068018\n",
      "0           policy_sales_channel    0.059535\n",
      "0             previously_insured    0.057243\n",
      "0       vehicle_age_below_1_year    0.013522\n",
      "0  vehicle_age_between_1_2_years    0.006060\n",
      "0                         gender    0.004835\n",
      "0       vehicle_age_over_2_years    0.002118\n",
      "0                driving_license    0.000491\n"
     ]
    },
    {
     "data": {
      "image/png": "[encoded data removed]",
      "text/plain": [
       "<Figure size 640x480 with 1 Axes>"
      ]
     },
     "metadata": {},
     "output_type": "display_data"
    }
   ],
   "source": [
    "importances = forest.feature_importances_\n",
    "std = np.std( [tree.feature_importances_ for tree in forest.estimators_], axis = 0 )\n",
    "indices = np.argsort(importances)[::-1]\n",
    "\n",
    "# print the feature ranking\n",
    "print('feature ranking')\n",
    "df = pd.DataFrame()\n",
    "for i, j in zip( x_train_n, forest.feature_importances_ ):\n",
    "    aux = pd.DataFrame( {'feature' : i , 'importance' : j } , index = [0]  )\n",
    "    df = pd.concat( [df , aux] , axis = 0 )\n",
    "    \n",
    "print(df.sort_values('importance', ascending = False) )\n",
    "      \n",
    "# Plot the impurity-based feature importance of the forest\n",
    "plt.figure()\n",
    "plt.title( 'feature importance' )\n",
    "plt.bar(range(x_train_n.shape[1]), importances[indices], color = 'r', yerr = std[indices], align = 'center')\n",
    "plt.xticks(range(x_train_n.shape[1]), indices)\n",
    "plt.xlim( [-1,x_train_n.shape[1]] )\n",
    "plt.show()\n",
    "\n"
   ]
  },
  {
   "cell_type": "markdown",
   "id": "11a8fd62",
   "metadata": {},
   "source": [
    "# 7.0 Machine Learning "
   ]
  },
  {
   "cell_type": "code",
   "execution_count": 73,
   "id": "2636e2e5",
   "metadata": {
    "ExecuteTime": {
     "end_time": "2023-07-08T19:24:22.512939Z",
     "start_time": "2023-07-08T19:24:22.470642Z"
    }
   },
   "outputs": [],
   "source": [
    "cols_selected = ['vintage',\n",
    "                 'annual_premium',\n",
    "                 'age',\n",
    "                 'region_code',\n",
    "                 'vehicle_damage',\n",
    "                 'policy_sales_channel',\n",
    "                 'previously_insured']\n",
    "x_train = df5[ cols_selected ]\n",
    "x_val = x_validation[ cols_selected ]"
   ]
  },
  {
   "cell_type": "markdown",
   "id": "618b08da",
   "metadata": {
    "ExecuteTime": {
     "end_time": "2023-05-23T21:36:20.311791Z",
     "start_time": "2023-05-23T21:36:20.302252Z"
    }
   },
   "source": [
    "## 7.1 Machine Learning "
   ]
  },
  {
   "cell_type": "code",
   "execution_count": 76,
   "id": "e2f6d12d",
   "metadata": {
    "ExecuteTime": {
     "end_time": "2023-07-08T19:24:39.320651Z",
     "start_time": "2023-07-08T19:24:31.620405Z"
    }
   },
   "outputs": [],
   "source": [
    "# model definition\n",
    "knn_model = nh.KNeighborsClassifier( n_neighbors = 2 )\n",
    "\n",
    "# model training\n",
    "knn_model.fit( x_train, y_train )\n",
    "\n",
    "# model prediction\n",
    "yhat_knn = knn_model.predict_proba( x_val )"
   ]
  },
  {
   "cell_type": "code",
   "execution_count": 75,
   "id": "2fe1a948",
   "metadata": {
    "ExecuteTime": {
     "end_time": "2023-07-08T19:24:31.615419Z",
     "start_time": "2023-07-08T19:24:31.239425Z"
    }
   },
   "outputs": [
    {
     "data": {
      "text/plain": [
       "<Axes: title={'center': 'Cumulative Gains Curve'}, xlabel='Percentage of sample', ylabel='Gain'>"
      ]
     },
     "execution_count": 75,
     "metadata": {},
     "output_type": "execute_result"
    },
    {
     "data": {
      "image/png": "[encoded data removed]",
      "text/plain": [
       "<Figure size 640x480 with 1 Axes>"
      ]
     },
     "metadata": {},
     "output_type": "display_data"
    }
   ],
   "source": [
    "# acumulative gain\n",
    "skplt.metrics.plot_cumulative_gain( y_validation , yhat_knn )"
   ]
  },
  {
   "cell_type": "code",
   "execution_count": 77,
   "id": "8b0bf880",
   "metadata": {
    "ExecuteTime": {
     "end_time": "2023-07-08T19:24:40.949329Z",
     "start_time": "2023-07-08T19:24:39.323679Z"
    },
    "hide_input": false
   },
   "outputs": [
    {
     "data": {
      "text/plain": [
       "<Axes: title={'center': 'Cumulative Gains Curve'}, xlabel='Percentage of sample', ylabel='Gain'>"
      ]
     },
     "execution_count": 77,
     "metadata": {},
     "output_type": "execute_result"
    },
    {
     "data": {
      "image/png": "[encoded data removed]",
      "text/plain": [
       "<Figure size 640x480 with 1 Axes>"
      ]
     },
     "metadata": {},
     "output_type": "display_data"
    }
   ],
   "source": [
    "# model definition\n",
    "lr_model = lm.LogisticRegression( random_state = 42 )\n",
    "\n",
    "# model training\n",
    "lr_model.fit( x_train, y_train )\n",
    "\n",
    "# model prediction\n",
    "yhat_lr = lr_model.predict_proba( x_val )\n",
    "\n",
    "# acumulative gain\n",
    "skplt.metrics.plot_cumulative_gain( y_validation, yhat_lr )"
   ]
  },
  {
   "cell_type": "markdown",
   "id": "3f17c9c4",
   "metadata": {},
   "source": [
    "## 8.0 Model Performance "
   ]
  },
  {
   "cell_type": "code",
   "execution_count": 41,
   "id": "28d7558a",
   "metadata": {
    "ExecuteTime": {
     "end_time": "2023-07-08T19:16:13.568619Z",
     "start_time": "2023-07-08T19:16:13.556607Z"
    }
   },
   "outputs": [],
   "source": [
    "def precicion_at_k( data , k = 2000 ):\n",
    "    # reset index\n",
    "    data = data.reset_index( drop = True )\n",
    "\n",
    "    # create index\n",
    "    data['ranking'] = data.index + 1\n",
    "\n",
    "    # create columns precision score\n",
    "    data['precision_at_k'] = data['response'].cumsum() / data['ranking']\n",
    "\n",
    "    return data.loc[ k, 'precision_at_k' ]\n"
   ]
  },
  {
   "cell_type": "code",
   "execution_count": 42,
   "id": "a91b7a04",
   "metadata": {
    "ExecuteTime": {
     "end_time": "2023-07-08T19:16:13.599983Z",
     "start_time": "2023-07-08T19:16:13.570570Z"
    }
   },
   "outputs": [],
   "source": [
    "def recall( data , k = 2000 ):\n",
    "    # reset index\n",
    "    data = data.reset_index( drop = True )\n",
    "\n",
    "    # create index\n",
    "    data['ranking'] = data.index + 1\n",
    "\n",
    "    # create columns precision score\n",
    "    data['recall_at_k'] = data['response'].cumsum() / data['response'].sum()\n",
    "\n",
    "    return data.loc[ k, 'recall_at_k' ]\n"
   ]
  },
  {
   "cell_type": "code",
   "execution_count": 43,
   "id": "3067c5c7",
   "metadata": {
    "ExecuteTime": {
     "end_time": "2023-07-08T19:16:13.662477Z",
     "start_time": "2023-07-08T19:16:13.602971Z"
    }
   },
   "outputs": [
    {
     "name": "stdout",
     "output_type": "stream",
     "text": [
      "Precision at K 0.21568627450980393\n",
      "Recall at k 0.0011695906432748538\n"
     ]
    }
   ],
   "source": [
    "# copy data\n",
    "df8 = x_validation.copy()\n",
    "df8['response'] = y_validation.copy()\n",
    "\n",
    "# propensity score\n",
    "df8['score'] = yhat_knn[:,1].tolist()\n",
    "\n",
    "# sort clients by propensity score\n",
    "df8.sort_values( 'score', ascending = False )\n",
    "\n",
    "# precicion_at_k\n",
    "precision = precicion_at_k( df8, k = 50 )\n",
    "print( 'Precision at K {}'.format( precision ) )\n",
    "\n",
    "# recall at k\n",
    "recall = recall( df8 , k = 50 )\n",
    "print( 'Recall at k {}'.format( recall ) )"
   ]
  },
  {
   "cell_type": "markdown",
   "id": "cd51966a",
   "metadata": {},
   "source": [
    "## 9.0 - Deploy to Production"
   ]
  },
  {
   "cell_type": "code",
   "execution_count": 44,
   "id": "37a7c694",
   "metadata": {
    "ExecuteTime": {
     "end_time": "2023-07-08T19:16:13.678370Z",
     "start_time": "2023-07-08T19:16:13.665497Z"
    }
   },
   "outputs": [],
   "source": [
    "# save trained model\n",
    "pickle.dump( lr_model, open( r'\\Users\\oscar\\Documents\\repos\\pa004\\models\\model_linear_regression.pkl' , 'wb' ) )"
   ]
  },
  {
   "cell_type": "code",
   "execution_count": 45,
   "id": "cf3aa0b9",
   "metadata": {
    "ExecuteTime": {
     "end_time": "2023-07-08T19:16:13.710585Z",
     "start_time": "2023-07-08T19:16:13.682371Z"
    }
   },
   "outputs": [],
   "source": [
    "import pickle\n",
    "import numpy as np\n",
    "import pandas as pd\n",
    "\n",
    "class HealthInsurance:\n",
    "    \n",
    "    def __init__( self ):\n",
    "        self.home_path                    =  r'\\Users\\oscar\\Documents\\repos\\pa004\\features_transformation'\n",
    "        self.annual_premium_scaler        = pickle.load( open( self.home_path + '\\annual_premium_scaler.pkl' )  )\n",
    "        self.fe_policy_sales_channel      = pickle.load( open( self.home_path + '\\fe_policy_sales_channel.pkl' ) ) \n",
    "        self.mms_age                      = pickle.load( open( self.home_path + '\\mms_age.pkl' ) )\n",
    "        self.mms_vintage                  = pickle.load( open( self.home_path + '\\mms_vintage.pkl' ) )\n",
    "        self.target_encoding_gender       = pickle.load( open( self.home_path + '\\target_encoding_gender.pkl' ) )\n",
    "        self.target_enconding_region_code = pickle.load( open( self.home_path + '\\target_enconding_region_code') )\n",
    "        \n",
    "    def feature_engineering( df2 ):\n",
    "        # vehicle_age\n",
    "        df2['vehicle_age'] = df2['vehicle_age'].apply( lambda x: 'over_2_years' if x == '> 2 Years' else 'between_1_2_years' \n",
    "                                                                        if x == '1-2 Year' else 'below_1_year')\n",
    "        # vehicle_damage\n",
    "        df2['vehicle_damage'] = df2['vehicle_damage'].apply( lambda x : 1 if x == 'Yes' else 0 )\n",
    "        \n",
    "        return df2\n",
    "        \n",
    "    def data_prepatation( self, df5 ):\n",
    "    \n",
    "        # annual premium\n",
    "        df5['annual_premium'] = self.annual_premium_scaler.transform(df5[['annual_premium']].values)\n",
    "\n",
    "        # age\n",
    "        df5['age'] = self.mms_age.transform(df5[['age']].values)\n",
    "\n",
    "        # vintage\n",
    "        df5['vintage'] = self.mms_vintage.transform(df5[['vintage']].values)\n",
    "\n",
    "        # gender - One Hot Encoding / Target Encoding\n",
    "        df5.loc[:,'gender'] = df5['gender'].map( self.target_encoding_gender  )\n",
    "\n",
    "        # region code - Frequency Encoding / Target Encoding / Weighted Target Encoding\n",
    "        df5.loc[:,'region_code'] = df5['region_code'].map( self.target_enconding_region_code )\n",
    "\n",
    "        # vehicle_age\n",
    "        df5 = pd.get_dummies( data = df5, prefix = 'vehicle_age', columns = ['vehicle_age']  )\n",
    "\n",
    "        # policy_sales_channel\n",
    "\n",
    "        df5.loc[:, 'policy_sales_channel'] = df5['policy_sales_channel'].map( self.fe_policy_sales_channel )\n",
    "\n",
    "        cols_selected = ['annual_premium', 'vintage', 'age', 'region_code', 'vehicle_damage', 'previously_insured', 'policy_sales_channel']\n",
    "\n",
    "        return df5[ cols_selected ]\n",
    "\n",
    "    def get_prediction( self, model, original_data, test_data ):\n",
    "        # prediction\n",
    "        pred = model.predict_proba( test_data )[:,1]\n",
    "        \n",
    "        # join prediction into original data\n",
    "        original_data['prediction'] = pred\n",
    "        \n",
    "        return original_data.tojson( orient = 'records' , date_format = 'iso' )\n",
    "        "
   ]
  },
  {
   "cell_type": "markdown",
   "id": "f99f75d7",
   "metadata": {},
   "source": [
    "## 9.2 - API Handler"
   ]
  },
  {
   "cell_type": "code",
   "execution_count": 46,
   "id": "917d8680",
   "metadata": {
    "ExecuteTime": {
     "end_time": "2023-07-08T19:16:13.725965Z",
     "start_time": "2023-07-08T19:16:13.713593Z"
    }
   },
   "outputs": [],
   "source": [
    "# import pickle\n",
    "# import pandas as pd\n",
    "# from flask import Flask, request, Response\n",
    "# from modules.healthinsurance import HealthInsurance \n",
    "\n",
    "# # loading model\n",
    "# model = pickle.load( open( 'models/model_linear_regression.pkl', 'rb' ) )\n",
    "\n",
    "# # initlize API\n",
    "# app = Flask( __name__ )\n",
    "\n",
    "# @app.route( '/predict', methods = ['POST'] )\n",
    "# def health_insurance_predict():\n",
    "#     test_json = request.get_json()\n",
    "    \n",
    "#     if test_json:\n",
    "#         if isinstance( test_json , dict ):\n",
    "            \n",
    "#             test_raw = pd.DataFrame( test_json , index = [0] )\n",
    "#         else:\n",
    "#             test_raw = pd.DataFrame( test_json , columns = test_json[0].keys() )\n",
    "            \n",
    "#         # Initialize Rossmann Class\n",
    "#         pipeline = HealthInsurance()\n",
    "        \n",
    "#         # feature engineering\n",
    "#         df1 = pipeline.feature_engineering( test_raw )\n",
    "        \n",
    "#         # data preparation\n",
    "#         df2 = pipeline.data_prepatation( df1 )\n",
    "        \n",
    "#         # get prediction\n",
    "#         df_response = pipeline.get_prediction( model, test_raw , df2 )\n",
    "        \n",
    "#         return df_response\n",
    "    \n",
    "#     else:\n",
    "        \n",
    "#         return Response( '{}', status = 200 , mimetype = 'application/json' )\n",
    "    \n",
    "# if __name__ == '__main__':\n",
    "    \n",
    "#     app.run( '0.0.0.0', debug = True , use_reloader=False)\n",
    "        \n"
   ]
  },
  {
   "cell_type": "markdown",
   "id": "8be7a50d",
   "metadata": {
    "ExecuteTime": {
     "end_time": "2023-07-08T18:25:57.807156Z",
     "start_time": "2023-07-08T18:25:57.803165Z"
    }
   },
   "source": [
    "## 9.3 - API Tester"
   ]
  },
  {
   "cell_type": "code",
   "execution_count": 54,
   "id": "fff7d92a",
   "metadata": {
    "ExecuteTime": {
     "end_time": "2023-07-08T19:16:39.280960Z",
     "start_time": "2023-07-08T19:16:39.271943Z"
    }
   },
   "outputs": [],
   "source": [
    "import requests"
   ]
  },
  {
   "cell_type": "code",
   "execution_count": 55,
   "id": "3ba17787",
   "metadata": {
    "ExecuteTime": {
     "end_time": "2023-07-08T19:16:40.482973Z",
     "start_time": "2023-07-08T19:16:40.464022Z"
    }
   },
   "outputs": [],
   "source": [
    "# loading test dataset\n",
    "df_test = x_validation\n",
    "df_test['response'] = y_validation"
   ]
  },
  {
   "cell_type": "code",
   "execution_count": 56,
   "id": "a5996cc2",
   "metadata": {
    "ExecuteTime": {
     "end_time": "2023-07-08T19:16:41.792497Z",
     "start_time": "2023-07-08T19:16:41.776481Z"
    }
   },
   "outputs": [],
   "source": [
    "# pego uma amostra\n",
    "df_test = df_test.sample( 10 )"
   ]
  },
  {
   "cell_type": "code",
   "execution_count": 57,
   "id": "54826635",
   "metadata": {
    "ExecuteTime": {
     "end_time": "2023-07-08T19:16:42.892870Z",
     "start_time": "2023-07-08T19:16:42.864610Z"
    }
   },
   "outputs": [
    {
     "data": {
      "text/html": [
       "<div>\n",
       "<style scoped>\n",
       "    .dataframe tbody tr th:only-of-type {\n",
       "        vertical-align: middle;\n",
       "    }\n",
       "\n",
       "    .dataframe tbody tr th {\n",
       "        vertical-align: top;\n",
       "    }\n",
       "\n",
       "    .dataframe thead th {\n",
       "        text-align: right;\n",
       "    }\n",
       "</style>\n",
       "<table border=\"1\" class=\"dataframe\">\n",
       "  <thead>\n",
       "    <tr style=\"text-align: right;\">\n",
       "      <th></th>\n",
       "      <th>id</th>\n",
       "      <th>gender</th>\n",
       "      <th>age</th>\n",
       "      <th>region_code</th>\n",
       "      <th>policy_sales_channel</th>\n",
       "      <th>previously_insured</th>\n",
       "      <th>annual_premium</th>\n",
       "      <th>vintage</th>\n",
       "      <th>driving_license</th>\n",
       "      <th>vehicle_age</th>\n",
       "      <th>vehicle_damage</th>\n",
       "      <th>response</th>\n",
       "    </tr>\n",
       "  </thead>\n",
       "  <tbody>\n",
       "    <tr>\n",
       "      <th>352367</th>\n",
       "      <td>151229</td>\n",
       "      <td>Male</td>\n",
       "      <td>72</td>\n",
       "      <td>41.0</td>\n",
       "      <td>26.0</td>\n",
       "      <td>0</td>\n",
       "      <td>41283.0</td>\n",
       "      <td>86</td>\n",
       "      <td>1</td>\n",
       "      <td>between_1_2_years</td>\n",
       "      <td>1</td>\n",
       "      <td>0</td>\n",
       "    </tr>\n",
       "    <tr>\n",
       "      <th>340678</th>\n",
       "      <td>56399</td>\n",
       "      <td>Male</td>\n",
       "      <td>42</td>\n",
       "      <td>7.0</td>\n",
       "      <td>26.0</td>\n",
       "      <td>0</td>\n",
       "      <td>31607.0</td>\n",
       "      <td>138</td>\n",
       "      <td>1</td>\n",
       "      <td>between_1_2_years</td>\n",
       "      <td>1</td>\n",
       "      <td>0</td>\n",
       "    </tr>\n",
       "    <tr>\n",
       "      <th>14924</th>\n",
       "      <td>120044</td>\n",
       "      <td>Female</td>\n",
       "      <td>23</td>\n",
       "      <td>28.0</td>\n",
       "      <td>163.0</td>\n",
       "      <td>0</td>\n",
       "      <td>40088.0</td>\n",
       "      <td>170</td>\n",
       "      <td>1</td>\n",
       "      <td>below_1_year</td>\n",
       "      <td>1</td>\n",
       "      <td>1</td>\n",
       "    </tr>\n",
       "    <tr>\n",
       "      <th>271170</th>\n",
       "      <td>260917</td>\n",
       "      <td>Female</td>\n",
       "      <td>42</td>\n",
       "      <td>4.0</td>\n",
       "      <td>124.0</td>\n",
       "      <td>0</td>\n",
       "      <td>27005.0</td>\n",
       "      <td>117</td>\n",
       "      <td>1</td>\n",
       "      <td>between_1_2_years</td>\n",
       "      <td>1</td>\n",
       "      <td>0</td>\n",
       "    </tr>\n",
       "    <tr>\n",
       "      <th>231214</th>\n",
       "      <td>322179</td>\n",
       "      <td>Female</td>\n",
       "      <td>24</td>\n",
       "      <td>6.0</td>\n",
       "      <td>152.0</td>\n",
       "      <td>1</td>\n",
       "      <td>31034.0</td>\n",
       "      <td>222</td>\n",
       "      <td>1</td>\n",
       "      <td>below_1_year</td>\n",
       "      <td>0</td>\n",
       "      <td>0</td>\n",
       "    </tr>\n",
       "    <tr>\n",
       "      <th>167445</th>\n",
       "      <td>194216</td>\n",
       "      <td>Male</td>\n",
       "      <td>44</td>\n",
       "      <td>26.0</td>\n",
       "      <td>26.0</td>\n",
       "      <td>1</td>\n",
       "      <td>37180.0</td>\n",
       "      <td>56</td>\n",
       "      <td>1</td>\n",
       "      <td>between_1_2_years</td>\n",
       "      <td>0</td>\n",
       "      <td>0</td>\n",
       "    </tr>\n",
       "    <tr>\n",
       "      <th>192562</th>\n",
       "      <td>13920</td>\n",
       "      <td>Female</td>\n",
       "      <td>26</td>\n",
       "      <td>28.0</td>\n",
       "      <td>152.0</td>\n",
       "      <td>1</td>\n",
       "      <td>2630.0</td>\n",
       "      <td>72</td>\n",
       "      <td>1</td>\n",
       "      <td>below_1_year</td>\n",
       "      <td>0</td>\n",
       "      <td>0</td>\n",
       "    </tr>\n",
       "    <tr>\n",
       "      <th>28553</th>\n",
       "      <td>227947</td>\n",
       "      <td>Female</td>\n",
       "      <td>33</td>\n",
       "      <td>28.0</td>\n",
       "      <td>26.0</td>\n",
       "      <td>0</td>\n",
       "      <td>44005.0</td>\n",
       "      <td>264</td>\n",
       "      <td>1</td>\n",
       "      <td>below_1_year</td>\n",
       "      <td>1</td>\n",
       "      <td>0</td>\n",
       "    </tr>\n",
       "    <tr>\n",
       "      <th>350286</th>\n",
       "      <td>134211</td>\n",
       "      <td>Male</td>\n",
       "      <td>24</td>\n",
       "      <td>8.0</td>\n",
       "      <td>152.0</td>\n",
       "      <td>1</td>\n",
       "      <td>37043.0</td>\n",
       "      <td>288</td>\n",
       "      <td>1</td>\n",
       "      <td>below_1_year</td>\n",
       "      <td>0</td>\n",
       "      <td>0</td>\n",
       "    </tr>\n",
       "    <tr>\n",
       "      <th>43228</th>\n",
       "      <td>345362</td>\n",
       "      <td>Female</td>\n",
       "      <td>23</td>\n",
       "      <td>37.0</td>\n",
       "      <td>151.0</td>\n",
       "      <td>0</td>\n",
       "      <td>31236.0</td>\n",
       "      <td>121</td>\n",
       "      <td>1</td>\n",
       "      <td>below_1_year</td>\n",
       "      <td>1</td>\n",
       "      <td>0</td>\n",
       "    </tr>\n",
       "  </tbody>\n",
       "</table>\n",
       "</div>"
      ],
      "text/plain": [
       "            id  gender  age  region_code  policy_sales_channel   \n",
       "352367  151229    Male   72         41.0                  26.0  \\\n",
       "340678   56399    Male   42          7.0                  26.0   \n",
       "14924   120044  Female   23         28.0                 163.0   \n",
       "271170  260917  Female   42          4.0                 124.0   \n",
       "231214  322179  Female   24          6.0                 152.0   \n",
       "167445  194216    Male   44         26.0                  26.0   \n",
       "192562   13920  Female   26         28.0                 152.0   \n",
       "28553   227947  Female   33         28.0                  26.0   \n",
       "350286  134211    Male   24          8.0                 152.0   \n",
       "43228   345362  Female   23         37.0                 151.0   \n",
       "\n",
       "        previously_insured  annual_premium  vintage  driving_license   \n",
       "352367                   0         41283.0       86                1  \\\n",
       "340678                   0         31607.0      138                1   \n",
       "14924                    0         40088.0      170                1   \n",
       "271170                   0         27005.0      117                1   \n",
       "231214                   1         31034.0      222                1   \n",
       "167445                   1         37180.0       56                1   \n",
       "192562                   1          2630.0       72                1   \n",
       "28553                    0         44005.0      264                1   \n",
       "350286                   1         37043.0      288                1   \n",
       "43228                    0         31236.0      121                1   \n",
       "\n",
       "              vehicle_age  vehicle_damage  response  \n",
       "352367  between_1_2_years               1         0  \n",
       "340678  between_1_2_years               1         0  \n",
       "14924        below_1_year               1         1  \n",
       "271170  between_1_2_years               1         0  \n",
       "231214       below_1_year               0         0  \n",
       "167445  between_1_2_years               0         0  \n",
       "192562       below_1_year               0         0  \n",
       "28553        below_1_year               1         0  \n",
       "350286       below_1_year               0         0  \n",
       "43228        below_1_year               1         0  "
      ]
     },
     "execution_count": 57,
     "metadata": {},
     "output_type": "execute_result"
    }
   ],
   "source": [
    "df_test"
   ]
  },
  {
   "cell_type": "code",
   "execution_count": 58,
   "id": "c96cb05b",
   "metadata": {
    "ExecuteTime": {
     "end_time": "2023-07-08T19:16:45.430538Z",
     "start_time": "2023-07-08T19:16:45.416577Z"
    }
   },
   "outputs": [],
   "source": [
    "# converto into dict\n",
    "data = json.dumps( df_test.to_dict( orient = 'records' ) )"
   ]
  },
  {
   "cell_type": "code",
   "execution_count": 59,
   "id": "0b5cfe27",
   "metadata": {
    "ExecuteTime": {
     "end_time": "2023-07-08T19:16:46.531732Z",
     "start_time": "2023-07-08T19:16:46.512824Z"
    }
   },
   "outputs": [
    {
     "data": {
      "text/plain": [
       "'[{\"id\": 151229, \"gender\": \"Male\", \"age\": 72, \"region_code\": 41.0, \"policy_sales_channel\": 26.0, \"previously_insured\": 0, \"annual_premium\": 41283.0, \"vintage\": 86, \"driving_license\": 1, \"vehicle_age\": \"between_1_2_years\", \"vehicle_damage\": 1, \"response\": 0}, {\"id\": 56399, \"gender\": \"Male\", \"age\": 42, \"region_code\": 7.0, \"policy_sales_channel\": 26.0, \"previously_insured\": 0, \"annual_premium\": 31607.0, \"vintage\": 138, \"driving_license\": 1, \"vehicle_age\": \"between_1_2_years\", \"vehicle_damage\": 1, \"response\": 0}, {\"id\": 120044, \"gender\": \"Female\", \"age\": 23, \"region_code\": 28.0, \"policy_sales_channel\": 163.0, \"previously_insured\": 0, \"annual_premium\": 40088.0, \"vintage\": 170, \"driving_license\": 1, \"vehicle_age\": \"below_1_year\", \"vehicle_damage\": 1, \"response\": 1}, {\"id\": 260917, \"gender\": \"Female\", \"age\": 42, \"region_code\": 4.0, \"policy_sales_channel\": 124.0, \"previously_insured\": 0, \"annual_premium\": 27005.0, \"vintage\": 117, \"driving_license\": 1, \"vehicle_age\": \"between_1_2_years\", \"vehicle_damage\": 1, \"response\": 0}, {\"id\": 322179, \"gender\": \"Female\", \"age\": 24, \"region_code\": 6.0, \"policy_sales_channel\": 152.0, \"previously_insured\": 1, \"annual_premium\": 31034.0, \"vintage\": 222, \"driving_license\": 1, \"vehicle_age\": \"below_1_year\", \"vehicle_damage\": 0, \"response\": 0}, {\"id\": 194216, \"gender\": \"Male\", \"age\": 44, \"region_code\": 26.0, \"policy_sales_channel\": 26.0, \"previously_insured\": 1, \"annual_premium\": 37180.0, \"vintage\": 56, \"driving_license\": 1, \"vehicle_age\": \"between_1_2_years\", \"vehicle_damage\": 0, \"response\": 0}, {\"id\": 13920, \"gender\": \"Female\", \"age\": 26, \"region_code\": 28.0, \"policy_sales_channel\": 152.0, \"previously_insured\": 1, \"annual_premium\": 2630.0, \"vintage\": 72, \"driving_license\": 1, \"vehicle_age\": \"below_1_year\", \"vehicle_damage\": 0, \"response\": 0}, {\"id\": 227947, \"gender\": \"Female\", \"age\": 33, \"region_code\": 28.0, \"policy_sales_channel\": 26.0, \"previously_insured\": 0, \"annual_premium\": 44005.0, \"vintage\": 264, \"driving_license\": 1, \"vehicle_age\": \"below_1_year\", \"vehicle_damage\": 1, \"response\": 0}, {\"id\": 134211, \"gender\": \"Male\", \"age\": 24, \"region_code\": 8.0, \"policy_sales_channel\": 152.0, \"previously_insured\": 1, \"annual_premium\": 37043.0, \"vintage\": 288, \"driving_license\": 1, \"vehicle_age\": \"below_1_year\", \"vehicle_damage\": 0, \"response\": 0}, {\"id\": 345362, \"gender\": \"Female\", \"age\": 23, \"region_code\": 37.0, \"policy_sales_channel\": 151.0, \"previously_insured\": 0, \"annual_premium\": 31236.0, \"vintage\": 121, \"driving_license\": 1, \"vehicle_age\": \"below_1_year\", \"vehicle_damage\": 1, \"response\": 0}]'"
      ]
     },
     "execution_count": 59,
     "metadata": {},
     "output_type": "execute_result"
    }
   ],
   "source": [
    "data"
   ]
  },
  {
   "cell_type": "code",
   "execution_count": 86,
   "id": "92496e1d",
   "metadata": {
    "ExecuteTime": {
     "end_time": "2023-07-08T20:42:18.134394Z",
     "start_time": "2023-07-08T20:42:16.906469Z"
    }
   },
   "outputs": [
    {
     "name": "stdout",
     "output_type": "stream",
     "text": [
      "Status Code 500\n"
     ]
    }
   ],
   "source": [
    "url = 'https://healthinsurace.lm.r.appspot.com/'\n",
    "header = { 'Content-type' : 'application/json' }\n",
    "\n",
    "r = requests.post( url = url , data = data , headers = header )\n",
    "print( 'Status Code {}'.format( r.status_code ) )"
   ]
  },
  {
   "cell_type": "code",
   "execution_count": 80,
   "id": "5ba39c42",
   "metadata": {
    "ExecuteTime": {
     "end_time": "2023-07-08T20:26:17.207468Z",
     "start_time": "2023-07-08T20:26:16.988647Z"
    }
   },
   "outputs": [
    {
     "ename": "JSONDecodeError",
     "evalue": "Expecting value: line 2 column 1 (char 1)",
     "output_type": "error",
     "traceback": [
      "\u001b[1;31m---------------------------------------------------------------------------\u001b[0m",
      "\u001b[1;31mJSONDecodeError\u001b[0m                           Traceback (most recent call last)",
      "File \u001b[1;32m~\\anaconda3\\envs\\pa_004\\lib\\site-packages\\requests\\models.py:971\u001b[0m, in \u001b[0;36mResponse.json\u001b[1;34m(self, **kwargs)\u001b[0m\n\u001b[0;32m    970\u001b[0m \u001b[38;5;28;01mtry\u001b[39;00m:\n\u001b[1;32m--> 971\u001b[0m     \u001b[38;5;28;01mreturn\u001b[39;00m complexjson\u001b[38;5;241m.\u001b[39mloads(\u001b[38;5;28mself\u001b[39m\u001b[38;5;241m.\u001b[39mtext, \u001b[38;5;241m*\u001b[39m\u001b[38;5;241m*\u001b[39mkwargs)\n\u001b[0;32m    972\u001b[0m \u001b[38;5;28;01mexcept\u001b[39;00m JSONDecodeError \u001b[38;5;28;01mas\u001b[39;00m e:\n\u001b[0;32m    973\u001b[0m     \u001b[38;5;66;03m# Catch JSON-related errors and raise as requests.JSONDecodeError\u001b[39;00m\n\u001b[0;32m    974\u001b[0m     \u001b[38;5;66;03m# This aliases json.JSONDecodeError and simplejson.JSONDecodeError\u001b[39;00m\n",
      "File \u001b[1;32m~\\anaconda3\\envs\\pa_004\\lib\\json\\__init__.py:346\u001b[0m, in \u001b[0;36mloads\u001b[1;34m(s, cls, object_hook, parse_float, parse_int, parse_constant, object_pairs_hook, **kw)\u001b[0m\n\u001b[0;32m    343\u001b[0m \u001b[38;5;28;01mif\u001b[39;00m (\u001b[38;5;28mcls\u001b[39m \u001b[38;5;129;01mis\u001b[39;00m \u001b[38;5;28;01mNone\u001b[39;00m \u001b[38;5;129;01mand\u001b[39;00m object_hook \u001b[38;5;129;01mis\u001b[39;00m \u001b[38;5;28;01mNone\u001b[39;00m \u001b[38;5;129;01mand\u001b[39;00m\n\u001b[0;32m    344\u001b[0m         parse_int \u001b[38;5;129;01mis\u001b[39;00m \u001b[38;5;28;01mNone\u001b[39;00m \u001b[38;5;129;01mand\u001b[39;00m parse_float \u001b[38;5;129;01mis\u001b[39;00m \u001b[38;5;28;01mNone\u001b[39;00m \u001b[38;5;129;01mand\u001b[39;00m\n\u001b[0;32m    345\u001b[0m         parse_constant \u001b[38;5;129;01mis\u001b[39;00m \u001b[38;5;28;01mNone\u001b[39;00m \u001b[38;5;129;01mand\u001b[39;00m object_pairs_hook \u001b[38;5;129;01mis\u001b[39;00m \u001b[38;5;28;01mNone\u001b[39;00m \u001b[38;5;129;01mand\u001b[39;00m \u001b[38;5;129;01mnot\u001b[39;00m kw):\n\u001b[1;32m--> 346\u001b[0m     \u001b[38;5;28;01mreturn\u001b[39;00m \u001b[43m_default_decoder\u001b[49m\u001b[38;5;241;43m.\u001b[39;49m\u001b[43mdecode\u001b[49m\u001b[43m(\u001b[49m\u001b[43ms\u001b[49m\u001b[43m)\u001b[49m\n\u001b[0;32m    347\u001b[0m \u001b[38;5;28;01mif\u001b[39;00m \u001b[38;5;28mcls\u001b[39m \u001b[38;5;129;01mis\u001b[39;00m \u001b[38;5;28;01mNone\u001b[39;00m:\n",
      "File \u001b[1;32m~\\anaconda3\\envs\\pa_004\\lib\\json\\decoder.py:337\u001b[0m, in \u001b[0;36mJSONDecoder.decode\u001b[1;34m(self, s, _w)\u001b[0m\n\u001b[0;32m    333\u001b[0m \u001b[38;5;250m\u001b[39m\u001b[38;5;124;03m\"\"\"Return the Python representation of ``s`` (a ``str`` instance\u001b[39;00m\n\u001b[0;32m    334\u001b[0m \u001b[38;5;124;03mcontaining a JSON document).\u001b[39;00m\n\u001b[0;32m    335\u001b[0m \n\u001b[0;32m    336\u001b[0m \u001b[38;5;124;03m\"\"\"\u001b[39;00m\n\u001b[1;32m--> 337\u001b[0m obj, end \u001b[38;5;241m=\u001b[39m \u001b[38;5;28;43mself\u001b[39;49m\u001b[38;5;241;43m.\u001b[39;49m\u001b[43mraw_decode\u001b[49m\u001b[43m(\u001b[49m\u001b[43ms\u001b[49m\u001b[43m,\u001b[49m\u001b[43m \u001b[49m\u001b[43midx\u001b[49m\u001b[38;5;241;43m=\u001b[39;49m\u001b[43m_w\u001b[49m\u001b[43m(\u001b[49m\u001b[43ms\u001b[49m\u001b[43m,\u001b[49m\u001b[43m \u001b[49m\u001b[38;5;241;43m0\u001b[39;49m\u001b[43m)\u001b[49m\u001b[38;5;241;43m.\u001b[39;49m\u001b[43mend\u001b[49m\u001b[43m(\u001b[49m\u001b[43m)\u001b[49m\u001b[43m)\u001b[49m\n\u001b[0;32m    338\u001b[0m end \u001b[38;5;241m=\u001b[39m _w(s, end)\u001b[38;5;241m.\u001b[39mend()\n",
      "File \u001b[1;32m~\\anaconda3\\envs\\pa_004\\lib\\json\\decoder.py:355\u001b[0m, in \u001b[0;36mJSONDecoder.raw_decode\u001b[1;34m(self, s, idx)\u001b[0m\n\u001b[0;32m    354\u001b[0m \u001b[38;5;28;01mexcept\u001b[39;00m \u001b[38;5;167;01mStopIteration\u001b[39;00m \u001b[38;5;28;01mas\u001b[39;00m err:\n\u001b[1;32m--> 355\u001b[0m     \u001b[38;5;28;01mraise\u001b[39;00m JSONDecodeError(\u001b[38;5;124m\"\u001b[39m\u001b[38;5;124mExpecting value\u001b[39m\u001b[38;5;124m\"\u001b[39m, s, err\u001b[38;5;241m.\u001b[39mvalue) \u001b[38;5;28;01mfrom\u001b[39;00m \u001b[38;5;28;01mNone\u001b[39;00m\n\u001b[0;32m    356\u001b[0m \u001b[38;5;28;01mreturn\u001b[39;00m obj, end\n",
      "\u001b[1;31mJSONDecodeError\u001b[0m: Expecting value: line 2 column 1 (char 1)",
      "\nDuring handling of the above exception, another exception occurred:\n",
      "\u001b[1;31mJSONDecodeError\u001b[0m                           Traceback (most recent call last)",
      "Cell \u001b[1;32mIn[80], line 1\u001b[0m\n\u001b[1;32m----> 1\u001b[0m d1 \u001b[38;5;241m=\u001b[39m pd\u001b[38;5;241m.\u001b[39mDataFrame( \u001b[43mr\u001b[49m\u001b[38;5;241;43m.\u001b[39;49m\u001b[43mjson\u001b[49m\u001b[43m(\u001b[49m\u001b[43m)\u001b[49m , columns \u001b[38;5;241m=\u001b[39m r\u001b[38;5;241m.\u001b[39mjson()[\u001b[38;5;241m0\u001b[39m]\u001b[38;5;241m.\u001b[39mkeys() )\n\u001b[0;32m      2\u001b[0m d1\u001b[38;5;241m.\u001b[39msort_values( by \u001b[38;5;241m=\u001b[39m \u001b[38;5;124m'\u001b[39m\u001b[38;5;124mprediction\u001b[39m\u001b[38;5;124m'\u001b[39m , ascending \u001b[38;5;241m=\u001b[39m \u001b[38;5;28;01mFalse\u001b[39;00m )\n",
      "File \u001b[1;32m~\\anaconda3\\envs\\pa_004\\lib\\site-packages\\requests\\models.py:975\u001b[0m, in \u001b[0;36mResponse.json\u001b[1;34m(self, **kwargs)\u001b[0m\n\u001b[0;32m    971\u001b[0m     \u001b[38;5;28;01mreturn\u001b[39;00m complexjson\u001b[38;5;241m.\u001b[39mloads(\u001b[38;5;28mself\u001b[39m\u001b[38;5;241m.\u001b[39mtext, \u001b[38;5;241m*\u001b[39m\u001b[38;5;241m*\u001b[39mkwargs)\n\u001b[0;32m    972\u001b[0m \u001b[38;5;28;01mexcept\u001b[39;00m JSONDecodeError \u001b[38;5;28;01mas\u001b[39;00m e:\n\u001b[0;32m    973\u001b[0m     \u001b[38;5;66;03m# Catch JSON-related errors and raise as requests.JSONDecodeError\u001b[39;00m\n\u001b[0;32m    974\u001b[0m     \u001b[38;5;66;03m# This aliases json.JSONDecodeError and simplejson.JSONDecodeError\u001b[39;00m\n\u001b[1;32m--> 975\u001b[0m     \u001b[38;5;28;01mraise\u001b[39;00m RequestsJSONDecodeError(e\u001b[38;5;241m.\u001b[39mmsg, e\u001b[38;5;241m.\u001b[39mdoc, e\u001b[38;5;241m.\u001b[39mpos)\n",
      "\u001b[1;31mJSONDecodeError\u001b[0m: Expecting value: line 2 column 1 (char 1)"
     ]
    }
   ],
   "source": [
    "d1 = pd.DataFrame( r.json() , columns = r.json()[0].keys() )\n",
    "d1.sort_values( by = 'prediction' , ascending = False )"
   ]
  }
 ],
 "metadata": {
  "kernelspec": {
   "display_name": "pa004",
   "language": "python",
   "name": "pa004"
  },
  "language_info": {
   "codemirror_mode": {
    "name": "ipython",
    "version": 3
   },
   "file_extension": ".py",
   "mimetype": "text/x-python",
   "name": "python",
   "nbconvert_exporter": "python",
   "pygments_lexer": "ipython3",
   "version": "3.9.16"
  }
 },
 "nbformat": 4,
 "nbformat_minor": 5
}
