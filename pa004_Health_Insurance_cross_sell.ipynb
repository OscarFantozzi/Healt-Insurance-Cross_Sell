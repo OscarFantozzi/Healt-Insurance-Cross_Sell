{
 "cells": [
  {
   "cell_type": "markdown",
   "id": "d8579add",
   "metadata": {},
   "source": [
    "# 0.0 Imports"
   ]
  },
  {
   "cell_type": "code",
   "execution_count": 1,
   "id": "67d4f6e2",
   "metadata": {
    "ExecuteTime": {
     "end_time": "2023-05-02T19:06:43.484608Z",
     "start_time": "2023-05-02T19:06:41.114646Z"
    }
   },
   "outputs": [],
   "source": [
    "import pandas as pd\n",
    "import numpy as np\n",
    "import seaborn as sns\n",
    "\n",
    "from matplotlib import pyplot as plt"
   ]
  },
  {
   "cell_type": "markdown",
   "id": "1aa34516",
   "metadata": {},
   "source": [
    "# 0.1 Loading Dataset"
   ]
  },
  {
   "cell_type": "code",
   "execution_count": 2,
   "id": "017513f8",
   "metadata": {
    "ExecuteTime": {
     "end_time": "2023-05-02T19:06:44.469667Z",
     "start_time": "2023-05-02T19:06:43.484608Z"
    }
   },
   "outputs": [
    {
     "data": {
      "text/html": [
       "<div>\n",
       "<style scoped>\n",
       "    .dataframe tbody tr th:only-of-type {\n",
       "        vertical-align: middle;\n",
       "    }\n",
       "\n",
       "    .dataframe tbody tr th {\n",
       "        vertical-align: top;\n",
       "    }\n",
       "\n",
       "    .dataframe thead th {\n",
       "        text-align: right;\n",
       "    }\n",
       "</style>\n",
       "<table border=\"1\" class=\"dataframe\">\n",
       "  <thead>\n",
       "    <tr style=\"text-align: right;\">\n",
       "      <th></th>\n",
       "      <th>id</th>\n",
       "      <th>gender</th>\n",
       "      <th>age</th>\n",
       "      <th>region_code</th>\n",
       "      <th>policy_sales_channel</th>\n",
       "      <th>previously_insured</th>\n",
       "      <th>annual_premium</th>\n",
       "      <th>vintage</th>\n",
       "      <th>response</th>\n",
       "      <th>driving_license</th>\n",
       "      <th>vehicle_age</th>\n",
       "      <th>vehicle_damage</th>\n",
       "    </tr>\n",
       "  </thead>\n",
       "  <tbody>\n",
       "    <tr>\n",
       "      <th>143003</th>\n",
       "      <td>1</td>\n",
       "      <td>Male</td>\n",
       "      <td>44</td>\n",
       "      <td>28.0</td>\n",
       "      <td>26.0</td>\n",
       "      <td>0</td>\n",
       "      <td>40454.0</td>\n",
       "      <td>217</td>\n",
       "      <td>1</td>\n",
       "      <td>1</td>\n",
       "      <td>&gt; 2 Years</td>\n",
       "      <td>Yes</td>\n",
       "    </tr>\n",
       "    <tr>\n",
       "      <th>286227</th>\n",
       "      <td>2</td>\n",
       "      <td>Male</td>\n",
       "      <td>76</td>\n",
       "      <td>3.0</td>\n",
       "      <td>26.0</td>\n",
       "      <td>0</td>\n",
       "      <td>33536.0</td>\n",
       "      <td>183</td>\n",
       "      <td>0</td>\n",
       "      <td>1</td>\n",
       "      <td>1-2 Year</td>\n",
       "      <td>No</td>\n",
       "    </tr>\n",
       "    <tr>\n",
       "      <th>143004</th>\n",
       "      <td>3</td>\n",
       "      <td>Male</td>\n",
       "      <td>47</td>\n",
       "      <td>28.0</td>\n",
       "      <td>26.0</td>\n",
       "      <td>0</td>\n",
       "      <td>38294.0</td>\n",
       "      <td>27</td>\n",
       "      <td>1</td>\n",
       "      <td>1</td>\n",
       "      <td>&gt; 2 Years</td>\n",
       "      <td>Yes</td>\n",
       "    </tr>\n",
       "    <tr>\n",
       "      <th>190848</th>\n",
       "      <td>4</td>\n",
       "      <td>Male</td>\n",
       "      <td>21</td>\n",
       "      <td>11.0</td>\n",
       "      <td>152.0</td>\n",
       "      <td>1</td>\n",
       "      <td>28619.0</td>\n",
       "      <td>203</td>\n",
       "      <td>0</td>\n",
       "      <td>1</td>\n",
       "      <td>&lt; 1 Year</td>\n",
       "      <td>No</td>\n",
       "    </tr>\n",
       "    <tr>\n",
       "      <th>238464</th>\n",
       "      <td>5</td>\n",
       "      <td>Female</td>\n",
       "      <td>29</td>\n",
       "      <td>41.0</td>\n",
       "      <td>152.0</td>\n",
       "      <td>1</td>\n",
       "      <td>27496.0</td>\n",
       "      <td>39</td>\n",
       "      <td>0</td>\n",
       "      <td>1</td>\n",
       "      <td>&lt; 1 Year</td>\n",
       "      <td>No</td>\n",
       "    </tr>\n",
       "  </tbody>\n",
       "</table>\n",
       "</div>"
      ],
      "text/plain": [
       "        id  gender  age  region_code  policy_sales_channel   \n",
       "143003   1    Male   44         28.0                  26.0  \\\n",
       "286227   2    Male   76          3.0                  26.0   \n",
       "143004   3    Male   47         28.0                  26.0   \n",
       "190848   4    Male   21         11.0                 152.0   \n",
       "238464   5  Female   29         41.0                 152.0   \n",
       "\n",
       "        previously_insured  annual_premium  vintage  response   \n",
       "143003                   0         40454.0      217         1  \\\n",
       "286227                   0         33536.0      183         0   \n",
       "143004                   0         38294.0       27         1   \n",
       "190848                   1         28619.0      203         0   \n",
       "238464                   1         27496.0       39         0   \n",
       "\n",
       "        driving_license vehicle_age vehicle_damage  \n",
       "143003                1   > 2 Years            Yes  \n",
       "286227                1    1-2 Year             No  \n",
       "143004                1   > 2 Years            Yes  \n",
       "190848                1    < 1 Year             No  \n",
       "238464                1    < 1 Year             No  "
      ]
     },
     "execution_count": 2,
     "metadata": {},
     "output_type": "execute_result"
    }
   ],
   "source": [
    "df_raw = pd.read_csv( 'data/insurance_data.csv' ).sort_values( by = 'id' )\n",
    "df_raw.head()"
   ]
  },
  {
   "cell_type": "markdown",
   "id": "fd580d9a",
   "metadata": {
    "heading_collapsed": true
   },
   "source": [
    "# 1.0 Data Description"
   ]
  },
  {
   "cell_type": "code",
   "execution_count": 3,
   "id": "8199caeb",
   "metadata": {
    "ExecuteTime": {
     "end_time": "2023-05-02T19:06:44.517834Z",
     "start_time": "2023-05-02T19:06:44.474445Z"
    },
    "hidden": true
   },
   "outputs": [],
   "source": [
    "df1 = df_raw.copy()"
   ]
  },
  {
   "cell_type": "markdown",
   "id": "ff2e7947",
   "metadata": {
    "ExecuteTime": {
     "end_time": "2023-05-01T11:45:36.360095Z",
     "start_time": "2023-05-01T11:45:36.353113Z"
    },
    "hidden": true
   },
   "source": [
    "## 1.1 Data Dimension"
   ]
  },
  {
   "cell_type": "code",
   "execution_count": 4,
   "id": "434b404d",
   "metadata": {
    "ExecuteTime": {
     "end_time": "2023-05-02T19:06:44.549893Z",
     "start_time": "2023-05-02T19:06:44.525897Z"
    },
    "hidden": true
   },
   "outputs": [
    {
     "name": "stdout",
     "output_type": "stream",
     "text": [
      "Numbers of rows 381109\n",
      "Numbers of columns 12\n"
     ]
    }
   ],
   "source": [
    "print( 'Numbers of rows {}'.format( df1.shape[0] ) )\n",
    "print( 'Numbers of columns {}'.format( df1.shape[1] ) )"
   ]
  },
  {
   "cell_type": "markdown",
   "id": "f195dd15",
   "metadata": {
    "hidden": true
   },
   "source": [
    "## 1.2 Data Types"
   ]
  },
  {
   "cell_type": "code",
   "execution_count": 5,
   "id": "4c2b52fc",
   "metadata": {
    "ExecuteTime": {
     "end_time": "2023-05-02T19:06:44.582275Z",
     "start_time": "2023-05-02T19:06:44.554015Z"
    },
    "hidden": true
   },
   "outputs": [
    {
     "data": {
      "text/plain": [
       "id                        int64\n",
       "gender                   object\n",
       "age                       int64\n",
       "region_code             float64\n",
       "policy_sales_channel    float64\n",
       "previously_insured        int64\n",
       "annual_premium          float64\n",
       "vintage                   int64\n",
       "response                  int64\n",
       "driving_license           int64\n",
       "vehicle_age              object\n",
       "vehicle_damage           object\n",
       "dtype: object"
      ]
     },
     "execution_count": 5,
     "metadata": {},
     "output_type": "execute_result"
    }
   ],
   "source": [
    "df1.dtypes"
   ]
  },
  {
   "cell_type": "markdown",
   "id": "d6dacd1e",
   "metadata": {
    "hidden": true
   },
   "source": [
    "## 1.3 Check NA\n"
   ]
  },
  {
   "cell_type": "code",
   "execution_count": 6,
   "id": "87c4ae51",
   "metadata": {
    "ExecuteTime": {
     "end_time": "2023-05-02T19:06:44.712685Z",
     "start_time": "2023-05-02T19:06:44.582275Z"
    },
    "hidden": true
   },
   "outputs": [
    {
     "data": {
      "text/plain": [
       "id                      0\n",
       "gender                  0\n",
       "age                     0\n",
       "region_code             0\n",
       "policy_sales_channel    0\n",
       "previously_insured      0\n",
       "annual_premium          0\n",
       "vintage                 0\n",
       "response                0\n",
       "driving_license         0\n",
       "vehicle_age             0\n",
       "vehicle_damage          0\n",
       "dtype: int64"
      ]
     },
     "execution_count": 6,
     "metadata": {},
     "output_type": "execute_result"
    }
   ],
   "source": [
    "df1.isna().sum()"
   ]
  },
  {
   "cell_type": "markdown",
   "id": "0af53fa4",
   "metadata": {
    "hidden": true
   },
   "source": [
    "## 1.4 Data Descriptive"
   ]
  },
  {
   "cell_type": "code",
   "execution_count": 7,
   "id": "c1d2831d",
   "metadata": {
    "ExecuteTime": {
     "end_time": "2023-05-02T19:06:44.754623Z",
     "start_time": "2023-05-02T19:06:44.714283Z"
    },
    "hidden": true
   },
   "outputs": [],
   "source": [
    "# separo em categoricos e numéricos\n",
    "num_attributes = df1.select_dtypes( include = ['int64', 'float64']  )\n",
    "cat_attributes = df1.select_dtypes( exclude = ['int64','float64','datetime64[ns]'] )"
   ]
  },
  {
   "cell_type": "code",
   "execution_count": 8,
   "id": "5579f5f5",
   "metadata": {
    "ExecuteTime": {
     "end_time": "2023-05-02T19:06:45.242394Z",
     "start_time": "2023-05-02T19:06:44.754623Z"
    },
    "hidden": true
   },
   "outputs": [
    {
     "data": {
      "text/html": [
       "<div>\n",
       "<style scoped>\n",
       "    .dataframe tbody tr th:only-of-type {\n",
       "        vertical-align: middle;\n",
       "    }\n",
       "\n",
       "    .dataframe tbody tr th {\n",
       "        vertical-align: top;\n",
       "    }\n",
       "\n",
       "    .dataframe thead th {\n",
       "        text-align: right;\n",
       "    }\n",
       "</style>\n",
       "<table border=\"1\" class=\"dataframe\">\n",
       "  <thead>\n",
       "    <tr style=\"text-align: right;\">\n",
       "      <th></th>\n",
       "      <th>features</th>\n",
       "      <th>min</th>\n",
       "      <th>max</th>\n",
       "      <th>range</th>\n",
       "      <th>mean</th>\n",
       "      <th>median</th>\n",
       "      <th>std</th>\n",
       "      <th>skew</th>\n",
       "      <th>kurtosis</th>\n",
       "    </tr>\n",
       "  </thead>\n",
       "  <tbody>\n",
       "    <tr>\n",
       "      <th>0</th>\n",
       "      <td>id</td>\n",
       "      <td>1.0</td>\n",
       "      <td>381109.0</td>\n",
       "      <td>381108.0</td>\n",
       "      <td>190555.000000</td>\n",
       "      <td>190555.0</td>\n",
       "      <td>110016.691870</td>\n",
       "      <td>9.443274e-16</td>\n",
       "      <td>-1.200000</td>\n",
       "    </tr>\n",
       "    <tr>\n",
       "      <th>1</th>\n",
       "      <td>age</td>\n",
       "      <td>20.0</td>\n",
       "      <td>85.0</td>\n",
       "      <td>65.0</td>\n",
       "      <td>38.822584</td>\n",
       "      <td>36.0</td>\n",
       "      <td>15.511591</td>\n",
       "      <td>6.725390e-01</td>\n",
       "      <td>-0.565655</td>\n",
       "    </tr>\n",
       "    <tr>\n",
       "      <th>2</th>\n",
       "      <td>region_code</td>\n",
       "      <td>0.0</td>\n",
       "      <td>52.0</td>\n",
       "      <td>52.0</td>\n",
       "      <td>26.388807</td>\n",
       "      <td>28.0</td>\n",
       "      <td>13.229871</td>\n",
       "      <td>-1.152664e-01</td>\n",
       "      <td>-0.867857</td>\n",
       "    </tr>\n",
       "    <tr>\n",
       "      <th>3</th>\n",
       "      <td>policy_sales_channel</td>\n",
       "      <td>1.0</td>\n",
       "      <td>163.0</td>\n",
       "      <td>162.0</td>\n",
       "      <td>112.034295</td>\n",
       "      <td>133.0</td>\n",
       "      <td>54.203924</td>\n",
       "      <td>-9.000081e-01</td>\n",
       "      <td>-0.970810</td>\n",
       "    </tr>\n",
       "    <tr>\n",
       "      <th>4</th>\n",
       "      <td>previously_insured</td>\n",
       "      <td>0.0</td>\n",
       "      <td>1.0</td>\n",
       "      <td>1.0</td>\n",
       "      <td>0.458210</td>\n",
       "      <td>0.0</td>\n",
       "      <td>0.498251</td>\n",
       "      <td>1.677471e-01</td>\n",
       "      <td>-1.971871</td>\n",
       "    </tr>\n",
       "    <tr>\n",
       "      <th>5</th>\n",
       "      <td>annual_premium</td>\n",
       "      <td>2630.0</td>\n",
       "      <td>540165.0</td>\n",
       "      <td>537535.0</td>\n",
       "      <td>30564.389581</td>\n",
       "      <td>31669.0</td>\n",
       "      <td>17213.132474</td>\n",
       "      <td>1.766087e+00</td>\n",
       "      <td>34.004569</td>\n",
       "    </tr>\n",
       "    <tr>\n",
       "      <th>6</th>\n",
       "      <td>vintage</td>\n",
       "      <td>10.0</td>\n",
       "      <td>299.0</td>\n",
       "      <td>289.0</td>\n",
       "      <td>154.347397</td>\n",
       "      <td>154.0</td>\n",
       "      <td>83.671194</td>\n",
       "      <td>3.029517e-03</td>\n",
       "      <td>-1.200688</td>\n",
       "    </tr>\n",
       "    <tr>\n",
       "      <th>7</th>\n",
       "      <td>response</td>\n",
       "      <td>0.0</td>\n",
       "      <td>1.0</td>\n",
       "      <td>1.0</td>\n",
       "      <td>0.122563</td>\n",
       "      <td>0.0</td>\n",
       "      <td>0.327935</td>\n",
       "      <td>2.301906e+00</td>\n",
       "      <td>3.298788</td>\n",
       "    </tr>\n",
       "    <tr>\n",
       "      <th>8</th>\n",
       "      <td>driving_license</td>\n",
       "      <td>0.0</td>\n",
       "      <td>1.0</td>\n",
       "      <td>1.0</td>\n",
       "      <td>0.997869</td>\n",
       "      <td>1.0</td>\n",
       "      <td>0.046109</td>\n",
       "      <td>-2.159518e+01</td>\n",
       "      <td>464.354302</td>\n",
       "    </tr>\n",
       "  </tbody>\n",
       "</table>\n",
       "</div>"
      ],
      "text/plain": [
       "               features     min       max     range           mean    median   \n",
       "0                    id     1.0  381109.0  381108.0  190555.000000  190555.0  \\\n",
       "1                   age    20.0      85.0      65.0      38.822584      36.0   \n",
       "2           region_code     0.0      52.0      52.0      26.388807      28.0   \n",
       "3  policy_sales_channel     1.0     163.0     162.0     112.034295     133.0   \n",
       "4    previously_insured     0.0       1.0       1.0       0.458210       0.0   \n",
       "5        annual_premium  2630.0  540165.0  537535.0   30564.389581   31669.0   \n",
       "6               vintage    10.0     299.0     289.0     154.347397     154.0   \n",
       "7              response     0.0       1.0       1.0       0.122563       0.0   \n",
       "8       driving_license     0.0       1.0       1.0       0.997869       1.0   \n",
       "\n",
       "             std          skew    kurtosis  \n",
       "0  110016.691870  9.443274e-16   -1.200000  \n",
       "1      15.511591  6.725390e-01   -0.565655  \n",
       "2      13.229871 -1.152664e-01   -0.867857  \n",
       "3      54.203924 -9.000081e-01   -0.970810  \n",
       "4       0.498251  1.677471e-01   -1.971871  \n",
       "5   17213.132474  1.766087e+00   34.004569  \n",
       "6      83.671194  3.029517e-03   -1.200688  \n",
       "7       0.327935  2.301906e+00    3.298788  \n",
       "8       0.046109 -2.159518e+01  464.354302  "
      ]
     },
     "execution_count": 8,
     "metadata": {},
     "output_type": "execute_result"
    }
   ],
   "source": [
    "# Central tendency - mean, median\n",
    "ct1 = pd.DataFrame( num_attributes.apply( np.mean ) ).T # calculado a media das colunas -- aplica em todas colunas\n",
    "ct2 = pd.DataFrame( num_attributes.apply( np.median) ).T # calculando a mediana\n",
    "\n",
    "# Dispersion - std, min, max, range, skew, kurtosis\n",
    "d1 = pd.DataFrame( num_attributes.apply( np.std ) ).T # calculando o std \n",
    "d2 = pd.DataFrame( num_attributes.apply( np.min ) ).T # calculando o min\n",
    "d3 = pd.DataFrame( num_attributes.apply( np.max ) ).T # calculando o max\n",
    "d4 = pd.DataFrame( num_attributes.apply( lambda x: x.max() - x.min()  ) ).T # calcula o range\n",
    "d5 = pd.DataFrame( num_attributes.apply( lambda x: x.skew() ) ).T # calcula o skew\n",
    "d6 = pd.DataFrame( num_attributes.apply( lambda x: x.kurtosis() ) ).T # calcula o kurtosis\n",
    "\n",
    "# concatenate\n",
    "m = pd.concat( [d2,d3,d4,ct1,ct2,d1,d5,d6] ).T.reset_index()\n",
    "m.columns = ['features','min','max','range','mean','median','std','skew','kurtosis'] \n",
    "m"
   ]
  },
  {
   "cell_type": "markdown",
   "id": "35fca6e9",
   "metadata": {},
   "source": [
    "# 2.0 Feature Engineering"
   ]
  },
  {
   "cell_type": "code",
   "execution_count": 9,
   "id": "9c07566a",
   "metadata": {
    "ExecuteTime": {
     "end_time": "2023-05-02T19:06:45.316364Z",
     "start_time": "2023-05-02T19:06:45.246529Z"
    }
   },
   "outputs": [
    {
     "data": {
      "text/html": [
       "<div>\n",
       "<style scoped>\n",
       "    .dataframe tbody tr th:only-of-type {\n",
       "        vertical-align: middle;\n",
       "    }\n",
       "\n",
       "    .dataframe tbody tr th {\n",
       "        vertical-align: top;\n",
       "    }\n",
       "\n",
       "    .dataframe thead th {\n",
       "        text-align: right;\n",
       "    }\n",
       "</style>\n",
       "<table border=\"1\" class=\"dataframe\">\n",
       "  <thead>\n",
       "    <tr style=\"text-align: right;\">\n",
       "      <th></th>\n",
       "      <th>id</th>\n",
       "      <th>gender</th>\n",
       "      <th>age</th>\n",
       "      <th>region_code</th>\n",
       "      <th>policy_sales_channel</th>\n",
       "      <th>previously_insured</th>\n",
       "      <th>annual_premium</th>\n",
       "      <th>vintage</th>\n",
       "      <th>response</th>\n",
       "      <th>driving_license</th>\n",
       "      <th>vehicle_age</th>\n",
       "      <th>vehicle_damage</th>\n",
       "    </tr>\n",
       "  </thead>\n",
       "  <tbody>\n",
       "    <tr>\n",
       "      <th>143003</th>\n",
       "      <td>1</td>\n",
       "      <td>Male</td>\n",
       "      <td>44</td>\n",
       "      <td>28.0</td>\n",
       "      <td>26.0</td>\n",
       "      <td>0</td>\n",
       "      <td>40454.0</td>\n",
       "      <td>217</td>\n",
       "      <td>1</td>\n",
       "      <td>1</td>\n",
       "      <td>&gt; 2 Years</td>\n",
       "      <td>Yes</td>\n",
       "    </tr>\n",
       "    <tr>\n",
       "      <th>286227</th>\n",
       "      <td>2</td>\n",
       "      <td>Male</td>\n",
       "      <td>76</td>\n",
       "      <td>3.0</td>\n",
       "      <td>26.0</td>\n",
       "      <td>0</td>\n",
       "      <td>33536.0</td>\n",
       "      <td>183</td>\n",
       "      <td>0</td>\n",
       "      <td>1</td>\n",
       "      <td>1-2 Year</td>\n",
       "      <td>No</td>\n",
       "    </tr>\n",
       "    <tr>\n",
       "      <th>143004</th>\n",
       "      <td>3</td>\n",
       "      <td>Male</td>\n",
       "      <td>47</td>\n",
       "      <td>28.0</td>\n",
       "      <td>26.0</td>\n",
       "      <td>0</td>\n",
       "      <td>38294.0</td>\n",
       "      <td>27</td>\n",
       "      <td>1</td>\n",
       "      <td>1</td>\n",
       "      <td>&gt; 2 Years</td>\n",
       "      <td>Yes</td>\n",
       "    </tr>\n",
       "    <tr>\n",
       "      <th>190848</th>\n",
       "      <td>4</td>\n",
       "      <td>Male</td>\n",
       "      <td>21</td>\n",
       "      <td>11.0</td>\n",
       "      <td>152.0</td>\n",
       "      <td>1</td>\n",
       "      <td>28619.0</td>\n",
       "      <td>203</td>\n",
       "      <td>0</td>\n",
       "      <td>1</td>\n",
       "      <td>&lt; 1 Year</td>\n",
       "      <td>No</td>\n",
       "    </tr>\n",
       "    <tr>\n",
       "      <th>238464</th>\n",
       "      <td>5</td>\n",
       "      <td>Female</td>\n",
       "      <td>29</td>\n",
       "      <td>41.0</td>\n",
       "      <td>152.0</td>\n",
       "      <td>1</td>\n",
       "      <td>27496.0</td>\n",
       "      <td>39</td>\n",
       "      <td>0</td>\n",
       "      <td>1</td>\n",
       "      <td>&lt; 1 Year</td>\n",
       "      <td>No</td>\n",
       "    </tr>\n",
       "  </tbody>\n",
       "</table>\n",
       "</div>"
      ],
      "text/plain": [
       "        id  gender  age  region_code  policy_sales_channel   \n",
       "143003   1    Male   44         28.0                  26.0  \\\n",
       "286227   2    Male   76          3.0                  26.0   \n",
       "143004   3    Male   47         28.0                  26.0   \n",
       "190848   4    Male   21         11.0                 152.0   \n",
       "238464   5  Female   29         41.0                 152.0   \n",
       "\n",
       "        previously_insured  annual_premium  vintage  response   \n",
       "143003                   0         40454.0      217         1  \\\n",
       "286227                   0         33536.0      183         0   \n",
       "143004                   0         38294.0       27         1   \n",
       "190848                   1         28619.0      203         0   \n",
       "238464                   1         27496.0       39         0   \n",
       "\n",
       "        driving_license vehicle_age vehicle_damage  \n",
       "143003                1   > 2 Years            Yes  \n",
       "286227                1    1-2 Year             No  \n",
       "143004                1   > 2 Years            Yes  \n",
       "190848                1    < 1 Year             No  \n",
       "238464                1    < 1 Year             No  "
      ]
     },
     "execution_count": 9,
     "metadata": {},
     "output_type": "execute_result"
    }
   ],
   "source": [
    "df2 = df1.copy()\n",
    "df2.head()"
   ]
  },
  {
   "cell_type": "code",
   "execution_count": 10,
   "id": "5fe28ef3",
   "metadata": {
    "ExecuteTime": {
     "end_time": "2023-05-02T19:06:45.771530Z",
     "start_time": "2023-05-02T19:06:45.323878Z"
    }
   },
   "outputs": [
    {
     "data": {
      "text/html": [
       "<div>\n",
       "<style scoped>\n",
       "    .dataframe tbody tr th:only-of-type {\n",
       "        vertical-align: middle;\n",
       "    }\n",
       "\n",
       "    .dataframe tbody tr th {\n",
       "        vertical-align: top;\n",
       "    }\n",
       "\n",
       "    .dataframe thead th {\n",
       "        text-align: right;\n",
       "    }\n",
       "</style>\n",
       "<table border=\"1\" class=\"dataframe\">\n",
       "  <thead>\n",
       "    <tr style=\"text-align: right;\">\n",
       "      <th></th>\n",
       "      <th>id</th>\n",
       "      <th>gender</th>\n",
       "      <th>age</th>\n",
       "      <th>region_code</th>\n",
       "      <th>policy_sales_channel</th>\n",
       "      <th>previously_insured</th>\n",
       "      <th>annual_premium</th>\n",
       "      <th>vintage</th>\n",
       "      <th>response</th>\n",
       "      <th>driving_license</th>\n",
       "      <th>vehicle_age</th>\n",
       "      <th>vehicle_damage</th>\n",
       "    </tr>\n",
       "  </thead>\n",
       "  <tbody>\n",
       "    <tr>\n",
       "      <th>143003</th>\n",
       "      <td>1</td>\n",
       "      <td>Male</td>\n",
       "      <td>44</td>\n",
       "      <td>28.0</td>\n",
       "      <td>26.0</td>\n",
       "      <td>0</td>\n",
       "      <td>40454.0</td>\n",
       "      <td>217</td>\n",
       "      <td>1</td>\n",
       "      <td>1</td>\n",
       "      <td>over_2_years</td>\n",
       "      <td>1</td>\n",
       "    </tr>\n",
       "    <tr>\n",
       "      <th>286227</th>\n",
       "      <td>2</td>\n",
       "      <td>Male</td>\n",
       "      <td>76</td>\n",
       "      <td>3.0</td>\n",
       "      <td>26.0</td>\n",
       "      <td>0</td>\n",
       "      <td>33536.0</td>\n",
       "      <td>183</td>\n",
       "      <td>0</td>\n",
       "      <td>1</td>\n",
       "      <td>between_1_2_years</td>\n",
       "      <td>0</td>\n",
       "    </tr>\n",
       "    <tr>\n",
       "      <th>143004</th>\n",
       "      <td>3</td>\n",
       "      <td>Male</td>\n",
       "      <td>47</td>\n",
       "      <td>28.0</td>\n",
       "      <td>26.0</td>\n",
       "      <td>0</td>\n",
       "      <td>38294.0</td>\n",
       "      <td>27</td>\n",
       "      <td>1</td>\n",
       "      <td>1</td>\n",
       "      <td>over_2_years</td>\n",
       "      <td>1</td>\n",
       "    </tr>\n",
       "    <tr>\n",
       "      <th>190848</th>\n",
       "      <td>4</td>\n",
       "      <td>Male</td>\n",
       "      <td>21</td>\n",
       "      <td>11.0</td>\n",
       "      <td>152.0</td>\n",
       "      <td>1</td>\n",
       "      <td>28619.0</td>\n",
       "      <td>203</td>\n",
       "      <td>0</td>\n",
       "      <td>1</td>\n",
       "      <td>below_1_year</td>\n",
       "      <td>0</td>\n",
       "    </tr>\n",
       "    <tr>\n",
       "      <th>238464</th>\n",
       "      <td>5</td>\n",
       "      <td>Female</td>\n",
       "      <td>29</td>\n",
       "      <td>41.0</td>\n",
       "      <td>152.0</td>\n",
       "      <td>1</td>\n",
       "      <td>27496.0</td>\n",
       "      <td>39</td>\n",
       "      <td>0</td>\n",
       "      <td>1</td>\n",
       "      <td>below_1_year</td>\n",
       "      <td>0</td>\n",
       "    </tr>\n",
       "  </tbody>\n",
       "</table>\n",
       "</div>"
      ],
      "text/plain": [
       "        id  gender  age  region_code  policy_sales_channel   \n",
       "143003   1    Male   44         28.0                  26.0  \\\n",
       "286227   2    Male   76          3.0                  26.0   \n",
       "143004   3    Male   47         28.0                  26.0   \n",
       "190848   4    Male   21         11.0                 152.0   \n",
       "238464   5  Female   29         41.0                 152.0   \n",
       "\n",
       "        previously_insured  annual_premium  vintage  response   \n",
       "143003                   0         40454.0      217         1  \\\n",
       "286227                   0         33536.0      183         0   \n",
       "143004                   0         38294.0       27         1   \n",
       "190848                   1         28619.0      203         0   \n",
       "238464                   1         27496.0       39         0   \n",
       "\n",
       "        driving_license        vehicle_age  vehicle_damage  \n",
       "143003                1       over_2_years               1  \n",
       "286227                1  between_1_2_years               0  \n",
       "143004                1       over_2_years               1  \n",
       "190848                1       below_1_year               0  \n",
       "238464                1       below_1_year               0  "
      ]
     },
     "execution_count": 10,
     "metadata": {},
     "output_type": "execute_result"
    }
   ],
   "source": [
    "# vehicle_age\n",
    "df2['vehicle_age'] = df2['vehicle_age'].apply( lambda x: 'over_2_years' if x == '> 2 Years' else 'between_1_2_years' \n",
    "                                                                        if x == '1-2 Year' else 'below_1_year')\n",
    "# vehicle_damage\n",
    "df2['vehicle_damage'] = df2['vehicle_damage'].apply( lambda x : 1 if x == 'Yes' else 0 )\n",
    "df2.head()"
   ]
  },
  {
   "cell_type": "markdown",
   "id": "24c12715",
   "metadata": {},
   "source": [
    "# 3.0 Data Filtering"
   ]
  },
  {
   "cell_type": "code",
   "execution_count": 11,
   "id": "cb028321",
   "metadata": {
    "ExecuteTime": {
     "end_time": "2023-05-02T19:06:45.860224Z",
     "start_time": "2023-05-02T19:06:45.774068Z"
    }
   },
   "outputs": [],
   "source": [
    "df3 = df2.copy()"
   ]
  },
  {
   "cell_type": "markdown",
   "id": "f20006c4",
   "metadata": {},
   "source": [
    "# 4.0 EDA"
   ]
  },
  {
   "cell_type": "code",
   "execution_count": 12,
   "id": "ccce968d",
   "metadata": {
    "ExecuteTime": {
     "end_time": "2023-05-02T19:06:45.917141Z",
     "start_time": "2023-05-02T19:06:45.862294Z"
    }
   },
   "outputs": [],
   "source": [
    "df4 = df3.copy()"
   ]
  },
  {
   "cell_type": "markdown",
   "id": "549468cf",
   "metadata": {},
   "source": [
    "## 4.1 Univariate Analysis"
   ]
  },
  {
   "cell_type": "code",
   "execution_count": 13,
   "id": "5f6253d1",
   "metadata": {
    "ExecuteTime": {
     "end_time": "2023-05-02T19:06:46.396713Z",
     "start_time": "2023-05-02T19:06:45.922203Z"
    }
   },
   "outputs": [
    {
     "data": {
      "text/plain": [
       "<Axes: xlabel='response', ylabel='age'>"
      ]
     },
     "execution_count": 13,
     "metadata": {},
     "output_type": "execute_result"
    },
    {
     "data": {
      "image/png": "[encoded data removed]",
      "text/plain": [
       "<Figure size 640x480 with 1 Axes>"
      ]
     },
     "metadata": {},
     "output_type": "display_data"
    }
   ],
   "source": [
    "# age - vejo como está o comportamento baseado na idade\n",
    "sns.boxplot( x = 'response', y = 'age', data = df4 )"
   ]
  },
  {
   "cell_type": "code",
   "execution_count": 14,
   "id": "423c4e90",
   "metadata": {
    "ExecuteTime": {
     "end_time": "2023-05-02T19:06:47.661577Z",
     "start_time": "2023-05-02T19:06:46.402244Z"
    }
   },
   "outputs": [
    {
     "data": {
      "text/plain": [
       "<Axes: xlabel='age', ylabel='Count'>"
      ]
     },
     "execution_count": 14,
     "metadata": {},
     "output_type": "execute_result"
    },
    {
     "data": {
      "image/png": "[encoded data removed]",
      "text/plain": [
       "<Figure size 640x480 with 1 Axes>"
      ]
     },
     "metadata": {},
     "output_type": "display_data"
    }
   ],
   "source": [
    "# pessoas que não tem interesse em comprar seguro\n",
    "aux00 = df4.loc[ df4['response'] == 0 , 'age']\n",
    "sns.histplot( aux00 )"
   ]
  },
  {
   "cell_type": "code",
   "execution_count": 15,
   "id": "3f54bd77",
   "metadata": {
    "ExecuteTime": {
     "end_time": "2023-05-02T19:06:48.504049Z",
     "start_time": "2023-05-02T19:06:47.669616Z"
    },
    "hide_input": false
   },
   "outputs": [
    {
     "data": {
      "text/plain": [
       "<Axes: xlabel='age', ylabel='Count'>"
      ]
     },
     "execution_count": 15,
     "metadata": {},
     "output_type": "execute_result"
    },
    {
     "data": {
      "image/png": "[encoded data removed]",
      "text/plain": [
       "<Figure size 640x480 with 1 Axes>"
      ]
     },
     "metadata": {},
     "output_type": "display_data"
    }
   ],
   "source": [
    "# pessoas que tem interesse em comprar seguro\n",
    "aux00 = df4.loc[ df4['response'] == 1 , 'age']\n",
    "sns.histplot( aux00 )"
   ]
  },
  {
   "cell_type": "code",
   "execution_count": 16,
   "id": "89bc7355",
   "metadata": {
    "ExecuteTime": {
     "end_time": "2023-05-02T19:06:49.128062Z",
     "start_time": "2023-05-02T19:06:48.504049Z"
    }
   },
   "outputs": [
    {
     "data": {
      "text/plain": [
       "<Axes: xlabel='response', ylabel='annual_premium'>"
      ]
     },
     "execution_count": 16,
     "metadata": {},
     "output_type": "execute_result"
    },
    {
     "data": {
      "image/png": "[encoded data removed]",
      "text/plain": [
       "<Figure size 640x480 with 1 Axes>"
      ]
     },
     "metadata": {},
     "output_type": "display_data"
    }
   ],
   "source": [
    "# annual_premium \n",
    "df_aux = df4.loc[ df4['annual_premium'] < 80000, : ]\n",
    "sns.boxplot( x = 'response', y = 'annual_premium', data = df_aux  )"
   ]
  },
  {
   "cell_type": "code",
   "execution_count": 17,
   "id": "c08fff63",
   "metadata": {
    "ExecuteTime": {
     "end_time": "2023-05-02T19:06:50.807856Z",
     "start_time": "2023-05-02T19:06:49.132093Z"
    }
   },
   "outputs": [
    {
     "data": {
      "text/plain": [
       "<Axes: xlabel='annual_premium', ylabel='Count'>"
      ]
     },
     "execution_count": 17,
     "metadata": {},
     "output_type": "execute_result"
    },
    {
     "data": {
      "image/png": "[encoded data removed]",
      "text/plain": [
       "<Figure size 640x480 with 1 Axes>"
      ]
     },
     "metadata": {},
     "output_type": "display_data"
    }
   ],
   "source": [
    "# verifico a distribuição\n",
    "df_aux = df4.loc[ (df4['annual_premium'] > 10000) & (df4['annual_premium'] < 80000), : ]\n",
    "aux00 = df_aux.loc[ df4['response'] == 0 , 'annual_premium']\n",
    "sns.histplot( aux00 )"
   ]
  },
  {
   "cell_type": "code",
   "execution_count": 18,
   "id": "ec17cbcf",
   "metadata": {
    "ExecuteTime": {
     "end_time": "2023-05-02T19:06:51.891015Z",
     "start_time": "2023-05-02T19:06:50.815926Z"
    }
   },
   "outputs": [
    {
     "data": {
      "text/plain": [
       "<Axes: xlabel='annual_premium', ylabel='Count'>"
      ]
     },
     "execution_count": 18,
     "metadata": {},
     "output_type": "execute_result"
    },
    {
     "data": {
      "image/png": "[encoded data removed]",
      "text/plain": [
       "<Figure size 640x480 with 1 Axes>"
      ]
     },
     "metadata": {},
     "output_type": "display_data"
    }
   ],
   "source": [
    "# verifico a distribuição\n",
    "aux00 = df_aux.loc[ df4['response'] == 1 , 'annual_premium']\n",
    "sns.histplot( aux00 )"
   ]
  },
  {
   "cell_type": "code",
   "execution_count": 19,
   "id": "89b68db9",
   "metadata": {
    "ExecuteTime": {
     "end_time": "2023-05-02T19:06:52.384178Z",
     "start_time": "2023-05-02T19:06:51.892589Z"
    }
   },
   "outputs": [
    {
     "data": {
      "text/plain": [
       "<Axes: xlabel='response', ylabel='driving_license'>"
      ]
     },
     "execution_count": 19,
     "metadata": {},
     "output_type": "execute_result"
    },
    {
     "data": {
      "image/png": "[encoded data removed]",
      "text/plain": [
       "<Figure size 640x480 with 1 Axes>"
      ]
     },
     "metadata": {},
     "output_type": "display_data"
    }
   ],
   "source": [
    "# driving_license\n",
    "aux = df4[[ 'driving_license', 'response' ]].groupby( by = 'response' ).sum().reset_index()\n",
    "sns.barplot( x = 'response', y = 'driving_license', data = aux )"
   ]
  },
  {
   "cell_type": "code",
   "execution_count": 20,
   "id": "5e87e15b",
   "metadata": {
    "ExecuteTime": {
     "end_time": "2023-05-02T19:06:52.415984Z",
     "start_time": "2023-05-02T19:06:52.384178Z"
    }
   },
   "outputs": [
    {
     "data": {
      "text/html": [
       "<div>\n",
       "<style scoped>\n",
       "    .dataframe tbody tr th:only-of-type {\n",
       "        vertical-align: middle;\n",
       "    }\n",
       "\n",
       "    .dataframe tbody tr th {\n",
       "        vertical-align: top;\n",
       "    }\n",
       "\n",
       "    .dataframe thead th {\n",
       "        text-align: right;\n",
       "    }\n",
       "</style>\n",
       "<table border=\"1\" class=\"dataframe\">\n",
       "  <thead>\n",
       "    <tr style=\"text-align: right;\">\n",
       "      <th></th>\n",
       "      <th>response</th>\n",
       "      <th>driving_license</th>\n",
       "      <th>driving_license_perc</th>\n",
       "    </tr>\n",
       "  </thead>\n",
       "  <tbody>\n",
       "    <tr>\n",
       "      <th>0</th>\n",
       "      <td>0</td>\n",
       "      <td>333628</td>\n",
       "      <td>0.877283</td>\n",
       "    </tr>\n",
       "    <tr>\n",
       "      <th>1</th>\n",
       "      <td>1</td>\n",
       "      <td>46669</td>\n",
       "      <td>0.122717</td>\n",
       "    </tr>\n",
       "  </tbody>\n",
       "</table>\n",
       "</div>"
      ],
      "text/plain": [
       "   response  driving_license  driving_license_perc\n",
       "0         0           333628              0.877283\n",
       "1         1            46669              0.122717"
      ]
     },
     "execution_count": 20,
     "metadata": {},
     "output_type": "execute_result"
    }
   ],
   "source": [
    "# driving_license em %\n",
    "aux['driving_license_perc'] = aux['driving_license'] / aux['driving_license'].sum() \n",
    "aux"
   ]
  },
  {
   "cell_type": "code",
   "execution_count": 21,
   "id": "cab83fe5",
   "metadata": {
    "ExecuteTime": {
     "end_time": "2023-05-02T19:06:53.129716Z",
     "start_time": "2023-05-02T19:06:52.422523Z"
    }
   },
   "outputs": [
    {
     "data": {
      "text/plain": [
       "<Axes: xlabel='region_code', ylabel='id'>"
      ]
     },
     "execution_count": 21,
     "metadata": {},
     "output_type": "execute_result"
    },
    {
     "data": {
      "image/png": "[encoded data removed]",
      "text/plain": [
       "<Figure size 640x480 with 1 Axes>"
      ]
     },
     "metadata": {},
     "output_type": "display_data"
    }
   ],
   "source": [
    "# region_code\n",
    "aux0 = df4[['id','region_code','response']].groupby( by = ['region_code','response'] ).count().reset_index()\n",
    "sns.scatterplot( x = 'region_code', y = 'id', hue = 'response', data = aux0 )"
   ]
  },
  {
   "cell_type": "code",
   "execution_count": 22,
   "id": "ac6c35ca",
   "metadata": {
    "ExecuteTime": {
     "end_time": "2023-05-02T19:06:53.258101Z",
     "start_time": "2023-05-02T19:06:53.134335Z"
    }
   },
   "outputs": [
    {
     "data": {
      "text/html": [
       "<div>\n",
       "<style scoped>\n",
       "    .dataframe tbody tr th:only-of-type {\n",
       "        vertical-align: middle;\n",
       "    }\n",
       "\n",
       "    .dataframe tbody tr th {\n",
       "        vertical-align: top;\n",
       "    }\n",
       "\n",
       "    .dataframe thead th {\n",
       "        text-align: right;\n",
       "    }\n",
       "</style>\n",
       "<table border=\"1\" class=\"dataframe\">\n",
       "  <thead>\n",
       "    <tr style=\"text-align: right;\">\n",
       "      <th>response</th>\n",
       "      <th>0</th>\n",
       "      <th>1</th>\n",
       "    </tr>\n",
       "    <tr>\n",
       "      <th>previously_insured</th>\n",
       "      <th></th>\n",
       "      <th></th>\n",
       "    </tr>\n",
       "  </thead>\n",
       "  <tbody>\n",
       "    <tr>\n",
       "      <th>0</th>\n",
       "      <td>0.774546</td>\n",
       "      <td>0.225454</td>\n",
       "    </tr>\n",
       "    <tr>\n",
       "      <th>1</th>\n",
       "      <td>0.999095</td>\n",
       "      <td>0.000905</td>\n",
       "    </tr>\n",
       "  </tbody>\n",
       "</table>\n",
       "</div>"
      ],
      "text/plain": [
       "response                   0         1\n",
       "previously_insured                    \n",
       "0                   0.774546  0.225454\n",
       "1                   0.999095  0.000905"
      ]
     },
     "execution_count": 22,
     "metadata": {},
     "output_type": "execute_result"
    }
   ],
   "source": [
    "# previously_insured\n",
    "pd.crosstab( df4['previously_insured'], df4['response'] ).apply( lambda x: x / x.sum(), axis = 1 )"
   ]
  },
  {
   "cell_type": "code",
   "execution_count": 37,
   "id": "0f7b646e",
   "metadata": {
    "ExecuteTime": {
     "end_time": "2023-05-02T19:21:35.837721Z",
     "start_time": "2023-05-02T19:21:35.685678Z"
    }
   },
   "outputs": [
    {
     "data": {
      "text/html": [
       "<div>\n",
       "<style scoped>\n",
       "    .dataframe tbody tr th:only-of-type {\n",
       "        vertical-align: middle;\n",
       "    }\n",
       "\n",
       "    .dataframe tbody tr th {\n",
       "        vertical-align: top;\n",
       "    }\n",
       "\n",
       "    .dataframe thead th {\n",
       "        text-align: right;\n",
       "    }\n",
       "</style>\n",
       "<table border=\"1\" class=\"dataframe\">\n",
       "  <thead>\n",
       "    <tr style=\"text-align: right;\">\n",
       "      <th></th>\n",
       "      <th>vehicle_age</th>\n",
       "      <th>response</th>\n",
       "      <th>proportion</th>\n",
       "    </tr>\n",
       "  </thead>\n",
       "  <tbody>\n",
       "    <tr>\n",
       "      <th>1</th>\n",
       "      <td>below_1_year</td>\n",
       "      <td>0</td>\n",
       "      <td>0.413488</td>\n",
       "    </tr>\n",
       "    <tr>\n",
       "      <th>4</th>\n",
       "      <td>below_1_year</td>\n",
       "      <td>1</td>\n",
       "      <td>0.018897</td>\n",
       "    </tr>\n",
       "    <tr>\n",
       "      <th>0</th>\n",
       "      <td>between_1_2_years</td>\n",
       "      <td>0</td>\n",
       "      <td>0.434285</td>\n",
       "    </tr>\n",
       "    <tr>\n",
       "      <th>2</th>\n",
       "      <td>between_1_2_years</td>\n",
       "      <td>1</td>\n",
       "      <td>0.091328</td>\n",
       "    </tr>\n",
       "    <tr>\n",
       "      <th>3</th>\n",
       "      <td>over_2_years</td>\n",
       "      <td>0</td>\n",
       "      <td>0.029663</td>\n",
       "    </tr>\n",
       "    <tr>\n",
       "      <th>5</th>\n",
       "      <td>over_2_years</td>\n",
       "      <td>1</td>\n",
       "      <td>0.012338</td>\n",
       "    </tr>\n",
       "  </tbody>\n",
       "</table>\n",
       "</div>"
      ],
      "text/plain": [
       "         vehicle_age  response  proportion\n",
       "1       below_1_year         0    0.413488\n",
       "4       below_1_year         1    0.018897\n",
       "0  between_1_2_years         0    0.434285\n",
       "2  between_1_2_years         1    0.091328\n",
       "3       over_2_years         0    0.029663\n",
       "5       over_2_years         1    0.012338"
      ]
     },
     "execution_count": 37,
     "metadata": {},
     "output_type": "execute_result"
    }
   ],
   "source": [
    "# vehicle_age\n",
    "df4[['vehicle_age','response']].value_counts( normalize = True ).reset_index().sort_values(by = 'vehicle_age')"
   ]
  },
  {
   "cell_type": "code",
   "execution_count": 55,
   "id": "48f7f315",
   "metadata": {
    "ExecuteTime": {
     "end_time": "2023-05-02T19:34:55.790023Z",
     "start_time": "2023-05-02T19:34:52.934827Z"
    }
   },
   "outputs": [
    {
     "data": {
      "text/plain": [
       "<Axes: xlabel='response', ylabel='policy_sales_channel'>"
      ]
     },
     "execution_count": 55,
     "metadata": {},
     "output_type": "execute_result"
    },
    {
     "data": {
      "image/png": "[encoded data removed]",
      "text/plain": [
       "<Figure size 3500x1500 with 1 Axes>"
      ]
     },
     "metadata": {},
     "output_type": "display_data"
    }
   ],
   "source": [
    "# policy_sales_channel\n",
    "plt.figure( figsize = (35,15) )\n",
    "aux = df4[['policy_sales_channel','response']].groupby( 'policy_sales_channel' ).sum().reset_index()\n",
    "sns.barplot( x = 'response', y = 'policy_sales_channel', data = aux )"
   ]
  },
  {
   "cell_type": "code",
   "execution_count": 56,
   "id": "7f5a60f6",
   "metadata": {
    "ExecuteTime": {
     "end_time": "2023-05-02T19:41:30.795762Z",
     "start_time": "2023-05-02T19:41:30.348054Z"
    }
   },
   "outputs": [
    {
     "data": {
      "text/plain": [
       "<Axes: xlabel='response', ylabel='vintage'>"
      ]
     },
     "execution_count": 56,
     "metadata": {},
     "output_type": "execute_result"
    },
    {
     "data": {
      "image/png": "[encoded data removed]",
      "text/plain": [
       "<Figure size 640x480 with 1 Axes>"
      ]
     },
     "metadata": {},
     "output_type": "display_data"
    }
   ],
   "source": [
    "# vintage\n",
    "sns.boxplot( x = 'response', y = 'vintage', data = df4 )"
   ]
  },
  {
   "cell_type": "code",
   "execution_count": 57,
   "id": "a855d448",
   "metadata": {
    "ExecuteTime": {
     "end_time": "2023-05-02T19:42:09.081147Z",
     "start_time": "2023-05-02T19:42:08.461201Z"
    }
   },
   "outputs": [
    {
     "data": {
      "text/plain": [
       "<Axes: xlabel='vintage', ylabel='Count'>"
      ]
     },
     "execution_count": 57,
     "metadata": {},
     "output_type": "execute_result"
    },
    {
     "data": {
      "image/png": "[encoded data removed]",
      "text/plain": [
       "<Figure size 640x480 with 1 Axes>"
      ]
     },
     "metadata": {},
     "output_type": "display_data"
    }
   ],
   "source": [
    "aux00 = df_aux.loc[ df4['response'] == 1 , 'vintage']\n",
    "sns.histplot( aux00 )"
   ]
  },
  {
   "cell_type": "code",
   "execution_count": 58,
   "id": "e2c1b16e",
   "metadata": {
    "ExecuteTime": {
     "end_time": "2023-05-02T19:42:30.575727Z",
     "start_time": "2023-05-02T19:42:29.495301Z"
    }
   },
   "outputs": [
    {
     "data": {
      "text/plain": [
       "<Axes: xlabel='vintage', ylabel='Count'>"
      ]
     },
     "execution_count": 58,
     "metadata": {},
     "output_type": "execute_result"
    },
    {
     "data": {
      "image/png": "[encoded data removed]",
      "text/plain": [
       "<Figure size 640x480 with 1 Axes>"
      ]
     },
     "metadata": {},
     "output_type": "display_data"
    }
   ],
   "source": [
    "aux00 = df_aux.loc[ df4['response'] == 0 , 'vintage']\n",
    "sns.histplot( aux00 )"
   ]
  },
  {
   "cell_type": "markdown",
   "id": "72611407",
   "metadata": {},
   "source": [
    "# 5.0 Data Preparation"
   ]
  },
  {
   "cell_type": "code",
   "execution_count": 59,
   "id": "136bc513",
   "metadata": {
    "ExecuteTime": {
     "end_time": "2023-05-02T19:51:19.540474Z",
     "start_time": "2023-05-02T19:51:19.484343Z"
    }
   },
   "outputs": [],
   "source": [
    "df5 = df4.copy()"
   ]
  },
  {
   "cell_type": "code",
   "execution_count": 60,
   "id": "ef2be8a8",
   "metadata": {
    "ExecuteTime": {
     "end_time": "2023-05-02T19:51:27.006557Z",
     "start_time": "2023-05-02T19:51:26.989737Z"
    }
   },
   "outputs": [
    {
     "data": {
      "text/plain": [
       "Index(['id', 'gender', 'age', 'region_code', 'policy_sales_channel',\n",
       "       'previously_insured', 'annual_premium', 'vintage', 'response',\n",
       "       'driving_license', 'vehicle_age', 'vehicle_damage'],\n",
       "      dtype='object')"
      ]
     },
     "execution_count": 60,
     "metadata": {},
     "output_type": "execute_result"
    }
   ],
   "source": [
    "df5.columns"
   ]
  },
  {
   "cell_type": "markdown",
   "id": "7146fad1",
   "metadata": {},
   "source": [
    "## Standardization"
   ]
  },
  {
   "cell_type": "code",
   "execution_count": null,
   "id": "26f674a9",
   "metadata": {},
   "outputs": [],
   "source": [
    "# annual_premium"
   ]
  },
  {
   "cell_type": "markdown",
   "id": "6ed82b9d",
   "metadata": {},
   "source": [
    "## Rescaling"
   ]
  },
  {
   "cell_type": "code",
   "execution_count": null,
   "id": "aab73b93",
   "metadata": {},
   "outputs": [],
   "source": [
    "# age\n",
    "\n",
    "# vintage\n"
   ]
  },
  {
   "cell_type": "markdown",
   "id": "b70b4852",
   "metadata": {},
   "source": [
    "## Encoder"
   ]
  },
  {
   "cell_type": "code",
   "execution_count": null,
   "id": "552c4082",
   "metadata": {},
   "outputs": [],
   "source": [
    "# driver licencse\n",
    "\n",
    "# region code\n",
    "\n",
    "# previously_insured\n",
    "\n",
    "# vehicle_age\n",
    "\n",
    "# vehicle_damage\n",
    "\n",
    "# policy_sales_channel\n",
    "\n"
   ]
  },
  {
   "cell_type": "markdown",
   "id": "3a1dbb52",
   "metadata": {},
   "source": [
    "# 6.0 Feature Selection"
   ]
  },
  {
   "cell_type": "markdown",
   "id": "11a8fd62",
   "metadata": {},
   "source": [
    "# 7.0 Machine Learning "
   ]
  }
 ],
 "metadata": {
  "kernelspec": {
   "display_name": "pa004",
   "language": "python",
   "name": "pa004"
  },
  "language_info": {
   "codemirror_mode": {
    "name": "ipython",
    "version": 3
   },
   "file_extension": ".py",
   "mimetype": "text/x-python",
   "name": "python",
   "nbconvert_exporter": "python",
   "pygments_lexer": "ipython3",
   "version": "3.9.16"
  }
 },
 "nbformat": 4,
 "nbformat_minor": 5
}
